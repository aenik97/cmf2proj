{
 "cells": [
  {
   "cell_type": "markdown",
   "id": "69661603",
   "metadata": {},
   "source": [
    "### Выгрузка данных"
   ]
  },
  {
   "cell_type": "code",
   "execution_count": 29,
   "id": "508a21e2",
   "metadata": {},
   "outputs": [
    {
     "name": "stdout",
     "output_type": "stream",
     "text": [
      "Task ID: '6167ff770895fafb4a9d8d4b'.\n",
      "Total estimated consumption: 500.02 processing units.\n",
      "Task confirmed. Starting download..\n",
      "100.0 % completed.\n"
     ]
    },
    {
     "data": {
      "text/html": [
       "<div>\n",
       "<style scoped>\n",
       "    .dataframe tbody tr th:only-of-type {\n",
       "        vertical-align: middle;\n",
       "    }\n",
       "\n",
       "    .dataframe tbody tr th {\n",
       "        vertical-align: top;\n",
       "    }\n",
       "\n",
       "    .dataframe thead th {\n",
       "        text-align: right;\n",
       "    }\n",
       "</style>\n",
       "<table border=\"1\" class=\"dataframe\">\n",
       "  <thead>\n",
       "    <tr style=\"text-align: right;\">\n",
       "      <th></th>\n",
       "      <th>date</th>\n",
       "      <th>timestamp</th>\n",
       "      <th>price</th>\n",
       "      <th>target</th>\n",
       "    </tr>\n",
       "  </thead>\n",
       "  <tbody>\n",
       "    <tr>\n",
       "      <th>0</th>\n",
       "      <td>28-08-2020 17:00:00</td>\n",
       "      <td>1.598634e+09</td>\n",
       "      <td>11545.0</td>\n",
       "      <td>1</td>\n",
       "    </tr>\n",
       "    <tr>\n",
       "      <th>1</th>\n",
       "      <td>27-08-2020 17:00:00</td>\n",
       "      <td>1.598548e+09</td>\n",
       "      <td>11343.0</td>\n",
       "      <td>0</td>\n",
       "    </tr>\n",
       "    <tr>\n",
       "      <th>2</th>\n",
       "      <td>26-08-2020 17:00:00</td>\n",
       "      <td>1.598461e+09</td>\n",
       "      <td>11471.0</td>\n",
       "      <td>1</td>\n",
       "    </tr>\n",
       "    <tr>\n",
       "      <th>3</th>\n",
       "      <td>25-08-2020 17:00:00</td>\n",
       "      <td>1.598375e+09</td>\n",
       "      <td>11341.0</td>\n",
       "      <td>0</td>\n",
       "    </tr>\n",
       "    <tr>\n",
       "      <th>4</th>\n",
       "      <td>23-08-2020 17:00:00</td>\n",
       "      <td>1.598202e+09</td>\n",
       "      <td>11663.0</td>\n",
       "      <td>0</td>\n",
       "    </tr>\n",
       "  </tbody>\n",
       "</table>\n",
       "</div>"
      ],
      "text/plain": [
       "                  date     timestamp    price  target\n",
       "0  28-08-2020 17:00:00  1.598634e+09  11545.0       1\n",
       "1  27-08-2020 17:00:00  1.598548e+09  11343.0       0\n",
       "2  26-08-2020 17:00:00  1.598461e+09  11471.0       1\n",
       "3  25-08-2020 17:00:00  1.598375e+09  11341.0       0\n",
       "4  23-08-2020 17:00:00  1.598202e+09  11663.0       0"
      ]
     },
     "execution_count": 29,
     "metadata": {},
     "output_type": "execute_result"
    }
   ],
   "source": [
    "import pandas as pd\n",
    "import numpy as np\n",
    "import OpenBlender\n",
    "import json\n",
    "token = \"your_token\"\n",
    "action = 'API_getObservationsFromDataset'\n",
    "# ANCHOR: 'Bitcoin vs USD'\n",
    "  \n",
    "parameters = { \n",
    "    'token' : token,\n",
    "    'id_dataset' : '5d4c3af79516290b01c83f51',\n",
    "    'date_filter':{\"start_date\" : \"2020-01-01\",\n",
    "                   \"end_date\" : \"2020-08-29\"} \n",
    "}\n",
    "df = pd.read_json(json.dumps(OpenBlender.call(action, parameters)['sample']), convert_dates=False, convert_axes=False).sort_values('timestamp', ascending=False)\n",
    "df.reset_index(drop=True, inplace=True)\n",
    "df['date'] = [OpenBlender.unixToDate(ts, timezone = 'GMT') for ts in df.timestamp]\n",
    "df = df.drop('timestamp', axis = 1)\n",
    "\n",
    "df['log_diff'] = np.log(df['price']) - np.log(df['open'])\n",
    "df['target'] = [1 if log_diff > 0 else 0 for log_diff in df['log_diff']]\n",
    "\n",
    "data_format = '%d-%m-%Y %H:%M:%S'\n",
    "timezone = 'GMT'\n",
    "df['u_timestamp'] = OpenBlender.dateToUnix(df['date'], \n",
    "                                           date_format = data_format, \n",
    "                                           timezone = timezone)\n",
    "df = df[['date', 'u_timestamp', 'price', 'target']]\n",
    "df = df.rename(columns={\"u_timestamp\": \"timestamp\"})\n",
    "df.head()"
   ]
  },
  {
   "cell_type": "code",
   "execution_count": 30,
   "id": "ef463999",
   "metadata": {},
   "outputs": [
    {
     "name": "stdout",
     "output_type": "stream",
     "text": [
      "From : 01-01-2020 17:00:00\n",
      "Until: 28-08-2020 17:00:00\n"
     ]
    }
   ],
   "source": [
    "search_keyword = 'bitcoin'\n",
    "df = df.sort_values('timestamp').reset_index(drop = True)\n",
    "print('From : ' + OpenBlender.unixToDate(min(df.timestamp)))\n",
    "print('Until: ' + OpenBlender.unixToDate(max(df.timestamp)))\n",
    "search_results = OpenBlender.searchTimeBlends(token, df.timestamp, search_keyword)"
   ]
  },
  {
   "cell_type": "code",
   "execution_count": 31,
   "id": "e96a879e",
   "metadata": {},
   "outputs": [
    {
     "name": "stdout",
     "output_type": "stream",
     "text": [
      "Task ID: '6167ff7c0895fafb4a9d8d4c'.\n",
      "Total estimated consumption: 1555.2 processing units.\n",
      "Task confirmed. Starting download..\n",
      "100%\n"
     ]
    },
    {
     "data": {
      "text/html": [
       "<div>\n",
       "<style scoped>\n",
       "    .dataframe tbody tr th:only-of-type {\n",
       "        vertical-align: middle;\n",
       "    }\n",
       "\n",
       "    .dataframe tbody tr th {\n",
       "        vertical-align: top;\n",
       "    }\n",
       "\n",
       "    .dataframe thead th {\n",
       "        text-align: right;\n",
       "    }\n",
       "</style>\n",
       "<table border=\"1\" class=\"dataframe\">\n",
       "  <thead>\n",
       "    <tr style=\"text-align: right;\">\n",
       "      <th></th>\n",
       "      <th>date</th>\n",
       "      <th>timestamp</th>\n",
       "      <th>price</th>\n",
       "      <th>target</th>\n",
       "      <th>BITCOIN_NE.text_COUNT_last1days</th>\n",
       "      <th>BITCOIN_NE.text_last1days</th>\n",
       "    </tr>\n",
       "  </thead>\n",
       "  <tbody>\n",
       "    <tr>\n",
       "      <th>0</th>\n",
       "      <td>01-01-2020 17:00:00</td>\n",
       "      <td>1.577898e+09</td>\n",
       "      <td>7212.7</td>\n",
       "      <td>1</td>\n",
       "      <td>3</td>\n",
       "      <td>[etoro ceo yoni assia on reaching 12 million u...</td>\n",
       "    </tr>\n",
       "    <tr>\n",
       "      <th>1</th>\n",
       "      <td>02-01-2020 17:00:00</td>\n",
       "      <td>1.577984e+09</td>\n",
       "      <td>6989.4</td>\n",
       "      <td>0</td>\n",
       "      <td>7</td>\n",
       "      <td>[government confirms crypto profits not taxabl...</td>\n",
       "    </tr>\n",
       "    <tr>\n",
       "      <th>2</th>\n",
       "      <td>03-01-2020 17:00:00</td>\n",
       "      <td>1.578071e+09</td>\n",
       "      <td>7367.5</td>\n",
       "      <td>1</td>\n",
       "      <td>8</td>\n",
       "      <td>[ticker tool uses the bch blockchain to provid...</td>\n",
       "    </tr>\n",
       "    <tr>\n",
       "      <th>3</th>\n",
       "      <td>04-01-2020 17:00:00</td>\n",
       "      <td>1.578157e+09</td>\n",
       "      <td>7369.8</td>\n",
       "      <td>0</td>\n",
       "      <td>6</td>\n",
       "      <td>[crypto fundraising is changing again in 2020 ...</td>\n",
       "    </tr>\n",
       "    <tr>\n",
       "      <th>4</th>\n",
       "      <td>05-01-2020 17:00:00</td>\n",
       "      <td>1.578244e+09</td>\n",
       "      <td>7364.6</td>\n",
       "      <td>0</td>\n",
       "      <td>5</td>\n",
       "      <td>[subhash chandra garg on the future of crypto ...</td>\n",
       "    </tr>\n",
       "  </tbody>\n",
       "</table>\n",
       "</div>"
      ],
      "text/plain": [
       "                  date     timestamp   price  target  \\\n",
       "0  01-01-2020 17:00:00  1.577898e+09  7212.7       1   \n",
       "1  02-01-2020 17:00:00  1.577984e+09  6989.4       0   \n",
       "2  03-01-2020 17:00:00  1.578071e+09  7367.5       1   \n",
       "3  04-01-2020 17:00:00  1.578157e+09  7369.8       0   \n",
       "4  05-01-2020 17:00:00  1.578244e+09  7364.6       0   \n",
       "\n",
       "   BITCOIN_NE.text_COUNT_last1days  \\\n",
       "0                                3   \n",
       "1                                7   \n",
       "2                                8   \n",
       "3                                6   \n",
       "4                                5   \n",
       "\n",
       "                           BITCOIN_NE.text_last1days  \n",
       "0  [etoro ceo yoni assia on reaching 12 million u...  \n",
       "1  [government confirms crypto profits not taxabl...  \n",
       "2  [ticker tool uses the bch blockchain to provid...  \n",
       "3  [crypto fundraising is changing again in 2020 ...  \n",
       "4  [subhash chandra garg on the future of crypto ...  "
      ]
     },
     "execution_count": 31,
     "metadata": {},
     "output_type": "execute_result"
    }
   ],
   "source": [
    "# We need to add the 'id_dataset' and the 'feature' name we want.\n",
    "\n",
    "blend_source = {\n",
    "                'id_dataset':'5ea2039095162936337156c9',\n",
    "                'feature' : 'text'\n",
    "            }\n",
    "\n",
    "# Now, let's 'timeBlend' it to our dataset\n",
    "df_blend = OpenBlender.timeBlend( token = token,\n",
    "                                  anchor_ts = df.timestamp,\n",
    "                                  blend_source = blend_source,\n",
    "                                  blend_type = 'agg_in_intervals',\n",
    "                                  interval_size = 60 * 60 * 24,\n",
    "                                  direction = 'time_prior',\n",
    "                                  interval_output = 'list',\n",
    "                                  missing_values = 'raw')\n",
    "df = pd.concat([df, df_blend.loc[:, df_blend.columns != 'timestamp']], axis = 1)\n",
    "df.head()"
   ]
  },
  {
   "cell_type": "code",
   "execution_count": 32,
   "id": "1334da08",
   "metadata": {},
   "outputs": [
    {
     "data": {
      "text/plain": [
       "5.677966101694915"
      ]
     },
     "execution_count": 32,
     "metadata": {},
     "output_type": "execute_result"
    }
   ],
   "source": [
    "df_blend['BITCOIN_NE.text_COUNT_last1days'].mean()"
   ]
  },
  {
   "cell_type": "code",
   "execution_count": 33,
   "id": "a7a1bc24",
   "metadata": {},
   "outputs": [
    {
     "name": "stdout",
     "output_type": "stream",
     "text": [
      "Task ID: '6167ff800895fafb4a9d8d4b'.\n",
      "Total estimated consumption: 500.36 processing units.\n",
      "Task confirmed. Starting download..\n",
      "25.0 %\n",
      "50.0 %\n",
      "75.0 %\n",
      "100.0 % completed.\n"
     ]
    },
    {
     "data": {
      "text/html": [
       "<div>\n",
       "<style scoped>\n",
       "    .dataframe tbody tr th:only-of-type {\n",
       "        vertical-align: middle;\n",
       "    }\n",
       "\n",
       "    .dataframe tbody tr th {\n",
       "        vertical-align: top;\n",
       "    }\n",
       "\n",
       "    .dataframe thead th {\n",
       "        text-align: right;\n",
       "    }\n",
       "</style>\n",
       "<table border=\"1\" class=\"dataframe\">\n",
       "  <thead>\n",
       "    <tr style=\"text-align: right;\">\n",
       "      <th></th>\n",
       "      <th>re_tweeter</th>\n",
       "      <th>links</th>\n",
       "      <th>author</th>\n",
       "      <th>text</th>\n",
       "      <th>hashtags</th>\n",
       "      <th>reply_count</th>\n",
       "      <th>associated_tweet</th>\n",
       "      <th>timestamp</th>\n",
       "      <th>mentions</th>\n",
       "      <th>author_id</th>\n",
       "      <th>retweet_count</th>\n",
       "      <th>type</th>\n",
       "      <th>id</th>\n",
       "      <th>favorite_count</th>\n",
       "    </tr>\n",
       "  </thead>\n",
       "  <tbody>\n",
       "    <tr>\n",
       "      <th>0</th>\n",
       "      <td></td>\n",
       "      <td>[https:\\/\\/t.co\\/WGlxA4Ak7Q]</td>\n",
       "      <td>CoinJournal</td>\n",
       "      <td>#Markets #Etoro Where to buy Ripple as XRP gea...</td>\n",
       "      <td></td>\n",
       "      <td></td>\n",
       "      <td></td>\n",
       "      <td>1634135588</td>\n",
       "      <td></td>\n",
       "      <td></td>\n",
       "      <td></td>\n",
       "      <td>Tweet</td>\n",
       "      <td>1448295744524328960</td>\n",
       "      <td></td>\n",
       "    </tr>\n",
       "    <tr>\n",
       "      <th>1</th>\n",
       "      <td></td>\n",
       "      <td>[https:\\/\\/t.co\\/TFusSmwP1W]</td>\n",
       "      <td>CoinJournal</td>\n",
       "      <td>#Markets #eToro Where to buy Maker as MKR sees...</td>\n",
       "      <td></td>\n",
       "      <td></td>\n",
       "      <td></td>\n",
       "      <td>1634134712</td>\n",
       "      <td></td>\n",
       "      <td></td>\n",
       "      <td></td>\n",
       "      <td>Tweet</td>\n",
       "      <td>1448292073669414912</td>\n",
       "      <td></td>\n",
       "    </tr>\n",
       "    <tr>\n",
       "      <th>2</th>\n",
       "      <td></td>\n",
       "      <td>[https:\\/\\/t.co\\/P2cnZkQ5Rq]</td>\n",
       "      <td>CoinJournal</td>\n",
       "      <td>#Markets #eToro Where to buy TRON as TRX sees ...</td>\n",
       "      <td></td>\n",
       "      <td></td>\n",
       "      <td></td>\n",
       "      <td>1634131653</td>\n",
       "      <td></td>\n",
       "      <td></td>\n",
       "      <td></td>\n",
       "      <td>Tweet</td>\n",
       "      <td>1448279240630104064</td>\n",
       "      <td></td>\n",
       "    </tr>\n",
       "    <tr>\n",
       "      <th>3</th>\n",
       "      <td></td>\n",
       "      <td>[https:\\/\\/t.co\\/efeX5JO8WR]</td>\n",
       "      <td>CoinJournal</td>\n",
       "      <td>#Markets #eToro Where to buy Binance Coin as B...</td>\n",
       "      <td></td>\n",
       "      <td></td>\n",
       "      <td></td>\n",
       "      <td>1634131113</td>\n",
       "      <td></td>\n",
       "      <td></td>\n",
       "      <td></td>\n",
       "      <td>Tweet</td>\n",
       "      <td>1448276976213508096</td>\n",
       "      <td></td>\n",
       "    </tr>\n",
       "    <tr>\n",
       "      <th>4</th>\n",
       "      <td></td>\n",
       "      <td>[https:\\/\\/t.co\\/1L04qPbKtA]</td>\n",
       "      <td>CoinJournal</td>\n",
       "      <td>#Markets #Bitcoin US is now the top destinatio...</td>\n",
       "      <td></td>\n",
       "      <td></td>\n",
       "      <td></td>\n",
       "      <td>1634129464</td>\n",
       "      <td></td>\n",
       "      <td></td>\n",
       "      <td></td>\n",
       "      <td>Tweet</td>\n",
       "      <td>1448270060699586560</td>\n",
       "      <td></td>\n",
       "    </tr>\n",
       "  </tbody>\n",
       "</table>\n",
       "</div>"
      ],
      "text/plain": [
       "  re_tweeter                         links       author  \\\n",
       "0             [https:\\/\\/t.co\\/WGlxA4Ak7Q]  CoinJournal   \n",
       "1             [https:\\/\\/t.co\\/TFusSmwP1W]  CoinJournal   \n",
       "2             [https:\\/\\/t.co\\/P2cnZkQ5Rq]  CoinJournal   \n",
       "3             [https:\\/\\/t.co\\/efeX5JO8WR]  CoinJournal   \n",
       "4             [https:\\/\\/t.co\\/1L04qPbKtA]  CoinJournal   \n",
       "\n",
       "                                                text hashtags reply_count  \\\n",
       "0  #Markets #Etoro Where to buy Ripple as XRP gea...                        \n",
       "1  #Markets #eToro Where to buy Maker as MKR sees...                        \n",
       "2  #Markets #eToro Where to buy TRON as TRX sees ...                        \n",
       "3  #Markets #eToro Where to buy Binance Coin as B...                        \n",
       "4  #Markets #Bitcoin US is now the top destinatio...                        \n",
       "\n",
       "  associated_tweet   timestamp mentions author_id retweet_count   type  \\\n",
       "0                   1634135588                                   Tweet   \n",
       "1                   1634134712                                   Tweet   \n",
       "2                   1634131653                                   Tweet   \n",
       "3                   1634131113                                   Tweet   \n",
       "4                   1634129464                                   Tweet   \n",
       "\n",
       "                    id favorite_count  \n",
       "0  1448295744524328960                 \n",
       "1  1448292073669414912                 \n",
       "2  1448279240630104064                 \n",
       "3  1448276976213508096                 \n",
       "4  1448270060699586560                 "
      ]
     },
     "execution_count": 33,
     "metadata": {},
     "output_type": "execute_result"
    }
   ],
   "source": [
    "from io import StringIO\n",
    "\n",
    "action = 'API_getObservationsFromDataset'\n",
    "\n",
    "# ANCHOR: 'CoinJournal Tweet'\n",
    "\n",
    "        \n",
    "parameters = { \n",
    "    \t'token': \"your_token\",\n",
    "        'id_user':'6151d8659516292e82e51d85',\n",
    "        'id_dataset':'5ea20b4e95162936348f141d' \n",
    "}\n",
    "        \n",
    "\n",
    "df_v2 = pd.read_json(StringIO(json.dumps(OpenBlender.call(action, parameters)['sample'])), convert_dates=False, convert_axes=False).sort_values('timestamp', ascending=False)\n",
    "df_v2.reset_index(drop=True, inplace=True)\n",
    "df_v2.head()"
   ]
  },
  {
   "cell_type": "markdown",
   "id": "8c964af6",
   "metadata": {},
   "source": [
    "### бленд 2 вариант"
   ]
  },
  {
   "cell_type": "code",
   "execution_count": 35,
   "id": "3cc55240",
   "metadata": {},
   "outputs": [
    {
     "name": "stdout",
     "output_type": "stream",
     "text": [
      "Task ID: '6167ffaf0895fafb4a9d8d4c'.\n",
      "Total estimated consumption: 1555.2 processing units.\n",
      "Task confirmed. Starting download..\n",
      "100%\n"
     ]
    }
   ],
   "source": [
    "blend_source = {\n",
    "                'id_dataset':'5ea20b4e95162936348f141d',\n",
    "                'feature' : 'text'\n",
    "            }\n",
    "\n",
    "# Now, let's 'timeBlend' it to our dataset\n",
    "df_blend_v2 = OpenBlender.timeBlend( token = token,\n",
    "                                  anchor_ts = df.timestamp,\n",
    "                                  blend_source = blend_source,\n",
    "                                  blend_type = 'agg_in_intervals',\n",
    "                                  interval_size = 60 * 60 * 24,\n",
    "                                  direction = 'time_prior',\n",
    "                                  interval_output = 'list',\n",
    "                                  missing_values = 'raw')"
   ]
  },
  {
   "cell_type": "code",
   "execution_count": 36,
   "id": "b2c4d928",
   "metadata": {},
   "outputs": [
    {
     "data": {
      "text/html": [
       "<div>\n",
       "<style scoped>\n",
       "    .dataframe tbody tr th:only-of-type {\n",
       "        vertical-align: middle;\n",
       "    }\n",
       "\n",
       "    .dataframe tbody tr th {\n",
       "        vertical-align: top;\n",
       "    }\n",
       "\n",
       "    .dataframe thead th {\n",
       "        text-align: right;\n",
       "    }\n",
       "</style>\n",
       "<table border=\"1\" class=\"dataframe\">\n",
       "  <thead>\n",
       "    <tr style=\"text-align: right;\">\n",
       "      <th></th>\n",
       "      <th>date</th>\n",
       "      <th>timestamp</th>\n",
       "      <th>price</th>\n",
       "      <th>target</th>\n",
       "      <th>BITCOIN_NE.text_COUNT_last1days</th>\n",
       "      <th>BITCOIN_NE.text_last1days</th>\n",
       "      <th>COINJOURNA.text_last1days</th>\n",
       "      <th>COINJOURNA.text_COUNT_last1days</th>\n",
       "    </tr>\n",
       "  </thead>\n",
       "  <tbody>\n",
       "    <tr>\n",
       "      <th>0</th>\n",
       "      <td>01-01-2020 17:00:00</td>\n",
       "      <td>1.577898e+09</td>\n",
       "      <td>7212.7</td>\n",
       "      <td>1</td>\n",
       "      <td>3</td>\n",
       "      <td>[etoro ceo yoni assia on reaching 12 million u...</td>\n",
       "      <td>[]</td>\n",
       "      <td>0</td>\n",
       "    </tr>\n",
       "    <tr>\n",
       "      <th>1</th>\n",
       "      <td>02-01-2020 17:00:00</td>\n",
       "      <td>1.577984e+09</td>\n",
       "      <td>6989.4</td>\n",
       "      <td>0</td>\n",
       "      <td>7</td>\n",
       "      <td>[government confirms crypto profits not taxabl...</td>\n",
       "      <td>[]</td>\n",
       "      <td>0</td>\n",
       "    </tr>\n",
       "    <tr>\n",
       "      <th>2</th>\n",
       "      <td>03-01-2020 17:00:00</td>\n",
       "      <td>1.578071e+09</td>\n",
       "      <td>7367.5</td>\n",
       "      <td>1</td>\n",
       "      <td>8</td>\n",
       "      <td>[ticker tool uses the bch blockchain to provid...</td>\n",
       "      <td>[]</td>\n",
       "      <td>0</td>\n",
       "    </tr>\n",
       "    <tr>\n",
       "      <th>3</th>\n",
       "      <td>04-01-2020 17:00:00</td>\n",
       "      <td>1.578157e+09</td>\n",
       "      <td>7369.8</td>\n",
       "      <td>0</td>\n",
       "      <td>6</td>\n",
       "      <td>[crypto fundraising is changing again in 2020 ...</td>\n",
       "      <td>[]</td>\n",
       "      <td>0</td>\n",
       "    </tr>\n",
       "    <tr>\n",
       "      <th>4</th>\n",
       "      <td>05-01-2020 17:00:00</td>\n",
       "      <td>1.578244e+09</td>\n",
       "      <td>7364.6</td>\n",
       "      <td>0</td>\n",
       "      <td>5</td>\n",
       "      <td>[subhash chandra garg on the future of crypto ...</td>\n",
       "      <td>[]</td>\n",
       "      <td>0</td>\n",
       "    </tr>\n",
       "  </tbody>\n",
       "</table>\n",
       "</div>"
      ],
      "text/plain": [
       "                  date     timestamp   price  target  \\\n",
       "0  01-01-2020 17:00:00  1.577898e+09  7212.7       1   \n",
       "1  02-01-2020 17:00:00  1.577984e+09  6989.4       0   \n",
       "2  03-01-2020 17:00:00  1.578071e+09  7367.5       1   \n",
       "3  04-01-2020 17:00:00  1.578157e+09  7369.8       0   \n",
       "4  05-01-2020 17:00:00  1.578244e+09  7364.6       0   \n",
       "\n",
       "   BITCOIN_NE.text_COUNT_last1days  \\\n",
       "0                                3   \n",
       "1                                7   \n",
       "2                                8   \n",
       "3                                6   \n",
       "4                                5   \n",
       "\n",
       "                           BITCOIN_NE.text_last1days  \\\n",
       "0  [etoro ceo yoni assia on reaching 12 million u...   \n",
       "1  [government confirms crypto profits not taxabl...   \n",
       "2  [ticker tool uses the bch blockchain to provid...   \n",
       "3  [crypto fundraising is changing again in 2020 ...   \n",
       "4  [subhash chandra garg on the future of crypto ...   \n",
       "\n",
       "  COINJOURNA.text_last1days  COINJOURNA.text_COUNT_last1days  \n",
       "0                        []                                0  \n",
       "1                        []                                0  \n",
       "2                        []                                0  \n",
       "3                        []                                0  \n",
       "4                        []                                0  "
      ]
     },
     "execution_count": 36,
     "metadata": {},
     "output_type": "execute_result"
    }
   ],
   "source": [
    "df = pd.concat([df, df_blend_v2.loc[:, df_blend_v2.columns != 'timestamp']], axis = 1)\n",
    "df.head()"
   ]
  },
  {
   "cell_type": "code",
   "execution_count": 37,
   "id": "62337c3a",
   "metadata": {},
   "outputs": [
    {
     "data": {
      "text/plain": [
       "0.5550847457627118"
      ]
     },
     "execution_count": 37,
     "metadata": {},
     "output_type": "execute_result"
    }
   ],
   "source": [
    "df_blend_v2['COINJOURNA.text_COUNT_last1days'].mean()"
   ]
  },
  {
   "cell_type": "code",
   "execution_count": 38,
   "id": "01c606a1",
   "metadata": {},
   "outputs": [
    {
     "name": "stdout",
     "output_type": "stream",
     "text": [
      "Task ID: '6167ffbb0895fafb4a9d8d4c'.\n",
      "Total estimated consumption: 1555.2 processing units.\n",
      "Task confirmed. Starting download..\n",
      "100%\n"
     ]
    },
    {
     "data": {
      "text/html": [
       "<div>\n",
       "<style scoped>\n",
       "    .dataframe tbody tr th:only-of-type {\n",
       "        vertical-align: middle;\n",
       "    }\n",
       "\n",
       "    .dataframe tbody tr th {\n",
       "        vertical-align: top;\n",
       "    }\n",
       "\n",
       "    .dataframe thead th {\n",
       "        text-align: right;\n",
       "    }\n",
       "</style>\n",
       "<table border=\"1\" class=\"dataframe\">\n",
       "  <thead>\n",
       "    <tr style=\"text-align: right;\">\n",
       "      <th></th>\n",
       "      <th>timestamp</th>\n",
       "      <th>CRYPTOCURR.text_COUNT_last1days</th>\n",
       "      <th>CRYPTOCURR.text_last1days</th>\n",
       "    </tr>\n",
       "  </thead>\n",
       "  <tbody>\n",
       "    <tr>\n",
       "      <th>0</th>\n",
       "      <td>1577898000</td>\n",
       "      <td>1</td>\n",
       "      <td>[what are your 2020 predictions for #crypto?]</td>\n",
       "    </tr>\n",
       "    <tr>\n",
       "      <th>1</th>\n",
       "      <td>1577984400</td>\n",
       "      <td>0</td>\n",
       "      <td>[]</td>\n",
       "    </tr>\n",
       "    <tr>\n",
       "      <th>2</th>\n",
       "      <td>1578070800</td>\n",
       "      <td>2</td>\n",
       "      <td>[people are going to opt for something that is...</td>\n",
       "    </tr>\n",
       "    <tr>\n",
       "      <th>3</th>\n",
       "      <td>1578157200</td>\n",
       "      <td>1</td>\n",
       "      <td>[bullish on bitcoin]</td>\n",
       "    </tr>\n",
       "    <tr>\n",
       "      <th>4</th>\n",
       "      <td>1578243600</td>\n",
       "      <td>1</td>\n",
       "      <td>[a burger king location in venezuela is now ac...</td>\n",
       "    </tr>\n",
       "    <tr>\n",
       "      <th>...</th>\n",
       "      <td>...</td>\n",
       "      <td>...</td>\n",
       "      <td>...</td>\n",
       "    </tr>\n",
       "    <tr>\n",
       "      <th>231</th>\n",
       "      <td>1598202000</td>\n",
       "      <td>1</td>\n",
       "      <td>[you gotta have some fortitude to handle the s...</td>\n",
       "    </tr>\n",
       "    <tr>\n",
       "      <th>232</th>\n",
       "      <td>1598374800</td>\n",
       "      <td>0</td>\n",
       "      <td>[]</td>\n",
       "    </tr>\n",
       "    <tr>\n",
       "      <th>233</th>\n",
       "      <td>1598461200</td>\n",
       "      <td>0</td>\n",
       "      <td>[]</td>\n",
       "    </tr>\n",
       "    <tr>\n",
       "      <th>234</th>\n",
       "      <td>1598547600</td>\n",
       "      <td>0</td>\n",
       "      <td>[]</td>\n",
       "    </tr>\n",
       "    <tr>\n",
       "      <th>235</th>\n",
       "      <td>1598634000</td>\n",
       "      <td>0</td>\n",
       "      <td>[]</td>\n",
       "    </tr>\n",
       "  </tbody>\n",
       "</table>\n",
       "<p>236 rows × 3 columns</p>\n",
       "</div>"
      ],
      "text/plain": [
       "      timestamp  CRYPTOCURR.text_COUNT_last1days  \\\n",
       "0    1577898000                                1   \n",
       "1    1577984400                                0   \n",
       "2    1578070800                                2   \n",
       "3    1578157200                                1   \n",
       "4    1578243600                                1   \n",
       "..          ...                              ...   \n",
       "231  1598202000                                1   \n",
       "232  1598374800                                0   \n",
       "233  1598461200                                0   \n",
       "234  1598547600                                0   \n",
       "235  1598634000                                0   \n",
       "\n",
       "                             CRYPTOCURR.text_last1days  \n",
       "0        [what are your 2020 predictions for #crypto?]  \n",
       "1                                                   []  \n",
       "2    [people are going to opt for something that is...  \n",
       "3                                 [bullish on bitcoin]  \n",
       "4    [a burger king location in venezuela is now ac...  \n",
       "..                                                 ...  \n",
       "231  [you gotta have some fortitude to handle the s...  \n",
       "232                                                 []  \n",
       "233                                                 []  \n",
       "234                                                 []  \n",
       "235                                                 []  \n",
       "\n",
       "[236 rows x 3 columns]"
      ]
     },
     "execution_count": 38,
     "metadata": {},
     "output_type": "execute_result"
    }
   ],
   "source": [
    "blend_source = {\n",
    "                'id_dataset':'5ea209c495162936348f13eb',\n",
    "                'feature' : 'text'\n",
    "            }\n",
    "\n",
    "# Now, let's 'timeBlend' it to our dataset\n",
    "df_blend_v3 = OpenBlender.timeBlend( token = token,\n",
    "                                  anchor_ts = df.timestamp,\n",
    "                                  blend_source = blend_source,\n",
    "                                  blend_type = 'agg_in_intervals',\n",
    "                                  interval_size = 60 * 60 * 24,\n",
    "                                  direction = 'time_prior',\n",
    "                                  interval_output = 'list',\n",
    "                                  missing_values = 'raw')\n",
    "df_blend_v3"
   ]
  },
  {
   "cell_type": "code",
   "execution_count": 39,
   "id": "ac082fbd",
   "metadata": {},
   "outputs": [
    {
     "data": {
      "text/plain": [
       "1.1610169491525424"
      ]
     },
     "execution_count": 39,
     "metadata": {},
     "output_type": "execute_result"
    }
   ],
   "source": [
    "df_blend_v3['CRYPTOCURR.text_COUNT_last1days'].mean()"
   ]
  },
  {
   "cell_type": "code",
   "execution_count": 40,
   "id": "d3a4c2f4",
   "metadata": {},
   "outputs": [
    {
     "data": {
      "text/html": [
       "<div>\n",
       "<style scoped>\n",
       "    .dataframe tbody tr th:only-of-type {\n",
       "        vertical-align: middle;\n",
       "    }\n",
       "\n",
       "    .dataframe tbody tr th {\n",
       "        vertical-align: top;\n",
       "    }\n",
       "\n",
       "    .dataframe thead th {\n",
       "        text-align: right;\n",
       "    }\n",
       "</style>\n",
       "<table border=\"1\" class=\"dataframe\">\n",
       "  <thead>\n",
       "    <tr style=\"text-align: right;\">\n",
       "      <th></th>\n",
       "      <th>date</th>\n",
       "      <th>timestamp</th>\n",
       "      <th>price</th>\n",
       "      <th>target</th>\n",
       "      <th>BITCOIN_NE.text_COUNT_last1days</th>\n",
       "      <th>BITCOIN_NE.text_last1days</th>\n",
       "      <th>COINJOURNA.text_last1days</th>\n",
       "      <th>COINJOURNA.text_COUNT_last1days</th>\n",
       "      <th>CRYPTOCURR.text_COUNT_last1days</th>\n",
       "      <th>CRYPTOCURR.text_last1days</th>\n",
       "    </tr>\n",
       "  </thead>\n",
       "  <tbody>\n",
       "    <tr>\n",
       "      <th>0</th>\n",
       "      <td>01-01-2020 17:00:00</td>\n",
       "      <td>1.577898e+09</td>\n",
       "      <td>7212.7</td>\n",
       "      <td>1</td>\n",
       "      <td>3</td>\n",
       "      <td>[etoro ceo yoni assia on reaching 12 million u...</td>\n",
       "      <td>[]</td>\n",
       "      <td>0</td>\n",
       "      <td>1</td>\n",
       "      <td>[what are your 2020 predictions for #crypto?]</td>\n",
       "    </tr>\n",
       "    <tr>\n",
       "      <th>1</th>\n",
       "      <td>02-01-2020 17:00:00</td>\n",
       "      <td>1.577984e+09</td>\n",
       "      <td>6989.4</td>\n",
       "      <td>0</td>\n",
       "      <td>7</td>\n",
       "      <td>[government confirms crypto profits not taxabl...</td>\n",
       "      <td>[]</td>\n",
       "      <td>0</td>\n",
       "      <td>0</td>\n",
       "      <td>[]</td>\n",
       "    </tr>\n",
       "    <tr>\n",
       "      <th>2</th>\n",
       "      <td>03-01-2020 17:00:00</td>\n",
       "      <td>1.578071e+09</td>\n",
       "      <td>7367.5</td>\n",
       "      <td>1</td>\n",
       "      <td>8</td>\n",
       "      <td>[ticker tool uses the bch blockchain to provid...</td>\n",
       "      <td>[]</td>\n",
       "      <td>0</td>\n",
       "      <td>2</td>\n",
       "      <td>[people are going to opt for something that is...</td>\n",
       "    </tr>\n",
       "    <tr>\n",
       "      <th>3</th>\n",
       "      <td>04-01-2020 17:00:00</td>\n",
       "      <td>1.578157e+09</td>\n",
       "      <td>7369.8</td>\n",
       "      <td>0</td>\n",
       "      <td>6</td>\n",
       "      <td>[crypto fundraising is changing again in 2020 ...</td>\n",
       "      <td>[]</td>\n",
       "      <td>0</td>\n",
       "      <td>1</td>\n",
       "      <td>[bullish on bitcoin]</td>\n",
       "    </tr>\n",
       "    <tr>\n",
       "      <th>4</th>\n",
       "      <td>05-01-2020 17:00:00</td>\n",
       "      <td>1.578244e+09</td>\n",
       "      <td>7364.6</td>\n",
       "      <td>0</td>\n",
       "      <td>5</td>\n",
       "      <td>[subhash chandra garg on the future of crypto ...</td>\n",
       "      <td>[]</td>\n",
       "      <td>0</td>\n",
       "      <td>1</td>\n",
       "      <td>[a burger king location in venezuela is now ac...</td>\n",
       "    </tr>\n",
       "  </tbody>\n",
       "</table>\n",
       "</div>"
      ],
      "text/plain": [
       "                  date     timestamp   price  target  \\\n",
       "0  01-01-2020 17:00:00  1.577898e+09  7212.7       1   \n",
       "1  02-01-2020 17:00:00  1.577984e+09  6989.4       0   \n",
       "2  03-01-2020 17:00:00  1.578071e+09  7367.5       1   \n",
       "3  04-01-2020 17:00:00  1.578157e+09  7369.8       0   \n",
       "4  05-01-2020 17:00:00  1.578244e+09  7364.6       0   \n",
       "\n",
       "   BITCOIN_NE.text_COUNT_last1days  \\\n",
       "0                                3   \n",
       "1                                7   \n",
       "2                                8   \n",
       "3                                6   \n",
       "4                                5   \n",
       "\n",
       "                           BITCOIN_NE.text_last1days  \\\n",
       "0  [etoro ceo yoni assia on reaching 12 million u...   \n",
       "1  [government confirms crypto profits not taxabl...   \n",
       "2  [ticker tool uses the bch blockchain to provid...   \n",
       "3  [crypto fundraising is changing again in 2020 ...   \n",
       "4  [subhash chandra garg on the future of crypto ...   \n",
       "\n",
       "  COINJOURNA.text_last1days  COINJOURNA.text_COUNT_last1days  \\\n",
       "0                        []                                0   \n",
       "1                        []                                0   \n",
       "2                        []                                0   \n",
       "3                        []                                0   \n",
       "4                        []                                0   \n",
       "\n",
       "   CRYPTOCURR.text_COUNT_last1days  \\\n",
       "0                                1   \n",
       "1                                0   \n",
       "2                                2   \n",
       "3                                1   \n",
       "4                                1   \n",
       "\n",
       "                           CRYPTOCURR.text_last1days  \n",
       "0      [what are your 2020 predictions for #crypto?]  \n",
       "1                                                 []  \n",
       "2  [people are going to opt for something that is...  \n",
       "3                               [bullish on bitcoin]  \n",
       "4  [a burger king location in venezuela is now ac...  "
      ]
     },
     "execution_count": 40,
     "metadata": {},
     "output_type": "execute_result"
    }
   ],
   "source": [
    "df = pd.concat([df, df_blend_v3.loc[:, df_blend_v3.columns != 'timestamp']], axis = 1)\n",
    "df.head()"
   ]
  },
  {
   "cell_type": "code",
   "execution_count": 41,
   "id": "72acd543",
   "metadata": {},
   "outputs": [
    {
     "name": "stdout",
     "output_type": "stream",
     "text": [
      "Task ID: '6167ffc30895fafb4a9d8d4c'.\n",
      "Total estimated consumption: 1555.2 processing units.\n",
      "Task confirmed. Starting download..\n",
      "100%\n"
     ]
    },
    {
     "data": {
      "text/html": [
       "<div>\n",
       "<style scoped>\n",
       "    .dataframe tbody tr th:only-of-type {\n",
       "        vertical-align: middle;\n",
       "    }\n",
       "\n",
       "    .dataframe tbody tr th {\n",
       "        vertical-align: top;\n",
       "    }\n",
       "\n",
       "    .dataframe thead th {\n",
       "        text-align: right;\n",
       "    }\n",
       "</style>\n",
       "<table border=\"1\" class=\"dataframe\">\n",
       "  <thead>\n",
       "    <tr style=\"text-align: right;\">\n",
       "      <th></th>\n",
       "      <th>timestamp</th>\n",
       "      <th>CRYPTOCURR.text_COUNT_last1days</th>\n",
       "      <th>CRYPTOCURR.text_last1days</th>\n",
       "    </tr>\n",
       "  </thead>\n",
       "  <tbody>\n",
       "    <tr>\n",
       "      <th>0</th>\n",
       "      <td>1577898000</td>\n",
       "      <td>2</td>\n",
       "      <td>[line79, youtube13eamt4 indicator fx ]</td>\n",
       "    </tr>\n",
       "    <tr>\n",
       "      <th>1</th>\n",
       "      <td>1577984400</td>\n",
       "      <td>5</td>\n",
       "      <td>[23mt4 ea  fx  , line81, line82, 24mt4 ea  fx ...</td>\n",
       "    </tr>\n",
       "    <tr>\n",
       "      <th>2</th>\n",
       "      <td>1578070800</td>\n",
       "      <td>2</td>\n",
       "      <td>[youtube14eamt4 indicator fx , line83]</td>\n",
       "    </tr>\n",
       "    <tr>\n",
       "      <th>3</th>\n",
       "      <td>1578157200</td>\n",
       "      <td>7</td>\n",
       "      <td>[mt4  fx , 19ea, line85, line87, youtube17mt4 ...</td>\n",
       "    </tr>\n",
       "    <tr>\n",
       "      <th>4</th>\n",
       "      <td>1578243600</td>\n",
       "      <td>4</td>\n",
       "      <td>[, line93, macdmt4 fx , line91]</td>\n",
       "    </tr>\n",
       "    <tr>\n",
       "      <th>...</th>\n",
       "      <td>...</td>\n",
       "      <td>...</td>\n",
       "      <td>...</td>\n",
       "    </tr>\n",
       "    <tr>\n",
       "      <th>231</th>\n",
       "      <td>1598202000</td>\n",
       "      <td>0</td>\n",
       "      <td>[]</td>\n",
       "    </tr>\n",
       "    <tr>\n",
       "      <th>232</th>\n",
       "      <td>1598374800</td>\n",
       "      <td>0</td>\n",
       "      <td>[]</td>\n",
       "    </tr>\n",
       "    <tr>\n",
       "      <th>233</th>\n",
       "      <td>1598461200</td>\n",
       "      <td>1</td>\n",
       "      <td>[defi pieformance]</td>\n",
       "    </tr>\n",
       "    <tr>\n",
       "      <th>234</th>\n",
       "      <td>1598547600</td>\n",
       "      <td>0</td>\n",
       "      <td>[]</td>\n",
       "    </tr>\n",
       "    <tr>\n",
       "      <th>235</th>\n",
       "      <td>1598634000</td>\n",
       "      <td>4</td>\n",
       "      <td>[band staking of huobi\\n\\n#band #huobi, band s...</td>\n",
       "    </tr>\n",
       "  </tbody>\n",
       "</table>\n",
       "<p>236 rows × 3 columns</p>\n",
       "</div>"
      ],
      "text/plain": [
       "      timestamp  CRYPTOCURR.text_COUNT_last1days  \\\n",
       "0    1577898000                                2   \n",
       "1    1577984400                                5   \n",
       "2    1578070800                                2   \n",
       "3    1578157200                                7   \n",
       "4    1578243600                                4   \n",
       "..          ...                              ...   \n",
       "231  1598202000                                0   \n",
       "232  1598374800                                0   \n",
       "233  1598461200                                1   \n",
       "234  1598547600                                0   \n",
       "235  1598634000                                4   \n",
       "\n",
       "                             CRYPTOCURR.text_last1days  \n",
       "0               [line79, youtube13eamt4 indicator fx ]  \n",
       "1    [23mt4 ea  fx  , line81, line82, 24mt4 ea  fx ...  \n",
       "2               [youtube14eamt4 indicator fx , line83]  \n",
       "3    [mt4  fx , 19ea, line85, line87, youtube17mt4 ...  \n",
       "4                      [, line93, macdmt4 fx , line91]  \n",
       "..                                                 ...  \n",
       "231                                                 []  \n",
       "232                                                 []  \n",
       "233                                 [defi pieformance]  \n",
       "234                                                 []  \n",
       "235  [band staking of huobi\\n\\n#band #huobi, band s...  \n",
       "\n",
       "[236 rows x 3 columns]"
      ]
     },
     "execution_count": 41,
     "metadata": {},
     "output_type": "execute_result"
    }
   ],
   "source": [
    "blend_source = {\n",
    "                'id_dataset':'5ea20cd09516293f790c119c',\n",
    "                'feature' : 'text'\n",
    "            }\n",
    "\n",
    "# Now, let's 'timeBlend' it to our dataset\n",
    "df_blend_v4 = OpenBlender.timeBlend( token = token,\n",
    "                                  anchor_ts = df.timestamp,\n",
    "                                  blend_source = blend_source,\n",
    "                                  blend_type = 'agg_in_intervals',\n",
    "                                  interval_size = 60 * 60 * 24,\n",
    "                                  direction = 'time_prior',\n",
    "                                  interval_output = 'list',\n",
    "                                  missing_values = 'raw')\n",
    "df_blend_v4"
   ]
  },
  {
   "cell_type": "code",
   "execution_count": 42,
   "id": "6f85e615",
   "metadata": {},
   "outputs": [
    {
     "data": {
      "text/plain": [
       "0.8813559322033898"
      ]
     },
     "execution_count": 42,
     "metadata": {},
     "output_type": "execute_result"
    }
   ],
   "source": [
    "df_blend_v4['CRYPTOCURR.text_COUNT_last1days'].mean()"
   ]
  },
  {
   "cell_type": "code",
   "execution_count": 43,
   "id": "5629fc18",
   "metadata": {},
   "outputs": [
    {
     "data": {
      "text/html": [
       "<div>\n",
       "<style scoped>\n",
       "    .dataframe tbody tr th:only-of-type {\n",
       "        vertical-align: middle;\n",
       "    }\n",
       "\n",
       "    .dataframe tbody tr th {\n",
       "        vertical-align: top;\n",
       "    }\n",
       "\n",
       "    .dataframe thead th {\n",
       "        text-align: right;\n",
       "    }\n",
       "</style>\n",
       "<table border=\"1\" class=\"dataframe\">\n",
       "  <thead>\n",
       "    <tr style=\"text-align: right;\">\n",
       "      <th></th>\n",
       "      <th>date</th>\n",
       "      <th>timestamp</th>\n",
       "      <th>price</th>\n",
       "      <th>target</th>\n",
       "      <th>BITCOIN_NE.text_COUNT_last1days</th>\n",
       "      <th>BITCOIN_NE.text_last1days</th>\n",
       "      <th>COINJOURNA.text_last1days</th>\n",
       "      <th>COINJOURNA.text_COUNT_last1days</th>\n",
       "      <th>CRYPTOCURR.text_COUNT_last1days</th>\n",
       "      <th>CRYPTOCURR.text_last1days</th>\n",
       "      <th>CRYPTOCURR.text_COUNT_last1days</th>\n",
       "      <th>CRYPTOCURR.text_last1days</th>\n",
       "    </tr>\n",
       "  </thead>\n",
       "  <tbody>\n",
       "    <tr>\n",
       "      <th>0</th>\n",
       "      <td>01-01-2020 17:00:00</td>\n",
       "      <td>1.577898e+09</td>\n",
       "      <td>7212.7</td>\n",
       "      <td>1</td>\n",
       "      <td>3</td>\n",
       "      <td>[etoro ceo yoni assia on reaching 12 million u...</td>\n",
       "      <td>[]</td>\n",
       "      <td>0</td>\n",
       "      <td>1</td>\n",
       "      <td>[what are your 2020 predictions for #crypto?]</td>\n",
       "      <td>2</td>\n",
       "      <td>[line79, youtube13eamt4 indicator fx ]</td>\n",
       "    </tr>\n",
       "    <tr>\n",
       "      <th>1</th>\n",
       "      <td>02-01-2020 17:00:00</td>\n",
       "      <td>1.577984e+09</td>\n",
       "      <td>6989.4</td>\n",
       "      <td>0</td>\n",
       "      <td>7</td>\n",
       "      <td>[government confirms crypto profits not taxabl...</td>\n",
       "      <td>[]</td>\n",
       "      <td>0</td>\n",
       "      <td>0</td>\n",
       "      <td>[]</td>\n",
       "      <td>5</td>\n",
       "      <td>[23mt4 ea  fx  , line81, line82, 24mt4 ea  fx ...</td>\n",
       "    </tr>\n",
       "    <tr>\n",
       "      <th>2</th>\n",
       "      <td>03-01-2020 17:00:00</td>\n",
       "      <td>1.578071e+09</td>\n",
       "      <td>7367.5</td>\n",
       "      <td>1</td>\n",
       "      <td>8</td>\n",
       "      <td>[ticker tool uses the bch blockchain to provid...</td>\n",
       "      <td>[]</td>\n",
       "      <td>0</td>\n",
       "      <td>2</td>\n",
       "      <td>[people are going to opt for something that is...</td>\n",
       "      <td>2</td>\n",
       "      <td>[youtube14eamt4 indicator fx , line83]</td>\n",
       "    </tr>\n",
       "    <tr>\n",
       "      <th>3</th>\n",
       "      <td>04-01-2020 17:00:00</td>\n",
       "      <td>1.578157e+09</td>\n",
       "      <td>7369.8</td>\n",
       "      <td>0</td>\n",
       "      <td>6</td>\n",
       "      <td>[crypto fundraising is changing again in 2020 ...</td>\n",
       "      <td>[]</td>\n",
       "      <td>0</td>\n",
       "      <td>1</td>\n",
       "      <td>[bullish on bitcoin]</td>\n",
       "      <td>7</td>\n",
       "      <td>[mt4  fx , 19ea, line85, line87, youtube17mt4 ...</td>\n",
       "    </tr>\n",
       "    <tr>\n",
       "      <th>4</th>\n",
       "      <td>05-01-2020 17:00:00</td>\n",
       "      <td>1.578244e+09</td>\n",
       "      <td>7364.6</td>\n",
       "      <td>0</td>\n",
       "      <td>5</td>\n",
       "      <td>[subhash chandra garg on the future of crypto ...</td>\n",
       "      <td>[]</td>\n",
       "      <td>0</td>\n",
       "      <td>1</td>\n",
       "      <td>[a burger king location in venezuela is now ac...</td>\n",
       "      <td>4</td>\n",
       "      <td>[, line93, macdmt4 fx , line91]</td>\n",
       "    </tr>\n",
       "  </tbody>\n",
       "</table>\n",
       "</div>"
      ],
      "text/plain": [
       "                  date     timestamp   price  target  \\\n",
       "0  01-01-2020 17:00:00  1.577898e+09  7212.7       1   \n",
       "1  02-01-2020 17:00:00  1.577984e+09  6989.4       0   \n",
       "2  03-01-2020 17:00:00  1.578071e+09  7367.5       1   \n",
       "3  04-01-2020 17:00:00  1.578157e+09  7369.8       0   \n",
       "4  05-01-2020 17:00:00  1.578244e+09  7364.6       0   \n",
       "\n",
       "   BITCOIN_NE.text_COUNT_last1days  \\\n",
       "0                                3   \n",
       "1                                7   \n",
       "2                                8   \n",
       "3                                6   \n",
       "4                                5   \n",
       "\n",
       "                           BITCOIN_NE.text_last1days  \\\n",
       "0  [etoro ceo yoni assia on reaching 12 million u...   \n",
       "1  [government confirms crypto profits not taxabl...   \n",
       "2  [ticker tool uses the bch blockchain to provid...   \n",
       "3  [crypto fundraising is changing again in 2020 ...   \n",
       "4  [subhash chandra garg on the future of crypto ...   \n",
       "\n",
       "  COINJOURNA.text_last1days  COINJOURNA.text_COUNT_last1days  \\\n",
       "0                        []                                0   \n",
       "1                        []                                0   \n",
       "2                        []                                0   \n",
       "3                        []                                0   \n",
       "4                        []                                0   \n",
       "\n",
       "   CRYPTOCURR.text_COUNT_last1days  \\\n",
       "0                                1   \n",
       "1                                0   \n",
       "2                                2   \n",
       "3                                1   \n",
       "4                                1   \n",
       "\n",
       "                           CRYPTOCURR.text_last1days  \\\n",
       "0      [what are your 2020 predictions for #crypto?]   \n",
       "1                                                 []   \n",
       "2  [people are going to opt for something that is...   \n",
       "3                               [bullish on bitcoin]   \n",
       "4  [a burger king location in venezuela is now ac...   \n",
       "\n",
       "   CRYPTOCURR.text_COUNT_last1days  \\\n",
       "0                                2   \n",
       "1                                5   \n",
       "2                                2   \n",
       "3                                7   \n",
       "4                                4   \n",
       "\n",
       "                           CRYPTOCURR.text_last1days  \n",
       "0             [line79, youtube13eamt4 indicator fx ]  \n",
       "1  [23mt4 ea  fx  , line81, line82, 24mt4 ea  fx ...  \n",
       "2             [youtube14eamt4 indicator fx , line83]  \n",
       "3  [mt4  fx , 19ea, line85, line87, youtube17mt4 ...  \n",
       "4                    [, line93, macdmt4 fx , line91]  "
      ]
     },
     "execution_count": 43,
     "metadata": {},
     "output_type": "execute_result"
    }
   ],
   "source": [
    "df = pd.concat([df, df_blend_v4.loc[:, df_blend_v4.columns != 'timestamp']], axis = 1)\n",
    "df.head()"
   ]
  },
  {
   "cell_type": "markdown",
   "id": "80d6a8cd",
   "metadata": {},
   "source": [
    "### тут немного другая штука - количество поисков"
   ]
  },
  {
   "cell_type": "code",
   "execution_count": 44,
   "id": "2f4a142d",
   "metadata": {},
   "outputs": [
    {
     "name": "stdout",
     "output_type": "stream",
     "text": [
      "Task ID: '6167ffd30895fafb4a9d8d4c'.\n",
      "Total estimated consumption: 1555.2 processing units.\n",
      "Task confirmed. Starting download..\n",
      "100%\n"
     ]
    },
    {
     "data": {
      "text/html": [
       "<div>\n",
       "<style scoped>\n",
       "    .dataframe tbody tr th:only-of-type {\n",
       "        vertical-align: middle;\n",
       "    }\n",
       "\n",
       "    .dataframe tbody tr th {\n",
       "        vertical-align: top;\n",
       "    }\n",
       "\n",
       "    .dataframe thead th {\n",
       "        text-align: right;\n",
       "    }\n",
       "</style>\n",
       "<table border=\"1\" class=\"dataframe\">\n",
       "  <thead>\n",
       "    <tr style=\"text-align: right;\">\n",
       "      <th></th>\n",
       "      <th>BTC_FEARGR.bitcoin_search_COUNT_last1days</th>\n",
       "      <th>timestamp</th>\n",
       "      <th>BTC_FEARGR.bitcoin_search_last1days</th>\n",
       "    </tr>\n",
       "  </thead>\n",
       "  <tbody>\n",
       "    <tr>\n",
       "      <th>0</th>\n",
       "      <td>1</td>\n",
       "      <td>1577898000</td>\n",
       "      <td>[14]</td>\n",
       "    </tr>\n",
       "    <tr>\n",
       "      <th>1</th>\n",
       "      <td>1</td>\n",
       "      <td>1577984400</td>\n",
       "      <td>[14]</td>\n",
       "    </tr>\n",
       "    <tr>\n",
       "      <th>2</th>\n",
       "      <td>1</td>\n",
       "      <td>1578070800</td>\n",
       "      <td>[14]</td>\n",
       "    </tr>\n",
       "    <tr>\n",
       "      <th>3</th>\n",
       "      <td>1</td>\n",
       "      <td>1578157200</td>\n",
       "      <td>[14]</td>\n",
       "    </tr>\n",
       "    <tr>\n",
       "      <th>4</th>\n",
       "      <td>1</td>\n",
       "      <td>1578243600</td>\n",
       "      <td>[14]</td>\n",
       "    </tr>\n",
       "    <tr>\n",
       "      <th>...</th>\n",
       "      <td>...</td>\n",
       "      <td>...</td>\n",
       "      <td>...</td>\n",
       "    </tr>\n",
       "    <tr>\n",
       "      <th>231</th>\n",
       "      <td>1</td>\n",
       "      <td>1598202000</td>\n",
       "      <td>[14]</td>\n",
       "    </tr>\n",
       "    <tr>\n",
       "      <th>232</th>\n",
       "      <td>1</td>\n",
       "      <td>1598374800</td>\n",
       "      <td>[15]</td>\n",
       "    </tr>\n",
       "    <tr>\n",
       "      <th>233</th>\n",
       "      <td>1</td>\n",
       "      <td>1598461200</td>\n",
       "      <td>[15]</td>\n",
       "    </tr>\n",
       "    <tr>\n",
       "      <th>234</th>\n",
       "      <td>1</td>\n",
       "      <td>1598547600</td>\n",
       "      <td>[15]</td>\n",
       "    </tr>\n",
       "    <tr>\n",
       "      <th>235</th>\n",
       "      <td>1</td>\n",
       "      <td>1598634000</td>\n",
       "      <td>[15]</td>\n",
       "    </tr>\n",
       "  </tbody>\n",
       "</table>\n",
       "<p>236 rows × 3 columns</p>\n",
       "</div>"
      ],
      "text/plain": [
       "     BTC_FEARGR.bitcoin_search_COUNT_last1days   timestamp  \\\n",
       "0                                            1  1577898000   \n",
       "1                                            1  1577984400   \n",
       "2                                            1  1578070800   \n",
       "3                                            1  1578157200   \n",
       "4                                            1  1578243600   \n",
       "..                                         ...         ...   \n",
       "231                                          1  1598202000   \n",
       "232                                          1  1598374800   \n",
       "233                                          1  1598461200   \n",
       "234                                          1  1598547600   \n",
       "235                                          1  1598634000   \n",
       "\n",
       "    BTC_FEARGR.bitcoin_search_last1days  \n",
       "0                                  [14]  \n",
       "1                                  [14]  \n",
       "2                                  [14]  \n",
       "3                                  [14]  \n",
       "4                                  [14]  \n",
       "..                                  ...  \n",
       "231                                [14]  \n",
       "232                                [15]  \n",
       "233                                [15]  \n",
       "234                                [15]  \n",
       "235                                [15]  \n",
       "\n",
       "[236 rows x 3 columns]"
      ]
     },
     "execution_count": 44,
     "metadata": {},
     "output_type": "execute_result"
    }
   ],
   "source": [
    "blend_source = {\n",
    "                'id_dataset':'6114e0ed9516295907e7f5d4',\n",
    "                'feature' : 'bitcoin_search'\n",
    "            }\n",
    "\n",
    "# Now, let's 'timeBlend' it to our dataset\n",
    "df_blend_v5 = OpenBlender.timeBlend( token = token,\n",
    "                                  anchor_ts = df.timestamp,\n",
    "                                  blend_source = blend_source,\n",
    "                                  blend_type = 'agg_in_intervals',\n",
    "                                  interval_size = 60 * 60 * 24,\n",
    "                                  direction = 'time_prior',\n",
    "                                  interval_output = 'list',\n",
    "                                  missing_values = 'raw')\n",
    "df_blend_v5"
   ]
  },
  {
   "cell_type": "code",
   "execution_count": 45,
   "id": "d68dce0a",
   "metadata": {},
   "outputs": [],
   "source": [
    "df_blend_v5 = df_blend_v5.drop(['BTC_FEARGR.bitcoin_search_COUNT_last1days'], axis=1)"
   ]
  },
  {
   "cell_type": "code",
   "execution_count": 46,
   "id": "9437805f",
   "metadata": {},
   "outputs": [],
   "source": [
    "df_blend_v5['BTC_FEARGR.bitcoin_search_last1days'] = df_blend_v5['BTC_FEARGR.bitcoin_search_last1days'].apply(lambda x: x[0])"
   ]
  },
  {
   "cell_type": "code",
   "execution_count": 47,
   "id": "309e0f93",
   "metadata": {},
   "outputs": [
    {
     "data": {
      "text/html": [
       "<div>\n",
       "<style scoped>\n",
       "    .dataframe tbody tr th:only-of-type {\n",
       "        vertical-align: middle;\n",
       "    }\n",
       "\n",
       "    .dataframe tbody tr th {\n",
       "        vertical-align: top;\n",
       "    }\n",
       "\n",
       "    .dataframe thead th {\n",
       "        text-align: right;\n",
       "    }\n",
       "</style>\n",
       "<table border=\"1\" class=\"dataframe\">\n",
       "  <thead>\n",
       "    <tr style=\"text-align: right;\">\n",
       "      <th></th>\n",
       "      <th>date</th>\n",
       "      <th>timestamp</th>\n",
       "      <th>price</th>\n",
       "      <th>target</th>\n",
       "      <th>BITCOIN_NE.text_COUNT_last1days</th>\n",
       "      <th>BITCOIN_NE.text_last1days</th>\n",
       "      <th>COINJOURNA.text_last1days</th>\n",
       "      <th>COINJOURNA.text_COUNT_last1days</th>\n",
       "      <th>CRYPTOCURR.text_COUNT_last1days</th>\n",
       "      <th>CRYPTOCURR.text_last1days</th>\n",
       "      <th>CRYPTOCURR.text_COUNT_last1days</th>\n",
       "      <th>CRYPTOCURR.text_last1days</th>\n",
       "      <th>BTC_FEARGR.bitcoin_search_last1days</th>\n",
       "    </tr>\n",
       "  </thead>\n",
       "  <tbody>\n",
       "    <tr>\n",
       "      <th>0</th>\n",
       "      <td>01-01-2020 17:00:00</td>\n",
       "      <td>1.577898e+09</td>\n",
       "      <td>7212.7</td>\n",
       "      <td>1</td>\n",
       "      <td>3</td>\n",
       "      <td>[etoro ceo yoni assia on reaching 12 million u...</td>\n",
       "      <td>[]</td>\n",
       "      <td>0</td>\n",
       "      <td>1</td>\n",
       "      <td>[what are your 2020 predictions for #crypto?]</td>\n",
       "      <td>2</td>\n",
       "      <td>[line79, youtube13eamt4 indicator fx ]</td>\n",
       "      <td>14</td>\n",
       "    </tr>\n",
       "    <tr>\n",
       "      <th>1</th>\n",
       "      <td>02-01-2020 17:00:00</td>\n",
       "      <td>1.577984e+09</td>\n",
       "      <td>6989.4</td>\n",
       "      <td>0</td>\n",
       "      <td>7</td>\n",
       "      <td>[government confirms crypto profits not taxabl...</td>\n",
       "      <td>[]</td>\n",
       "      <td>0</td>\n",
       "      <td>0</td>\n",
       "      <td>[]</td>\n",
       "      <td>5</td>\n",
       "      <td>[23mt4 ea  fx  , line81, line82, 24mt4 ea  fx ...</td>\n",
       "      <td>14</td>\n",
       "    </tr>\n",
       "    <tr>\n",
       "      <th>2</th>\n",
       "      <td>03-01-2020 17:00:00</td>\n",
       "      <td>1.578071e+09</td>\n",
       "      <td>7367.5</td>\n",
       "      <td>1</td>\n",
       "      <td>8</td>\n",
       "      <td>[ticker tool uses the bch blockchain to provid...</td>\n",
       "      <td>[]</td>\n",
       "      <td>0</td>\n",
       "      <td>2</td>\n",
       "      <td>[people are going to opt for something that is...</td>\n",
       "      <td>2</td>\n",
       "      <td>[youtube14eamt4 indicator fx , line83]</td>\n",
       "      <td>14</td>\n",
       "    </tr>\n",
       "    <tr>\n",
       "      <th>3</th>\n",
       "      <td>04-01-2020 17:00:00</td>\n",
       "      <td>1.578157e+09</td>\n",
       "      <td>7369.8</td>\n",
       "      <td>0</td>\n",
       "      <td>6</td>\n",
       "      <td>[crypto fundraising is changing again in 2020 ...</td>\n",
       "      <td>[]</td>\n",
       "      <td>0</td>\n",
       "      <td>1</td>\n",
       "      <td>[bullish on bitcoin]</td>\n",
       "      <td>7</td>\n",
       "      <td>[mt4  fx , 19ea, line85, line87, youtube17mt4 ...</td>\n",
       "      <td>14</td>\n",
       "    </tr>\n",
       "    <tr>\n",
       "      <th>4</th>\n",
       "      <td>05-01-2020 17:00:00</td>\n",
       "      <td>1.578244e+09</td>\n",
       "      <td>7364.6</td>\n",
       "      <td>0</td>\n",
       "      <td>5</td>\n",
       "      <td>[subhash chandra garg on the future of crypto ...</td>\n",
       "      <td>[]</td>\n",
       "      <td>0</td>\n",
       "      <td>1</td>\n",
       "      <td>[a burger king location in venezuela is now ac...</td>\n",
       "      <td>4</td>\n",
       "      <td>[, line93, macdmt4 fx , line91]</td>\n",
       "      <td>14</td>\n",
       "    </tr>\n",
       "  </tbody>\n",
       "</table>\n",
       "</div>"
      ],
      "text/plain": [
       "                  date     timestamp   price  target  \\\n",
       "0  01-01-2020 17:00:00  1.577898e+09  7212.7       1   \n",
       "1  02-01-2020 17:00:00  1.577984e+09  6989.4       0   \n",
       "2  03-01-2020 17:00:00  1.578071e+09  7367.5       1   \n",
       "3  04-01-2020 17:00:00  1.578157e+09  7369.8       0   \n",
       "4  05-01-2020 17:00:00  1.578244e+09  7364.6       0   \n",
       "\n",
       "   BITCOIN_NE.text_COUNT_last1days  \\\n",
       "0                                3   \n",
       "1                                7   \n",
       "2                                8   \n",
       "3                                6   \n",
       "4                                5   \n",
       "\n",
       "                           BITCOIN_NE.text_last1days  \\\n",
       "0  [etoro ceo yoni assia on reaching 12 million u...   \n",
       "1  [government confirms crypto profits not taxabl...   \n",
       "2  [ticker tool uses the bch blockchain to provid...   \n",
       "3  [crypto fundraising is changing again in 2020 ...   \n",
       "4  [subhash chandra garg on the future of crypto ...   \n",
       "\n",
       "  COINJOURNA.text_last1days  COINJOURNA.text_COUNT_last1days  \\\n",
       "0                        []                                0   \n",
       "1                        []                                0   \n",
       "2                        []                                0   \n",
       "3                        []                                0   \n",
       "4                        []                                0   \n",
       "\n",
       "   CRYPTOCURR.text_COUNT_last1days  \\\n",
       "0                                1   \n",
       "1                                0   \n",
       "2                                2   \n",
       "3                                1   \n",
       "4                                1   \n",
       "\n",
       "                           CRYPTOCURR.text_last1days  \\\n",
       "0      [what are your 2020 predictions for #crypto?]   \n",
       "1                                                 []   \n",
       "2  [people are going to opt for something that is...   \n",
       "3                               [bullish on bitcoin]   \n",
       "4  [a burger king location in venezuela is now ac...   \n",
       "\n",
       "   CRYPTOCURR.text_COUNT_last1days  \\\n",
       "0                                2   \n",
       "1                                5   \n",
       "2                                2   \n",
       "3                                7   \n",
       "4                                4   \n",
       "\n",
       "                           CRYPTOCURR.text_last1days  \\\n",
       "0             [line79, youtube13eamt4 indicator fx ]   \n",
       "1  [23mt4 ea  fx  , line81, line82, 24mt4 ea  fx ...   \n",
       "2             [youtube14eamt4 indicator fx , line83]   \n",
       "3  [mt4  fx , 19ea, line85, line87, youtube17mt4 ...   \n",
       "4                    [, line93, macdmt4 fx , line91]   \n",
       "\n",
       "  BTC_FEARGR.bitcoin_search_last1days  \n",
       "0                                  14  \n",
       "1                                  14  \n",
       "2                                  14  \n",
       "3                                  14  \n",
       "4                                  14  "
      ]
     },
     "execution_count": 47,
     "metadata": {},
     "output_type": "execute_result"
    }
   ],
   "source": [
    "df = pd.concat([df, df_blend_v5.loc[:, df_blend_v5.columns != 'timestamp']], axis = 1)\n",
    "df.head()"
   ]
  },
  {
   "cell_type": "code",
   "execution_count": 48,
   "id": "fd951342",
   "metadata": {},
   "outputs": [
    {
     "name": "stdout",
     "output_type": "stream",
     "text": [
      "Task ID: '6167ffe80895fafb4a9d8d4c'.\n",
      "Total estimated consumption: 1555.2 processing units.\n",
      "Task confirmed. Starting download..\n",
      "100%\n",
      "CPU times: user 2.74 s, sys: 13.9 ms, total: 2.76 s\n",
      "Wall time: 11 s\n"
     ]
    },
    {
     "data": {
      "text/html": [
       "<div>\n",
       "<style scoped>\n",
       "    .dataframe tbody tr th:only-of-type {\n",
       "        vertical-align: middle;\n",
       "    }\n",
       "\n",
       "    .dataframe tbody tr th {\n",
       "        vertical-align: top;\n",
       "    }\n",
       "\n",
       "    .dataframe thead th {\n",
       "        text-align: right;\n",
       "    }\n",
       "</style>\n",
       "<table border=\"1\" class=\"dataframe\">\n",
       "  <thead>\n",
       "    <tr style=\"text-align: right;\">\n",
       "      <th></th>\n",
       "      <th>timestamp</th>\n",
       "      <th>FOX_NEWS_B.title_COUNT_last1days</th>\n",
       "      <th>FOX_NEWS_B.title_last1days</th>\n",
       "    </tr>\n",
       "  </thead>\n",
       "  <tbody>\n",
       "    <tr>\n",
       "      <th>0</th>\n",
       "      <td>1577898000</td>\n",
       "      <td>84</td>\n",
       "      <td>[former nissan chairman flees the country whil...</td>\n",
       "    </tr>\n",
       "    <tr>\n",
       "      <th>1</th>\n",
       "      <td>1577984400</td>\n",
       "      <td>76</td>\n",
       "      <td>[why january is the most popular time to divor...</td>\n",
       "    </tr>\n",
       "    <tr>\n",
       "      <th>2</th>\n",
       "      <td>1578070800</td>\n",
       "      <td>160</td>\n",
       "      <td>[ncaa athlete pay debate: why a political show...</td>\n",
       "    </tr>\n",
       "    <tr>\n",
       "      <th>3</th>\n",
       "      <td>1578157200</td>\n",
       "      <td>92</td>\n",
       "      <td>[state posts staggering sales figures after fi...</td>\n",
       "    </tr>\n",
       "    <tr>\n",
       "      <th>4</th>\n",
       "      <td>1578243600</td>\n",
       "      <td>35</td>\n",
       "      <td>[this 2020 billionaire just came one step clos...</td>\n",
       "    </tr>\n",
       "    <tr>\n",
       "      <th>...</th>\n",
       "      <td>...</td>\n",
       "      <td>...</td>\n",
       "      <td>...</td>\n",
       "    </tr>\n",
       "    <tr>\n",
       "      <th>231</th>\n",
       "      <td>1598202000</td>\n",
       "      <td>0</td>\n",
       "      <td>[]</td>\n",
       "    </tr>\n",
       "    <tr>\n",
       "      <th>232</th>\n",
       "      <td>1598374800</td>\n",
       "      <td>0</td>\n",
       "      <td>[]</td>\n",
       "    </tr>\n",
       "    <tr>\n",
       "      <th>233</th>\n",
       "      <td>1598461200</td>\n",
       "      <td>16</td>\n",
       "      <td>[brother of suzanne morphew pleads for brother...</td>\n",
       "    </tr>\n",
       "    <tr>\n",
       "      <th>234</th>\n",
       "      <td>1598547600</td>\n",
       "      <td>0</td>\n",
       "      <td>[]</td>\n",
       "    </tr>\n",
       "    <tr>\n",
       "      <th>235</th>\n",
       "      <td>1598634000</td>\n",
       "      <td>25</td>\n",
       "      <td>[amazon launches fitness band, app, states lau...</td>\n",
       "    </tr>\n",
       "  </tbody>\n",
       "</table>\n",
       "<p>236 rows × 3 columns</p>\n",
       "</div>"
      ],
      "text/plain": [
       "      timestamp  FOX_NEWS_B.title_COUNT_last1days  \\\n",
       "0    1577898000                                84   \n",
       "1    1577984400                                76   \n",
       "2    1578070800                               160   \n",
       "3    1578157200                                92   \n",
       "4    1578243600                                35   \n",
       "..          ...                               ...   \n",
       "231  1598202000                                 0   \n",
       "232  1598374800                                 0   \n",
       "233  1598461200                                16   \n",
       "234  1598547600                                 0   \n",
       "235  1598634000                                25   \n",
       "\n",
       "                            FOX_NEWS_B.title_last1days  \n",
       "0    [former nissan chairman flees the country whil...  \n",
       "1    [why january is the most popular time to divor...  \n",
       "2    [ncaa athlete pay debate: why a political show...  \n",
       "3    [state posts staggering sales figures after fi...  \n",
       "4    [this 2020 billionaire just came one step clos...  \n",
       "..                                                 ...  \n",
       "231                                                 []  \n",
       "232                                                 []  \n",
       "233  [brother of suzanne morphew pleads for brother...  \n",
       "234                                                 []  \n",
       "235  [amazon launches fitness band, app, states lau...  \n",
       "\n",
       "[236 rows x 3 columns]"
      ]
     },
     "execution_count": 48,
     "metadata": {},
     "output_type": "execute_result"
    }
   ],
   "source": [
    "%%time\n",
    "\n",
    "blend_source = {\n",
    "                'id_dataset':'5defce899516296bfe37c366',\n",
    "                'feature' : 'title'\n",
    "            }\n",
    "\n",
    "# Now, let's 'timeBlend' it to our dataset\n",
    "df_blend_v6 = OpenBlender.timeBlend( token = token,\n",
    "                                  anchor_ts = df.timestamp,\n",
    "                                  blend_source = blend_source,\n",
    "                                  blend_type = 'agg_in_intervals',\n",
    "                                  interval_size = 60 * 60 * 24,\n",
    "                                  direction = 'time_prior',\n",
    "                                  interval_output = 'list',\n",
    "                                  missing_values = 'raw')\n",
    "df_blend_v6"
   ]
  },
  {
   "cell_type": "code",
   "execution_count": 51,
   "id": "e090903d",
   "metadata": {},
   "outputs": [
    {
     "name": "stdout",
     "output_type": "stream",
     "text": [
      "Task ID: '616800180895fafb4a9d8d4c'.\n",
      "Total estimated consumption: 1555.2 processing units.\n",
      "Task confirmed. Starting download..\n",
      "100%\n",
      "CPU times: user 2.01 s, sys: 10.6 ms, total: 2.02 s\n",
      "Wall time: 7.27 s\n"
     ]
    },
    {
     "data": {
      "text/html": [
       "<div>\n",
       "<style scoped>\n",
       "    .dataframe tbody tr th:only-of-type {\n",
       "        vertical-align: middle;\n",
       "    }\n",
       "\n",
       "    .dataframe tbody tr th {\n",
       "        vertical-align: top;\n",
       "    }\n",
       "\n",
       "    .dataframe thead th {\n",
       "        text-align: right;\n",
       "    }\n",
       "</style>\n",
       "<table border=\"1\" class=\"dataframe\">\n",
       "  <thead>\n",
       "    <tr style=\"text-align: right;\">\n",
       "      <th></th>\n",
       "      <th>FOX_NEWS_B.headline_COUNT_last1days</th>\n",
       "      <th>timestamp</th>\n",
       "      <th>FOX_NEWS_B.headline_last1days</th>\n",
       "    </tr>\n",
       "  </thead>\n",
       "  <tbody>\n",
       "    <tr>\n",
       "      <th>0</th>\n",
       "      <td>59</td>\n",
       "      <td>1577898000</td>\n",
       "      <td>[ryan patel of the drucker school of managemen...</td>\n",
       "    </tr>\n",
       "    <tr>\n",
       "      <th>1</th>\n",
       "      <td>60</td>\n",
       "      <td>1577984400</td>\n",
       "      <td>[will 2020 bring even more stock market gains?...</td>\n",
       "    </tr>\n",
       "    <tr>\n",
       "      <th>2</th>\n",
       "      <td>92</td>\n",
       "      <td>1578070800</td>\n",
       "      <td>[, cars her way founder lisa copeland discusse...</td>\n",
       "    </tr>\n",
       "    <tr>\n",
       "      <th>3</th>\n",
       "      <td>49</td>\n",
       "      <td>1578157200</td>\n",
       "      <td>[, the airstrikes were targeted two vehicles c...</td>\n",
       "    </tr>\n",
       "    <tr>\n",
       "      <th>4</th>\n",
       "      <td>27</td>\n",
       "      <td>1578243600</td>\n",
       "      <td>[, foxnews, 2020 democratic candidate tom stey...</td>\n",
       "    </tr>\n",
       "    <tr>\n",
       "      <th>...</th>\n",
       "      <td>...</td>\n",
       "      <td>...</td>\n",
       "      <td>...</td>\n",
       "    </tr>\n",
       "    <tr>\n",
       "      <th>231</th>\n",
       "      <td>0</td>\n",
       "      <td>1598202000</td>\n",
       "      <td>[]</td>\n",
       "    </tr>\n",
       "    <tr>\n",
       "      <th>232</th>\n",
       "      <td>0</td>\n",
       "      <td>1598374800</td>\n",
       "      <td>[]</td>\n",
       "    </tr>\n",
       "    <tr>\n",
       "      <th>233</th>\n",
       "      <td>13</td>\n",
       "      <td>1598461200</td>\n",
       "      <td>[, rnc chairwoman ronna mcdaniel on what to ex...</td>\n",
       "    </tr>\n",
       "    <tr>\n",
       "      <th>234</th>\n",
       "      <td>0</td>\n",
       "      <td>1598547600</td>\n",
       "      <td>[]</td>\n",
       "    </tr>\n",
       "    <tr>\n",
       "      <th>235</th>\n",
       "      <td>21</td>\n",
       "      <td>1598634000</td>\n",
       "      <td>[former federal reserve bank of atlanta presid...</td>\n",
       "    </tr>\n",
       "  </tbody>\n",
       "</table>\n",
       "<p>236 rows × 3 columns</p>\n",
       "</div>"
      ],
      "text/plain": [
       "     FOX_NEWS_B.headline_COUNT_last1days   timestamp  \\\n",
       "0                                     59  1577898000   \n",
       "1                                     60  1577984400   \n",
       "2                                     92  1578070800   \n",
       "3                                     49  1578157200   \n",
       "4                                     27  1578243600   \n",
       "..                                   ...         ...   \n",
       "231                                    0  1598202000   \n",
       "232                                    0  1598374800   \n",
       "233                                   13  1598461200   \n",
       "234                                    0  1598547600   \n",
       "235                                   21  1598634000   \n",
       "\n",
       "                         FOX_NEWS_B.headline_last1days  \n",
       "0    [ryan patel of the drucker school of managemen...  \n",
       "1    [will 2020 bring even more stock market gains?...  \n",
       "2    [, cars her way founder lisa copeland discusse...  \n",
       "3    [, the airstrikes were targeted two vehicles c...  \n",
       "4    [, foxnews, 2020 democratic candidate tom stey...  \n",
       "..                                                 ...  \n",
       "231                                                 []  \n",
       "232                                                 []  \n",
       "233  [, rnc chairwoman ronna mcdaniel on what to ex...  \n",
       "234                                                 []  \n",
       "235  [former federal reserve bank of atlanta presid...  \n",
       "\n",
       "[236 rows x 3 columns]"
      ]
     },
     "execution_count": 51,
     "metadata": {},
     "output_type": "execute_result"
    }
   ],
   "source": [
    "%%time\n",
    "\n",
    "blend_source = {\n",
    "                'id_dataset':'5defce899516296bfe37c366',\n",
    "                'feature' : 'headline'\n",
    "            }\n",
    "\n",
    "# Now, let's 'timeBlend' it to our dataset\n",
    "df_blend_v7 = OpenBlender.timeBlend( token = token,\n",
    "                                  anchor_ts = df.timestamp,\n",
    "                                  blend_source = blend_source,\n",
    "                                  blend_type = 'agg_in_intervals',\n",
    "                                  interval_size = 60 * 60 * 24,\n",
    "                                  direction = 'time_prior',\n",
    "                                  interval_output = 'list',\n",
    "                                  missing_values = 'raw')\n",
    "df_blend_v7"
   ]
  },
  {
   "cell_type": "code",
   "execution_count": 52,
   "id": "2a24c2b2",
   "metadata": {},
   "outputs": [
    {
     "data": {
      "text/html": [
       "<div>\n",
       "<style scoped>\n",
       "    .dataframe tbody tr th:only-of-type {\n",
       "        vertical-align: middle;\n",
       "    }\n",
       "\n",
       "    .dataframe tbody tr th {\n",
       "        vertical-align: top;\n",
       "    }\n",
       "\n",
       "    .dataframe thead th {\n",
       "        text-align: right;\n",
       "    }\n",
       "</style>\n",
       "<table border=\"1\" class=\"dataframe\">\n",
       "  <thead>\n",
       "    <tr style=\"text-align: right;\">\n",
       "      <th></th>\n",
       "      <th>date</th>\n",
       "      <th>timestamp</th>\n",
       "      <th>price</th>\n",
       "      <th>target</th>\n",
       "      <th>BITCOIN_NE.text_COUNT_last1days</th>\n",
       "      <th>BITCOIN_NE.text_last1days</th>\n",
       "      <th>COINJOURNA.text_last1days</th>\n",
       "      <th>COINJOURNA.text_COUNT_last1days</th>\n",
       "      <th>CRYPTOCURR.text_COUNT_last1days</th>\n",
       "      <th>CRYPTOCURR.text_last1days</th>\n",
       "      <th>CRYPTOCURR.text_COUNT_last1days</th>\n",
       "      <th>CRYPTOCURR.text_last1days</th>\n",
       "      <th>BTC_FEARGR.bitcoin_search_last1days</th>\n",
       "      <th>FOX_NEWS_B.title_COUNT_last1days</th>\n",
       "      <th>FOX_NEWS_B.title_last1days</th>\n",
       "    </tr>\n",
       "  </thead>\n",
       "  <tbody>\n",
       "    <tr>\n",
       "      <th>0</th>\n",
       "      <td>01-01-2020 17:00:00</td>\n",
       "      <td>1.577898e+09</td>\n",
       "      <td>7212.7</td>\n",
       "      <td>1</td>\n",
       "      <td>3</td>\n",
       "      <td>[etoro ceo yoni assia on reaching 12 million u...</td>\n",
       "      <td>[]</td>\n",
       "      <td>0</td>\n",
       "      <td>1</td>\n",
       "      <td>[what are your 2020 predictions for #crypto?]</td>\n",
       "      <td>2</td>\n",
       "      <td>[line79, youtube13eamt4 indicator fx ]</td>\n",
       "      <td>14</td>\n",
       "      <td>84</td>\n",
       "      <td>[former nissan chairman flees the country whil...</td>\n",
       "    </tr>\n",
       "    <tr>\n",
       "      <th>1</th>\n",
       "      <td>02-01-2020 17:00:00</td>\n",
       "      <td>1.577984e+09</td>\n",
       "      <td>6989.4</td>\n",
       "      <td>0</td>\n",
       "      <td>7</td>\n",
       "      <td>[government confirms crypto profits not taxabl...</td>\n",
       "      <td>[]</td>\n",
       "      <td>0</td>\n",
       "      <td>0</td>\n",
       "      <td>[]</td>\n",
       "      <td>5</td>\n",
       "      <td>[23mt4 ea  fx  , line81, line82, 24mt4 ea  fx ...</td>\n",
       "      <td>14</td>\n",
       "      <td>76</td>\n",
       "      <td>[why january is the most popular time to divor...</td>\n",
       "    </tr>\n",
       "    <tr>\n",
       "      <th>2</th>\n",
       "      <td>03-01-2020 17:00:00</td>\n",
       "      <td>1.578071e+09</td>\n",
       "      <td>7367.5</td>\n",
       "      <td>1</td>\n",
       "      <td>8</td>\n",
       "      <td>[ticker tool uses the bch blockchain to provid...</td>\n",
       "      <td>[]</td>\n",
       "      <td>0</td>\n",
       "      <td>2</td>\n",
       "      <td>[people are going to opt for something that is...</td>\n",
       "      <td>2</td>\n",
       "      <td>[youtube14eamt4 indicator fx , line83]</td>\n",
       "      <td>14</td>\n",
       "      <td>160</td>\n",
       "      <td>[ncaa athlete pay debate: why a political show...</td>\n",
       "    </tr>\n",
       "    <tr>\n",
       "      <th>3</th>\n",
       "      <td>04-01-2020 17:00:00</td>\n",
       "      <td>1.578157e+09</td>\n",
       "      <td>7369.8</td>\n",
       "      <td>0</td>\n",
       "      <td>6</td>\n",
       "      <td>[crypto fundraising is changing again in 2020 ...</td>\n",
       "      <td>[]</td>\n",
       "      <td>0</td>\n",
       "      <td>1</td>\n",
       "      <td>[bullish on bitcoin]</td>\n",
       "      <td>7</td>\n",
       "      <td>[mt4  fx , 19ea, line85, line87, youtube17mt4 ...</td>\n",
       "      <td>14</td>\n",
       "      <td>92</td>\n",
       "      <td>[state posts staggering sales figures after fi...</td>\n",
       "    </tr>\n",
       "    <tr>\n",
       "      <th>4</th>\n",
       "      <td>05-01-2020 17:00:00</td>\n",
       "      <td>1.578244e+09</td>\n",
       "      <td>7364.6</td>\n",
       "      <td>0</td>\n",
       "      <td>5</td>\n",
       "      <td>[subhash chandra garg on the future of crypto ...</td>\n",
       "      <td>[]</td>\n",
       "      <td>0</td>\n",
       "      <td>1</td>\n",
       "      <td>[a burger king location in venezuela is now ac...</td>\n",
       "      <td>4</td>\n",
       "      <td>[, line93, macdmt4 fx , line91]</td>\n",
       "      <td>14</td>\n",
       "      <td>35</td>\n",
       "      <td>[this 2020 billionaire just came one step clos...</td>\n",
       "    </tr>\n",
       "  </tbody>\n",
       "</table>\n",
       "</div>"
      ],
      "text/plain": [
       "                  date     timestamp   price  target  \\\n",
       "0  01-01-2020 17:00:00  1.577898e+09  7212.7       1   \n",
       "1  02-01-2020 17:00:00  1.577984e+09  6989.4       0   \n",
       "2  03-01-2020 17:00:00  1.578071e+09  7367.5       1   \n",
       "3  04-01-2020 17:00:00  1.578157e+09  7369.8       0   \n",
       "4  05-01-2020 17:00:00  1.578244e+09  7364.6       0   \n",
       "\n",
       "   BITCOIN_NE.text_COUNT_last1days  \\\n",
       "0                                3   \n",
       "1                                7   \n",
       "2                                8   \n",
       "3                                6   \n",
       "4                                5   \n",
       "\n",
       "                           BITCOIN_NE.text_last1days  \\\n",
       "0  [etoro ceo yoni assia on reaching 12 million u...   \n",
       "1  [government confirms crypto profits not taxabl...   \n",
       "2  [ticker tool uses the bch blockchain to provid...   \n",
       "3  [crypto fundraising is changing again in 2020 ...   \n",
       "4  [subhash chandra garg on the future of crypto ...   \n",
       "\n",
       "  COINJOURNA.text_last1days  COINJOURNA.text_COUNT_last1days  \\\n",
       "0                        []                                0   \n",
       "1                        []                                0   \n",
       "2                        []                                0   \n",
       "3                        []                                0   \n",
       "4                        []                                0   \n",
       "\n",
       "   CRYPTOCURR.text_COUNT_last1days  \\\n",
       "0                                1   \n",
       "1                                0   \n",
       "2                                2   \n",
       "3                                1   \n",
       "4                                1   \n",
       "\n",
       "                           CRYPTOCURR.text_last1days  \\\n",
       "0      [what are your 2020 predictions for #crypto?]   \n",
       "1                                                 []   \n",
       "2  [people are going to opt for something that is...   \n",
       "3                               [bullish on bitcoin]   \n",
       "4  [a burger king location in venezuela is now ac...   \n",
       "\n",
       "   CRYPTOCURR.text_COUNT_last1days  \\\n",
       "0                                2   \n",
       "1                                5   \n",
       "2                                2   \n",
       "3                                7   \n",
       "4                                4   \n",
       "\n",
       "                           CRYPTOCURR.text_last1days  \\\n",
       "0             [line79, youtube13eamt4 indicator fx ]   \n",
       "1  [23mt4 ea  fx  , line81, line82, 24mt4 ea  fx ...   \n",
       "2             [youtube14eamt4 indicator fx , line83]   \n",
       "3  [mt4  fx , 19ea, line85, line87, youtube17mt4 ...   \n",
       "4                    [, line93, macdmt4 fx , line91]   \n",
       "\n",
       "  BTC_FEARGR.bitcoin_search_last1days  FOX_NEWS_B.title_COUNT_last1days  \\\n",
       "0                                  14                                84   \n",
       "1                                  14                                76   \n",
       "2                                  14                               160   \n",
       "3                                  14                                92   \n",
       "4                                  14                                35   \n",
       "\n",
       "                          FOX_NEWS_B.title_last1days  \n",
       "0  [former nissan chairman flees the country whil...  \n",
       "1  [why january is the most popular time to divor...  \n",
       "2  [ncaa athlete pay debate: why a political show...  \n",
       "3  [state posts staggering sales figures after fi...  \n",
       "4  [this 2020 billionaire just came one step clos...  "
      ]
     },
     "execution_count": 52,
     "metadata": {},
     "output_type": "execute_result"
    }
   ],
   "source": [
    "df = pd.concat([df, df_blend_v6.loc[:, df_blend_v6.columns != 'timestamp']], axis = 1)\n",
    "df.head()"
   ]
  },
  {
   "cell_type": "code",
   "execution_count": 53,
   "id": "cd8aea2a",
   "metadata": {},
   "outputs": [
    {
     "data": {
      "text/html": [
       "<div>\n",
       "<style scoped>\n",
       "    .dataframe tbody tr th:only-of-type {\n",
       "        vertical-align: middle;\n",
       "    }\n",
       "\n",
       "    .dataframe tbody tr th {\n",
       "        vertical-align: top;\n",
       "    }\n",
       "\n",
       "    .dataframe thead th {\n",
       "        text-align: right;\n",
       "    }\n",
       "</style>\n",
       "<table border=\"1\" class=\"dataframe\">\n",
       "  <thead>\n",
       "    <tr style=\"text-align: right;\">\n",
       "      <th></th>\n",
       "      <th>date</th>\n",
       "      <th>timestamp</th>\n",
       "      <th>price</th>\n",
       "      <th>target</th>\n",
       "      <th>BITCOIN_NE.text_COUNT_last1days</th>\n",
       "      <th>BITCOIN_NE.text_last1days</th>\n",
       "      <th>COINJOURNA.text_last1days</th>\n",
       "      <th>COINJOURNA.text_COUNT_last1days</th>\n",
       "      <th>CRYPTOCURR.text_COUNT_last1days</th>\n",
       "      <th>CRYPTOCURR.text_last1days</th>\n",
       "      <th>CRYPTOCURR.text_COUNT_last1days</th>\n",
       "      <th>CRYPTOCURR.text_last1days</th>\n",
       "      <th>BTC_FEARGR.bitcoin_search_last1days</th>\n",
       "      <th>FOX_NEWS_B.title_COUNT_last1days</th>\n",
       "      <th>FOX_NEWS_B.title_last1days</th>\n",
       "      <th>FOX_NEWS_B.headline_COUNT_last1days</th>\n",
       "      <th>FOX_NEWS_B.headline_last1days</th>\n",
       "    </tr>\n",
       "  </thead>\n",
       "  <tbody>\n",
       "    <tr>\n",
       "      <th>0</th>\n",
       "      <td>01-01-2020 17:00:00</td>\n",
       "      <td>1.577898e+09</td>\n",
       "      <td>7212.7</td>\n",
       "      <td>1</td>\n",
       "      <td>3</td>\n",
       "      <td>[etoro ceo yoni assia on reaching 12 million u...</td>\n",
       "      <td>[]</td>\n",
       "      <td>0</td>\n",
       "      <td>1</td>\n",
       "      <td>[what are your 2020 predictions for #crypto?]</td>\n",
       "      <td>2</td>\n",
       "      <td>[line79, youtube13eamt4 indicator fx ]</td>\n",
       "      <td>14</td>\n",
       "      <td>84</td>\n",
       "      <td>[former nissan chairman flees the country whil...</td>\n",
       "      <td>59</td>\n",
       "      <td>[ryan patel of the drucker school of managemen...</td>\n",
       "    </tr>\n",
       "    <tr>\n",
       "      <th>1</th>\n",
       "      <td>02-01-2020 17:00:00</td>\n",
       "      <td>1.577984e+09</td>\n",
       "      <td>6989.4</td>\n",
       "      <td>0</td>\n",
       "      <td>7</td>\n",
       "      <td>[government confirms crypto profits not taxabl...</td>\n",
       "      <td>[]</td>\n",
       "      <td>0</td>\n",
       "      <td>0</td>\n",
       "      <td>[]</td>\n",
       "      <td>5</td>\n",
       "      <td>[23mt4 ea  fx  , line81, line82, 24mt4 ea  fx ...</td>\n",
       "      <td>14</td>\n",
       "      <td>76</td>\n",
       "      <td>[why january is the most popular time to divor...</td>\n",
       "      <td>60</td>\n",
       "      <td>[will 2020 bring even more stock market gains?...</td>\n",
       "    </tr>\n",
       "    <tr>\n",
       "      <th>2</th>\n",
       "      <td>03-01-2020 17:00:00</td>\n",
       "      <td>1.578071e+09</td>\n",
       "      <td>7367.5</td>\n",
       "      <td>1</td>\n",
       "      <td>8</td>\n",
       "      <td>[ticker tool uses the bch blockchain to provid...</td>\n",
       "      <td>[]</td>\n",
       "      <td>0</td>\n",
       "      <td>2</td>\n",
       "      <td>[people are going to opt for something that is...</td>\n",
       "      <td>2</td>\n",
       "      <td>[youtube14eamt4 indicator fx , line83]</td>\n",
       "      <td>14</td>\n",
       "      <td>160</td>\n",
       "      <td>[ncaa athlete pay debate: why a political show...</td>\n",
       "      <td>92</td>\n",
       "      <td>[, cars her way founder lisa copeland discusse...</td>\n",
       "    </tr>\n",
       "    <tr>\n",
       "      <th>3</th>\n",
       "      <td>04-01-2020 17:00:00</td>\n",
       "      <td>1.578157e+09</td>\n",
       "      <td>7369.8</td>\n",
       "      <td>0</td>\n",
       "      <td>6</td>\n",
       "      <td>[crypto fundraising is changing again in 2020 ...</td>\n",
       "      <td>[]</td>\n",
       "      <td>0</td>\n",
       "      <td>1</td>\n",
       "      <td>[bullish on bitcoin]</td>\n",
       "      <td>7</td>\n",
       "      <td>[mt4  fx , 19ea, line85, line87, youtube17mt4 ...</td>\n",
       "      <td>14</td>\n",
       "      <td>92</td>\n",
       "      <td>[state posts staggering sales figures after fi...</td>\n",
       "      <td>49</td>\n",
       "      <td>[, the airstrikes were targeted two vehicles c...</td>\n",
       "    </tr>\n",
       "    <tr>\n",
       "      <th>4</th>\n",
       "      <td>05-01-2020 17:00:00</td>\n",
       "      <td>1.578244e+09</td>\n",
       "      <td>7364.6</td>\n",
       "      <td>0</td>\n",
       "      <td>5</td>\n",
       "      <td>[subhash chandra garg on the future of crypto ...</td>\n",
       "      <td>[]</td>\n",
       "      <td>0</td>\n",
       "      <td>1</td>\n",
       "      <td>[a burger king location in venezuela is now ac...</td>\n",
       "      <td>4</td>\n",
       "      <td>[, line93, macdmt4 fx , line91]</td>\n",
       "      <td>14</td>\n",
       "      <td>35</td>\n",
       "      <td>[this 2020 billionaire just came one step clos...</td>\n",
       "      <td>27</td>\n",
       "      <td>[, foxnews, 2020 democratic candidate tom stey...</td>\n",
       "    </tr>\n",
       "  </tbody>\n",
       "</table>\n",
       "</div>"
      ],
      "text/plain": [
       "                  date     timestamp   price  target  \\\n",
       "0  01-01-2020 17:00:00  1.577898e+09  7212.7       1   \n",
       "1  02-01-2020 17:00:00  1.577984e+09  6989.4       0   \n",
       "2  03-01-2020 17:00:00  1.578071e+09  7367.5       1   \n",
       "3  04-01-2020 17:00:00  1.578157e+09  7369.8       0   \n",
       "4  05-01-2020 17:00:00  1.578244e+09  7364.6       0   \n",
       "\n",
       "   BITCOIN_NE.text_COUNT_last1days  \\\n",
       "0                                3   \n",
       "1                                7   \n",
       "2                                8   \n",
       "3                                6   \n",
       "4                                5   \n",
       "\n",
       "                           BITCOIN_NE.text_last1days  \\\n",
       "0  [etoro ceo yoni assia on reaching 12 million u...   \n",
       "1  [government confirms crypto profits not taxabl...   \n",
       "2  [ticker tool uses the bch blockchain to provid...   \n",
       "3  [crypto fundraising is changing again in 2020 ...   \n",
       "4  [subhash chandra garg on the future of crypto ...   \n",
       "\n",
       "  COINJOURNA.text_last1days  COINJOURNA.text_COUNT_last1days  \\\n",
       "0                        []                                0   \n",
       "1                        []                                0   \n",
       "2                        []                                0   \n",
       "3                        []                                0   \n",
       "4                        []                                0   \n",
       "\n",
       "   CRYPTOCURR.text_COUNT_last1days  \\\n",
       "0                                1   \n",
       "1                                0   \n",
       "2                                2   \n",
       "3                                1   \n",
       "4                                1   \n",
       "\n",
       "                           CRYPTOCURR.text_last1days  \\\n",
       "0      [what are your 2020 predictions for #crypto?]   \n",
       "1                                                 []   \n",
       "2  [people are going to opt for something that is...   \n",
       "3                               [bullish on bitcoin]   \n",
       "4  [a burger king location in venezuela is now ac...   \n",
       "\n",
       "   CRYPTOCURR.text_COUNT_last1days  \\\n",
       "0                                2   \n",
       "1                                5   \n",
       "2                                2   \n",
       "3                                7   \n",
       "4                                4   \n",
       "\n",
       "                           CRYPTOCURR.text_last1days  \\\n",
       "0             [line79, youtube13eamt4 indicator fx ]   \n",
       "1  [23mt4 ea  fx  , line81, line82, 24mt4 ea  fx ...   \n",
       "2             [youtube14eamt4 indicator fx , line83]   \n",
       "3  [mt4  fx , 19ea, line85, line87, youtube17mt4 ...   \n",
       "4                    [, line93, macdmt4 fx , line91]   \n",
       "\n",
       "  BTC_FEARGR.bitcoin_search_last1days  FOX_NEWS_B.title_COUNT_last1days  \\\n",
       "0                                  14                                84   \n",
       "1                                  14                                76   \n",
       "2                                  14                               160   \n",
       "3                                  14                                92   \n",
       "4                                  14                                35   \n",
       "\n",
       "                          FOX_NEWS_B.title_last1days  \\\n",
       "0  [former nissan chairman flees the country whil...   \n",
       "1  [why january is the most popular time to divor...   \n",
       "2  [ncaa athlete pay debate: why a political show...   \n",
       "3  [state posts staggering sales figures after fi...   \n",
       "4  [this 2020 billionaire just came one step clos...   \n",
       "\n",
       "   FOX_NEWS_B.headline_COUNT_last1days  \\\n",
       "0                                   59   \n",
       "1                                   60   \n",
       "2                                   92   \n",
       "3                                   49   \n",
       "4                                   27   \n",
       "\n",
       "                       FOX_NEWS_B.headline_last1days  \n",
       "0  [ryan patel of the drucker school of managemen...  \n",
       "1  [will 2020 bring even more stock market gains?...  \n",
       "2  [, cars her way founder lisa copeland discusse...  \n",
       "3  [, the airstrikes were targeted two vehicles c...  \n",
       "4  [, foxnews, 2020 democratic candidate tom stey...  "
      ]
     },
     "execution_count": 53,
     "metadata": {},
     "output_type": "execute_result"
    }
   ],
   "source": [
    "df = pd.concat([df, df_blend_v7.loc[:, df_blend_v7.columns != 'timestamp']], axis = 1)\n",
    "df.head()"
   ]
  },
  {
   "cell_type": "markdown",
   "id": "54192df1",
   "metadata": {},
   "source": [
    "### дамп так как тексты неверно записываются в файл"
   ]
  },
  {
   "cell_type": "code",
   "execution_count": 54,
   "id": "a848d41f",
   "metadata": {},
   "outputs": [],
   "source": [
    "import pickle\n",
    "with open(\"full_df_with_7_sources.pickle\", \"wb\") as f:\n",
    "    pickle.dump(df, f)"
   ]
  },
  {
   "cell_type": "code",
   "execution_count": 65,
   "id": "de386393",
   "metadata": {},
   "outputs": [
    {
     "data": {
      "text/html": [
       "<div>\n",
       "<style scoped>\n",
       "    .dataframe tbody tr th:only-of-type {\n",
       "        vertical-align: middle;\n",
       "    }\n",
       "\n",
       "    .dataframe tbody tr th {\n",
       "        vertical-align: top;\n",
       "    }\n",
       "\n",
       "    .dataframe thead th {\n",
       "        text-align: right;\n",
       "    }\n",
       "</style>\n",
       "<table border=\"1\" class=\"dataframe\">\n",
       "  <thead>\n",
       "    <tr style=\"text-align: right;\">\n",
       "      <th></th>\n",
       "      <th>date</th>\n",
       "      <th>timestamp</th>\n",
       "      <th>price</th>\n",
       "      <th>target</th>\n",
       "      <th>BITCOIN_NE.text_COUNT_last1days</th>\n",
       "      <th>BITCOIN_NE.text_last1days</th>\n",
       "      <th>COINJOURNA.text_last1days</th>\n",
       "      <th>COINJOURNA.text_COUNT_last1days</th>\n",
       "      <th>CRYPTOCURR.text_COUNT_last1days</th>\n",
       "      <th>CRYPTOCURR.text_last1days</th>\n",
       "      <th>CRYPTOCURR.text_COUNT_last1days</th>\n",
       "      <th>CRYPTOCURR.text_last1days</th>\n",
       "      <th>BTC_FEARGR.bitcoin_search_last1days</th>\n",
       "      <th>FOX_NEWS_B.title_COUNT_last1days</th>\n",
       "      <th>FOX_NEWS_B.title_last1days</th>\n",
       "      <th>FOX_NEWS_B.headline_COUNT_last1days</th>\n",
       "      <th>FOX_NEWS_B.headline_last1days</th>\n",
       "    </tr>\n",
       "  </thead>\n",
       "  <tbody>\n",
       "    <tr>\n",
       "      <th>0</th>\n",
       "      <td>01-01-2020 17:00:00</td>\n",
       "      <td>1.577898e+09</td>\n",
       "      <td>7212.7</td>\n",
       "      <td>1</td>\n",
       "      <td>3</td>\n",
       "      <td>[etoro ceo yoni assia on reaching 12 million u...</td>\n",
       "      <td>[]</td>\n",
       "      <td>0</td>\n",
       "      <td>1</td>\n",
       "      <td>[what are your 2020 predictions for #crypto?]</td>\n",
       "      <td>2</td>\n",
       "      <td>[line79, youtube13eamt4 indicator fx ]</td>\n",
       "      <td>14</td>\n",
       "      <td>84</td>\n",
       "      <td>[former nissan chairman flees the country whil...</td>\n",
       "      <td>59</td>\n",
       "      <td>[ryan patel of the drucker school of managemen...</td>\n",
       "    </tr>\n",
       "    <tr>\n",
       "      <th>1</th>\n",
       "      <td>02-01-2020 17:00:00</td>\n",
       "      <td>1.577984e+09</td>\n",
       "      <td>6989.4</td>\n",
       "      <td>0</td>\n",
       "      <td>7</td>\n",
       "      <td>[government confirms crypto profits not taxabl...</td>\n",
       "      <td>[]</td>\n",
       "      <td>0</td>\n",
       "      <td>0</td>\n",
       "      <td>[]</td>\n",
       "      <td>5</td>\n",
       "      <td>[23mt4 ea  fx  , line81, line82, 24mt4 ea  fx ...</td>\n",
       "      <td>14</td>\n",
       "      <td>76</td>\n",
       "      <td>[why january is the most popular time to divor...</td>\n",
       "      <td>60</td>\n",
       "      <td>[will 2020 bring even more stock market gains?...</td>\n",
       "    </tr>\n",
       "    <tr>\n",
       "      <th>2</th>\n",
       "      <td>03-01-2020 17:00:00</td>\n",
       "      <td>1.578071e+09</td>\n",
       "      <td>7367.5</td>\n",
       "      <td>1</td>\n",
       "      <td>8</td>\n",
       "      <td>[ticker tool uses the bch blockchain to provid...</td>\n",
       "      <td>[]</td>\n",
       "      <td>0</td>\n",
       "      <td>2</td>\n",
       "      <td>[people are going to opt for something that is...</td>\n",
       "      <td>2</td>\n",
       "      <td>[youtube14eamt4 indicator fx , line83]</td>\n",
       "      <td>14</td>\n",
       "      <td>160</td>\n",
       "      <td>[ncaa athlete pay debate: why a political show...</td>\n",
       "      <td>92</td>\n",
       "      <td>[, cars her way founder lisa copeland discusse...</td>\n",
       "    </tr>\n",
       "    <tr>\n",
       "      <th>3</th>\n",
       "      <td>04-01-2020 17:00:00</td>\n",
       "      <td>1.578157e+09</td>\n",
       "      <td>7369.8</td>\n",
       "      <td>0</td>\n",
       "      <td>6</td>\n",
       "      <td>[crypto fundraising is changing again in 2020 ...</td>\n",
       "      <td>[]</td>\n",
       "      <td>0</td>\n",
       "      <td>1</td>\n",
       "      <td>[bullish on bitcoin]</td>\n",
       "      <td>7</td>\n",
       "      <td>[mt4  fx , 19ea, line85, line87, youtube17mt4 ...</td>\n",
       "      <td>14</td>\n",
       "      <td>92</td>\n",
       "      <td>[state posts staggering sales figures after fi...</td>\n",
       "      <td>49</td>\n",
       "      <td>[, the airstrikes were targeted two vehicles c...</td>\n",
       "    </tr>\n",
       "    <tr>\n",
       "      <th>4</th>\n",
       "      <td>05-01-2020 17:00:00</td>\n",
       "      <td>1.578244e+09</td>\n",
       "      <td>7364.6</td>\n",
       "      <td>0</td>\n",
       "      <td>5</td>\n",
       "      <td>[subhash chandra garg on the future of crypto ...</td>\n",
       "      <td>[]</td>\n",
       "      <td>0</td>\n",
       "      <td>1</td>\n",
       "      <td>[a burger king location in venezuela is now ac...</td>\n",
       "      <td>4</td>\n",
       "      <td>[, line93, macdmt4 fx , line91]</td>\n",
       "      <td>14</td>\n",
       "      <td>35</td>\n",
       "      <td>[this 2020 billionaire just came one step clos...</td>\n",
       "      <td>27</td>\n",
       "      <td>[, foxnews, 2020 democratic candidate tom stey...</td>\n",
       "    </tr>\n",
       "    <tr>\n",
       "      <th>...</th>\n",
       "      <td>...</td>\n",
       "      <td>...</td>\n",
       "      <td>...</td>\n",
       "      <td>...</td>\n",
       "      <td>...</td>\n",
       "      <td>...</td>\n",
       "      <td>...</td>\n",
       "      <td>...</td>\n",
       "      <td>...</td>\n",
       "      <td>...</td>\n",
       "      <td>...</td>\n",
       "      <td>...</td>\n",
       "      <td>...</td>\n",
       "      <td>...</td>\n",
       "      <td>...</td>\n",
       "      <td>...</td>\n",
       "      <td>...</td>\n",
       "    </tr>\n",
       "    <tr>\n",
       "      <th>231</th>\n",
       "      <td>23-08-2020 17:00:00</td>\n",
       "      <td>1.598202e+09</td>\n",
       "      <td>11663.0</td>\n",
       "      <td>0</td>\n",
       "      <td>0</td>\n",
       "      <td>[]</td>\n",
       "      <td>[]</td>\n",
       "      <td>0</td>\n",
       "      <td>1</td>\n",
       "      <td>[you gotta have some fortitude to handle the s...</td>\n",
       "      <td>0</td>\n",
       "      <td>[]</td>\n",
       "      <td>14</td>\n",
       "      <td>0</td>\n",
       "      <td>[]</td>\n",
       "      <td>0</td>\n",
       "      <td>[]</td>\n",
       "    </tr>\n",
       "    <tr>\n",
       "      <th>232</th>\n",
       "      <td>25-08-2020 17:00:00</td>\n",
       "      <td>1.598375e+09</td>\n",
       "      <td>11341.0</td>\n",
       "      <td>0</td>\n",
       "      <td>0</td>\n",
       "      <td>[]</td>\n",
       "      <td>[xrps active wallets hit 7day high despite 92 ...</td>\n",
       "      <td>1</td>\n",
       "      <td>0</td>\n",
       "      <td>[]</td>\n",
       "      <td>0</td>\n",
       "      <td>[]</td>\n",
       "      <td>15</td>\n",
       "      <td>0</td>\n",
       "      <td>[]</td>\n",
       "      <td>0</td>\n",
       "      <td>[]</td>\n",
       "    </tr>\n",
       "    <tr>\n",
       "      <th>233</th>\n",
       "      <td>26-08-2020 17:00:00</td>\n",
       "      <td>1.598461e+09</td>\n",
       "      <td>11471.0</td>\n",
       "      <td>1</td>\n",
       "      <td>0</td>\n",
       "      <td>[]</td>\n",
       "      <td>[the irs is sending tax warning letters to cry...</td>\n",
       "      <td>3</td>\n",
       "      <td>0</td>\n",
       "      <td>[]</td>\n",
       "      <td>1</td>\n",
       "      <td>[defi pieformance]</td>\n",
       "      <td>15</td>\n",
       "      <td>16</td>\n",
       "      <td>[brother of suzanne morphew pleads for brother...</td>\n",
       "      <td>13</td>\n",
       "      <td>[, rnc chairwoman ronna mcdaniel on what to ex...</td>\n",
       "    </tr>\n",
       "    <tr>\n",
       "      <th>234</th>\n",
       "      <td>27-08-2020 17:00:00</td>\n",
       "      <td>1.598548e+09</td>\n",
       "      <td>11343.0</td>\n",
       "      <td>0</td>\n",
       "      <td>0</td>\n",
       "      <td>[]</td>\n",
       "      <td>[brazils central bank considering the developm...</td>\n",
       "      <td>4</td>\n",
       "      <td>0</td>\n",
       "      <td>[]</td>\n",
       "      <td>0</td>\n",
       "      <td>[]</td>\n",
       "      <td>15</td>\n",
       "      <td>0</td>\n",
       "      <td>[]</td>\n",
       "      <td>0</td>\n",
       "      <td>[]</td>\n",
       "    </tr>\n",
       "    <tr>\n",
       "      <th>235</th>\n",
       "      <td>28-08-2020 17:00:00</td>\n",
       "      <td>1.598634e+09</td>\n",
       "      <td>11545.0</td>\n",
       "      <td>1</td>\n",
       "      <td>0</td>\n",
       "      <td>[]</td>\n",
       "      <td>[polkadot (dot) hits major resistance after ra...</td>\n",
       "      <td>4</td>\n",
       "      <td>0</td>\n",
       "      <td>[]</td>\n",
       "      <td>4</td>\n",
       "      <td>[band staking of huobi\\n\\n#band #huobi, band s...</td>\n",
       "      <td>15</td>\n",
       "      <td>25</td>\n",
       "      <td>[amazon launches fitness band, app, states lau...</td>\n",
       "      <td>21</td>\n",
       "      <td>[former federal reserve bank of atlanta presid...</td>\n",
       "    </tr>\n",
       "  </tbody>\n",
       "</table>\n",
       "<p>236 rows × 17 columns</p>\n",
       "</div>"
      ],
      "text/plain": [
       "                    date     timestamp    price  target  \\\n",
       "0    01-01-2020 17:00:00  1.577898e+09   7212.7       1   \n",
       "1    02-01-2020 17:00:00  1.577984e+09   6989.4       0   \n",
       "2    03-01-2020 17:00:00  1.578071e+09   7367.5       1   \n",
       "3    04-01-2020 17:00:00  1.578157e+09   7369.8       0   \n",
       "4    05-01-2020 17:00:00  1.578244e+09   7364.6       0   \n",
       "..                   ...           ...      ...     ...   \n",
       "231  23-08-2020 17:00:00  1.598202e+09  11663.0       0   \n",
       "232  25-08-2020 17:00:00  1.598375e+09  11341.0       0   \n",
       "233  26-08-2020 17:00:00  1.598461e+09  11471.0       1   \n",
       "234  27-08-2020 17:00:00  1.598548e+09  11343.0       0   \n",
       "235  28-08-2020 17:00:00  1.598634e+09  11545.0       1   \n",
       "\n",
       "     BITCOIN_NE.text_COUNT_last1days  \\\n",
       "0                                  3   \n",
       "1                                  7   \n",
       "2                                  8   \n",
       "3                                  6   \n",
       "4                                  5   \n",
       "..                               ...   \n",
       "231                                0   \n",
       "232                                0   \n",
       "233                                0   \n",
       "234                                0   \n",
       "235                                0   \n",
       "\n",
       "                             BITCOIN_NE.text_last1days  \\\n",
       "0    [etoro ceo yoni assia on reaching 12 million u...   \n",
       "1    [government confirms crypto profits not taxabl...   \n",
       "2    [ticker tool uses the bch blockchain to provid...   \n",
       "3    [crypto fundraising is changing again in 2020 ...   \n",
       "4    [subhash chandra garg on the future of crypto ...   \n",
       "..                                                 ...   \n",
       "231                                                 []   \n",
       "232                                                 []   \n",
       "233                                                 []   \n",
       "234                                                 []   \n",
       "235                                                 []   \n",
       "\n",
       "                             COINJOURNA.text_last1days  \\\n",
       "0                                                   []   \n",
       "1                                                   []   \n",
       "2                                                   []   \n",
       "3                                                   []   \n",
       "4                                                   []   \n",
       "..                                                 ...   \n",
       "231                                                 []   \n",
       "232  [xrps active wallets hit 7day high despite 92 ...   \n",
       "233  [the irs is sending tax warning letters to cry...   \n",
       "234  [brazils central bank considering the developm...   \n",
       "235  [polkadot (dot) hits major resistance after ra...   \n",
       "\n",
       "     COINJOURNA.text_COUNT_last1days  CRYPTOCURR.text_COUNT_last1days  \\\n",
       "0                                  0                                1   \n",
       "1                                  0                                0   \n",
       "2                                  0                                2   \n",
       "3                                  0                                1   \n",
       "4                                  0                                1   \n",
       "..                               ...                              ...   \n",
       "231                                0                                1   \n",
       "232                                1                                0   \n",
       "233                                3                                0   \n",
       "234                                4                                0   \n",
       "235                                4                                0   \n",
       "\n",
       "                             CRYPTOCURR.text_last1days  \\\n",
       "0        [what are your 2020 predictions for #crypto?]   \n",
       "1                                                   []   \n",
       "2    [people are going to opt for something that is...   \n",
       "3                                 [bullish on bitcoin]   \n",
       "4    [a burger king location in venezuela is now ac...   \n",
       "..                                                 ...   \n",
       "231  [you gotta have some fortitude to handle the s...   \n",
       "232                                                 []   \n",
       "233                                                 []   \n",
       "234                                                 []   \n",
       "235                                                 []   \n",
       "\n",
       "     CRYPTOCURR.text_COUNT_last1days  \\\n",
       "0                                  2   \n",
       "1                                  5   \n",
       "2                                  2   \n",
       "3                                  7   \n",
       "4                                  4   \n",
       "..                               ...   \n",
       "231                                0   \n",
       "232                                0   \n",
       "233                                1   \n",
       "234                                0   \n",
       "235                                4   \n",
       "\n",
       "                             CRYPTOCURR.text_last1days  \\\n",
       "0               [line79, youtube13eamt4 indicator fx ]   \n",
       "1    [23mt4 ea  fx  , line81, line82, 24mt4 ea  fx ...   \n",
       "2               [youtube14eamt4 indicator fx , line83]   \n",
       "3    [mt4  fx , 19ea, line85, line87, youtube17mt4 ...   \n",
       "4                      [, line93, macdmt4 fx , line91]   \n",
       "..                                                 ...   \n",
       "231                                                 []   \n",
       "232                                                 []   \n",
       "233                                 [defi pieformance]   \n",
       "234                                                 []   \n",
       "235  [band staking of huobi\\n\\n#band #huobi, band s...   \n",
       "\n",
       "    BTC_FEARGR.bitcoin_search_last1days  FOX_NEWS_B.title_COUNT_last1days  \\\n",
       "0                                    14                                84   \n",
       "1                                    14                                76   \n",
       "2                                    14                               160   \n",
       "3                                    14                                92   \n",
       "4                                    14                                35   \n",
       "..                                  ...                               ...   \n",
       "231                                  14                                 0   \n",
       "232                                  15                                 0   \n",
       "233                                  15                                16   \n",
       "234                                  15                                 0   \n",
       "235                                  15                                25   \n",
       "\n",
       "                            FOX_NEWS_B.title_last1days  \\\n",
       "0    [former nissan chairman flees the country whil...   \n",
       "1    [why january is the most popular time to divor...   \n",
       "2    [ncaa athlete pay debate: why a political show...   \n",
       "3    [state posts staggering sales figures after fi...   \n",
       "4    [this 2020 billionaire just came one step clos...   \n",
       "..                                                 ...   \n",
       "231                                                 []   \n",
       "232                                                 []   \n",
       "233  [brother of suzanne morphew pleads for brother...   \n",
       "234                                                 []   \n",
       "235  [amazon launches fitness band, app, states lau...   \n",
       "\n",
       "     FOX_NEWS_B.headline_COUNT_last1days  \\\n",
       "0                                     59   \n",
       "1                                     60   \n",
       "2                                     92   \n",
       "3                                     49   \n",
       "4                                     27   \n",
       "..                                   ...   \n",
       "231                                    0   \n",
       "232                                    0   \n",
       "233                                   13   \n",
       "234                                    0   \n",
       "235                                   21   \n",
       "\n",
       "                         FOX_NEWS_B.headline_last1days  \n",
       "0    [ryan patel of the drucker school of managemen...  \n",
       "1    [will 2020 bring even more stock market gains?...  \n",
       "2    [, cars her way founder lisa copeland discusse...  \n",
       "3    [, the airstrikes were targeted two vehicles c...  \n",
       "4    [, foxnews, 2020 democratic candidate tom stey...  \n",
       "..                                                 ...  \n",
       "231                                                 []  \n",
       "232                                                 []  \n",
       "233  [, rnc chairwoman ronna mcdaniel on what to ex...  \n",
       "234                                                 []  \n",
       "235  [former federal reserve bank of atlanta presid...  \n",
       "\n",
       "[236 rows x 17 columns]"
      ]
     },
     "execution_count": 65,
     "metadata": {},
     "output_type": "execute_result"
    }
   ],
   "source": [
    "with open(\"full_df_with_7_sources.pickle\", \"rb\") as f:\n",
    "    df = pickle.load(f)\n",
    "d"
   ]
  },
  {
   "cell_type": "code",
   "execution_count": 57,
   "id": "eb44a666",
   "metadata": {},
   "outputs": [
    {
     "data": {
      "text/plain": [
       "['etoro ceo yoni assia on reaching 12 million users and why cryptos are a gateway to stocks ',\n",
       " 'china takes another step away from usd hegemony ',\n",
       " 'veriblock captured close to 60 of btcs op return transactions in 2019 ']"
      ]
     },
     "execution_count": 57,
     "metadata": {},
     "output_type": "execute_result"
    }
   ],
   "source": [
    "d['BITCOIN_NE.text_last1days'][0]"
   ]
  },
  {
   "cell_type": "code",
   "execution_count": 59,
   "id": "3e70b003",
   "metadata": {},
   "outputs": [
    {
     "data": {
      "text/plain": [
       "\"['etoro ceo yoni assia on reaching 12 million users and why cryptos are a gateway to stocks ', 'china takes another step away from usd hegemony ', 'veriblock captured close to 60 of btcs op return transactions in 2019 ']\""
      ]
     },
     "execution_count": 59,
     "metadata": {},
     "output_type": "execute_result"
    }
   ],
   "source": [
    "pd.read_csv(\"full_df_with_7_sources.csv\")['BITCOIN_NE.text_last1days'][0]"
   ]
  },
  {
   "cell_type": "markdown",
   "id": "6da160b4",
   "metadata": {},
   "source": [
    "### csv "
   ]
  },
  {
   "cell_type": "code",
   "execution_count": 60,
   "id": "11d7f86c",
   "metadata": {},
   "outputs": [],
   "source": [
    "# df.to_csv(\"full_df_with_7_sources.csv\", index=False)"
   ]
  },
  {
   "cell_type": "code",
   "execution_count": 66,
   "id": "429e5336",
   "metadata": {},
   "outputs": [
    {
     "data": {
      "text/plain": [
       "Index(['date', 'timestamp', 'price', 'target',\n",
       "       'BITCOIN_NE.text_COUNT_last1days', 'BITCOIN_NE.text_last1days',\n",
       "       'COINJOURNA.text_last1days', 'COINJOURNA.text_COUNT_last1days',\n",
       "       'CRYPTOCURR.text_COUNT_last1days', 'CRYPTOCURR.text_last1days',\n",
       "       'CRYPTOCURR.text_COUNT_last1days', 'CRYPTOCURR.text_last1days',\n",
       "       'BTC_FEARGR.bitcoin_search_last1days',\n",
       "       'FOX_NEWS_B.title_COUNT_last1days', 'FOX_NEWS_B.title_last1days',\n",
       "       'FOX_NEWS_B.headline_COUNT_last1days', 'FOX_NEWS_B.headline_last1days'],\n",
       "      dtype='object')"
      ]
     },
     "execution_count": 66,
     "metadata": {},
     "output_type": "execute_result"
    }
   ],
   "source": [
    "df.columns"
   ]
  },
  {
   "cell_type": "code",
   "execution_count": 67,
   "id": "f22ae495",
   "metadata": {},
   "outputs": [],
   "source": [
    "df['CRYPTOCURR.text_last1days_v1'] = df['CRYPTOCURR.text_last1days'].values[:, 0]\n",
    "df['CRYPTOCURR.text_last1days_v2'] = df['CRYPTOCURR.text_last1days'].values[:, 1]"
   ]
  },
  {
   "cell_type": "code",
   "execution_count": 68,
   "id": "11d41c6d",
   "metadata": {},
   "outputs": [],
   "source": [
    "df['CRYPTOCURR.text_COUNT_last1days_v1'] = df['CRYPTOCURR.text_COUNT_last1days'].values[:, 0]\n",
    "df['CRYPTOCURR.text_COUNT_last1days_v2'] = df['CRYPTOCURR.text_COUNT_last1days'].values[:, 1]\n",
    "\n",
    "del df['CRYPTOCURR.text_last1days']\n",
    "del df['CRYPTOCURR.text_COUNT_last1days']"
   ]
  },
  {
   "cell_type": "code",
   "execution_count": 71,
   "id": "15605cb5",
   "metadata": {},
   "outputs": [],
   "source": [
    "count_features = [\n",
    "    'BITCOIN_NE.text_COUNT_last1days', \n",
    "    'COINJOURNA.text_COUNT_last1days', \n",
    "    'CRYPTOCURR.text_COUNT_last1days_v1', \n",
    "    'CRYPTOCURR.text_COUNT_last1days_v2',\n",
    "    'BTC_FEARGR.bitcoin_search_last1days', \n",
    "    'FOX_NEWS_B.title_COUNT_last1days', \n",
    "    'FOX_NEWS_B.headline_COUNT_last1days'\n",
    "]\n",
    "text_features = [\n",
    "    'BITCOIN_NE.text_last1days', 'CRYPTOCURR.text_last1days_v1',\n",
    "    'CRYPTOCURR.text_last1days_v2', 'FOX_NEWS_B.title_last1days', \n",
    "    'FOX_NEWS_B.headline_last1days', 'COINJOURNA.text_last1days'\n",
    "]"
   ]
  },
  {
   "cell_type": "code",
   "execution_count": 72,
   "id": "b21dbdb4",
   "metadata": {},
   "outputs": [],
   "source": [
    "df['BTC_FEARGR.bitcoin_search_last1days'] = df['BTC_FEARGR.bitcoin_search_last1days'].apply(lambda x: int(x))"
   ]
  },
  {
   "cell_type": "markdown",
   "id": "86dc8fa3",
   "metadata": {},
   "source": [
    "### видим что у количества корреляция очень слабая"
   ]
  },
  {
   "cell_type": "code",
   "execution_count": 73,
   "id": "eb88d2ea",
   "metadata": {},
   "outputs": [
    {
     "data": {
      "text/plain": [
       "target                                 1.000000\n",
       "BITCOIN_NE.text_COUNT_last1days        0.015667\n",
       "COINJOURNA.text_COUNT_last1days        0.031513\n",
       "CRYPTOCURR.text_COUNT_last1days_v1    -0.106928\n",
       "CRYPTOCURR.text_COUNT_last1days_v2    -0.048718\n",
       "BTC_FEARGR.bitcoin_search_last1days    0.037524\n",
       "FOX_NEWS_B.title_COUNT_last1days      -0.080625\n",
       "FOX_NEWS_B.headline_COUNT_last1days   -0.069817\n",
       "Name: target, dtype: float64"
      ]
     },
     "execution_count": 73,
     "metadata": {},
     "output_type": "execute_result"
    }
   ],
   "source": [
    "df[['target']+count_features].corr()['target']"
   ]
  },
  {
   "cell_type": "code",
   "execution_count": 74,
   "id": "23c6e78e",
   "metadata": {},
   "outputs": [],
   "source": [
    "df['count_sum'] = df[count_features].sum(axis=1)"
   ]
  },
  {
   "cell_type": "code",
   "execution_count": 75,
   "id": "6dc7fb15",
   "metadata": {},
   "outputs": [
    {
     "data": {
      "text/plain": [
       "count_sum   -0.076851\n",
       "target       1.000000\n",
       "Name: target, dtype: float64"
      ]
     },
     "execution_count": 75,
     "metadata": {},
     "output_type": "execute_result"
    }
   ],
   "source": [
    "df[['count_sum', 'target']].corr()['target']"
   ]
  },
  {
   "cell_type": "code",
   "execution_count": 77,
   "id": "5adfce28",
   "metadata": {},
   "outputs": [],
   "source": [
    "row_texts = list()\n",
    "for row in df[text_features].iterrows():\n",
    "    row_text = list()\n",
    "    for val in row[1].values:\n",
    "        for v in val:\n",
    "            row_text.append(v)\n",
    "    row_texts.append(row_text)"
   ]
  },
  {
   "cell_type": "code",
   "execution_count": 78,
   "id": "fc5f343b",
   "metadata": {},
   "outputs": [],
   "source": [
    "df['text_full'] = row_texts"
   ]
  },
  {
   "cell_type": "code",
   "execution_count": 82,
   "id": "2fb7b439",
   "metadata": {},
   "outputs": [],
   "source": [
    "# df.to_csv(\"full_df_with_7_sources_and_summary.csv\", index=False)\n",
    "\n",
    "with open(\"full_df_with_7_sources_and_summary.pickle\", \"wb\") as f:\n",
    "    pickle.dump(df, f)"
   ]
  },
  {
   "cell_type": "markdown",
   "id": "f461494f",
   "metadata": {},
   "source": [
    "### finbert api"
   ]
  },
  {
   "cell_type": "code",
   "execution_count": 83,
   "id": "4ac21762",
   "metadata": {},
   "outputs": [
    {
     "data": {
      "text/plain": [
       "[[{'label': 'positive', 'score': 0.08782877773046494},\n",
       "  {'label': 'negative', 'score': 0.021379711106419563},\n",
       "  {'label': 'neutral', 'score': 0.8907914757728577}]]"
      ]
     },
     "execution_count": 83,
     "metadata": {},
     "output_type": "execute_result"
    }
   ],
   "source": [
    "import requests\n",
    "API_TOKEN = \"your_token\"\n",
    "API_URL = \"https://api-inference.huggingface.co/models/ProsusAI/finbert\"\n",
    "headers = {\"Authorization\": f\"Bearer {API_TOKEN}\"}\n",
    "\n",
    "def query(payload):\n",
    "    response = requests.post(API_URL, headers=headers, json=payload)\n",
    "    return response.json()\n",
    "\n",
    "output = query({\"inputs\": \"I like you. I love you\"})\n",
    "output"
   ]
  },
  {
   "cell_type": "code",
   "execution_count": 135,
   "id": "0d1866c3",
   "metadata": {},
   "outputs": [
    {
     "name": "stderr",
     "output_type": "stream",
     "text": [
      "100% 236/236 [15:06<00:00,  3.84s/it] "
     ]
    },
    {
     "name": "stdout",
     "output_type": "stream",
     "text": [
      "CPU times: user 10.1 s, sys: 810 ms, total: 10.9 s\n",
      "Wall time: 15min 6s\n"
     ]
    },
    {
     "name": "stderr",
     "output_type": "stream",
     "text": [
      "\n"
     ]
    }
   ],
   "source": [
    "%%time\n",
    "from tqdm import tqdm\n",
    "results=list()\n",
    "for v in tqdm(df['text_full'].values):\n",
    "    r = query(v)\n",
    "    results.append(r)"
   ]
  },
  {
   "cell_type": "markdown",
   "id": "b311e5de",
   "metadata": {},
   "source": [
    "### видим что здесь слабая корреляция, если считать скор сразу по всем"
   ]
  },
  {
   "cell_type": "code",
   "execution_count": 141,
   "id": "de512b8d",
   "metadata": {},
   "outputs": [
    {
     "data": {
      "text/plain": [
       "target     1.000000\n",
       "res_pos    0.036260\n",
       "res_neg    0.011118\n",
       "Name: target, dtype: float64"
      ]
     },
     "execution_count": 141,
     "metadata": {},
     "output_type": "execute_result"
    }
   ],
   "source": [
    "features = ['target', 'res_pos', 'res_neg']\n",
    "df[features].dropna().corr()['target']"
   ]
  },
  {
   "cell_type": "code",
   "execution_count": null,
   "id": "5af6a77b",
   "metadata": {},
   "outputs": [],
   "source": [
    "# %%time\n",
    "\n",
    "# df['res_pos'] = pd.Series()\n",
    "# df['res_neg'] = pd.Series()\n",
    "# df['res_neutral'] = pd.Series()\n",
    "# for i in tqdm(range(236)):\n",
    "#     print(i)\n",
    "#     sub_df = df.loc[i, :]#['BITCOIN_NE.text_last1days']\n",
    "#     text_length = len(sub_df['text_full'])\n",
    "#     res_pos = 0\n",
    "#     res_neg = 0\n",
    "#     res_neu = 0\n",
    "#     for j in range(text_length):\n",
    "#         try:\n",
    "#             current_res = query(sub_df['text_full'][j])[0]\n",
    "#             current_res_pos = current_res[0]['score']\n",
    "#             current_res_neg = current_res[1]['score']\n",
    "#             current_res_neutral = current_res[2]['score']\n",
    "#             if current_res_pos>=current_res_neg:\n",
    "#                 if current_res_pos > current_res_neutral:\n",
    "#                     res_pos += 1\n",
    "#                 else:\n",
    "#                     res_neu += 1\n",
    "#             else:\n",
    "#                 if current_res_neg > current_res_neutral:\n",
    "#                     res_neg += 1\n",
    "#                 else:\n",
    "#                     res_neu += 1\n",
    "#         except Exception as e:\n",
    "#             continue\n",
    "#     df.loc[i, 'res_pos'] = res_pos\n",
    "#     df.loc[i, 'res_neg'] = res_neg\n",
    "#     df.loc[i, 'res_neutral'] = res_neu\n",
    "# df"
   ]
  },
  {
   "cell_type": "markdown",
   "id": "88aa2b55",
   "metadata": {},
   "source": [
    "### тут и позитив и негатив и нейтрал"
   ]
  },
  {
   "cell_type": "code",
   "execution_count": 146,
   "id": "90606408",
   "metadata": {},
   "outputs": [
    {
     "data": {
      "text/plain": [
       "target     1.000000\n",
       "res_pos   -0.009399\n",
       "res_neg    0.000386\n",
       "Name: target, dtype: float64"
      ]
     },
     "execution_count": 146,
     "metadata": {},
     "output_type": "execute_result"
    }
   ],
   "source": [
    "features = ['target', 'res_pos', 'res_neg']\n",
    "df[features].dropna().corr()['target']"
   ]
  },
  {
   "cell_type": "code",
   "execution_count": 148,
   "id": "99b89286",
   "metadata": {},
   "outputs": [
    {
     "data": {
      "text/plain": [
       "target     1.000000\n",
       "res_pos    0.113342\n",
       "res_neg   -0.078145\n",
       "res_neu   -0.032336\n",
       "Name: target, dtype: float64"
      ]
     },
     "execution_count": 148,
     "metadata": {},
     "output_type": "execute_result"
    }
   ],
   "source": [
    "features = ['target', 'res_pos', 'res_neg', 'res_neu']\n",
    "df[features].dropna().corr()['target']"
   ]
  },
  {
   "cell_type": "markdown",
   "id": "e78254e6",
   "metadata": {},
   "source": [
    "### только по биткоин новостям и добавляю вероятности по дню с каждой новости"
   ]
  },
  {
   "cell_type": "code",
   "execution_count": 84,
   "id": "36dd654b",
   "metadata": {},
   "outputs": [
    {
     "name": "stderr",
     "output_type": "stream",
     "text": [
      "<timed exec>:3: DeprecationWarning: The default dtype for empty Series will be 'object' instead of 'float64' in a future version. Specify a dtype explicitly to silence this warning.\n",
      "<timed exec>:4: DeprecationWarning: The default dtype for empty Series will be 'object' instead of 'float64' in a future version. Specify a dtype explicitly to silence this warning.\n",
      "<timed exec>:5: DeprecationWarning: The default dtype for empty Series will be 'object' instead of 'float64' in a future version. Specify a dtype explicitly to silence this warning.\n",
      "  0% 0/236 [00:00<?, ?it/s]"
     ]
    },
    {
     "name": "stdout",
     "output_type": "stream",
     "text": [
      "0\n"
     ]
    },
    {
     "name": "stderr",
     "output_type": "stream",
     "text": [
      "\r",
      "  0% 1/236 [00:02<09:08,  2.33s/it]"
     ]
    },
    {
     "name": "stdout",
     "output_type": "stream",
     "text": [
      "1\n"
     ]
    },
    {
     "name": "stderr",
     "output_type": "stream",
     "text": [
      "\r",
      "  1% 2/236 [00:07<15:20,  3.93s/it]"
     ]
    },
    {
     "name": "stdout",
     "output_type": "stream",
     "text": [
      "2\n"
     ]
    },
    {
     "name": "stderr",
     "output_type": "stream",
     "text": [
      "\r",
      "  1% 3/236 [00:13<19:34,  5.04s/it]"
     ]
    },
    {
     "name": "stdout",
     "output_type": "stream",
     "text": [
      "3\n"
     ]
    },
    {
     "name": "stderr",
     "output_type": "stream",
     "text": [
      "\r",
      "  2% 4/236 [00:18<18:26,  4.77s/it]"
     ]
    },
    {
     "name": "stdout",
     "output_type": "stream",
     "text": [
      "4\n"
     ]
    },
    {
     "name": "stderr",
     "output_type": "stream",
     "text": [
      "\r",
      "  2% 5/236 [00:21<17:00,  4.42s/it]"
     ]
    },
    {
     "name": "stdout",
     "output_type": "stream",
     "text": [
      "5\n"
     ]
    },
    {
     "name": "stderr",
     "output_type": "stream",
     "text": [
      "\r",
      "  3% 6/236 [00:26<17:05,  4.46s/it]"
     ]
    },
    {
     "name": "stdout",
     "output_type": "stream",
     "text": [
      "6\n"
     ]
    },
    {
     "name": "stderr",
     "output_type": "stream",
     "text": [
      "\r",
      "  3% 7/236 [00:32<19:27,  5.10s/it]"
     ]
    },
    {
     "name": "stdout",
     "output_type": "stream",
     "text": [
      "7\n"
     ]
    },
    {
     "name": "stderr",
     "output_type": "stream",
     "text": [
      "\r",
      "  3% 8/236 [02:15<2:16:50, 36.01s/it]"
     ]
    },
    {
     "name": "stdout",
     "output_type": "stream",
     "text": [
      "8\n"
     ]
    },
    {
     "name": "stderr",
     "output_type": "stream",
     "text": [
      "\r",
      "  4% 9/236 [02:18<1:37:13, 25.70s/it]"
     ]
    },
    {
     "name": "stdout",
     "output_type": "stream",
     "text": [
      "9\n"
     ]
    },
    {
     "name": "stderr",
     "output_type": "stream",
     "text": [
      "\r",
      "  4% 10/236 [02:22<1:12:19, 19.20s/it]"
     ]
    },
    {
     "name": "stdout",
     "output_type": "stream",
     "text": [
      "10\n"
     ]
    },
    {
     "name": "stderr",
     "output_type": "stream",
     "text": [
      "\r",
      "  5% 11/236 [02:26<53:58, 14.39s/it]  "
     ]
    },
    {
     "name": "stdout",
     "output_type": "stream",
     "text": [
      "11\n"
     ]
    },
    {
     "name": "stderr",
     "output_type": "stream",
     "text": [
      "\r",
      "  5% 12/236 [02:29<41:41, 11.17s/it]"
     ]
    },
    {
     "name": "stdout",
     "output_type": "stream",
     "text": [
      "12\n"
     ]
    },
    {
     "name": "stderr",
     "output_type": "stream",
     "text": [
      "\r",
      "  6% 13/236 [02:35<35:36,  9.58s/it]"
     ]
    },
    {
     "name": "stdout",
     "output_type": "stream",
     "text": [
      "13\n"
     ]
    },
    {
     "name": "stderr",
     "output_type": "stream",
     "text": [
      "\r",
      "  6% 14/236 [02:43<33:18,  9.00s/it]"
     ]
    },
    {
     "name": "stdout",
     "output_type": "stream",
     "text": [
      "14\n"
     ]
    },
    {
     "name": "stderr",
     "output_type": "stream",
     "text": [
      "\r",
      "  6% 15/236 [02:47<27:16,  7.40s/it]"
     ]
    },
    {
     "name": "stdout",
     "output_type": "stream",
     "text": [
      "15\n"
     ]
    },
    {
     "name": "stderr",
     "output_type": "stream",
     "text": [
      "\r",
      "  7% 16/236 [02:52<24:57,  6.81s/it]"
     ]
    },
    {
     "name": "stdout",
     "output_type": "stream",
     "text": [
      "16\n"
     ]
    },
    {
     "name": "stderr",
     "output_type": "stream",
     "text": [
      "\r",
      "  7% 17/236 [02:56<21:46,  5.96s/it]"
     ]
    },
    {
     "name": "stdout",
     "output_type": "stream",
     "text": [
      "17\n"
     ]
    },
    {
     "name": "stderr",
     "output_type": "stream",
     "text": [
      "\r",
      "  8% 18/236 [03:01<20:01,  5.51s/it]"
     ]
    },
    {
     "name": "stdout",
     "output_type": "stream",
     "text": [
      "18\n"
     ]
    },
    {
     "name": "stderr",
     "output_type": "stream",
     "text": [
      "\r",
      "  8% 19/236 [03:03<16:37,  4.60s/it]"
     ]
    },
    {
     "name": "stdout",
     "output_type": "stream",
     "text": [
      "19\n"
     ]
    },
    {
     "name": "stderr",
     "output_type": "stream",
     "text": [
      "\r",
      "  8% 20/236 [03:09<17:35,  4.89s/it]"
     ]
    },
    {
     "name": "stdout",
     "output_type": "stream",
     "text": [
      "20\n"
     ]
    },
    {
     "name": "stderr",
     "output_type": "stream",
     "text": [
      "\r",
      "  9% 21/236 [03:16<19:38,  5.48s/it]"
     ]
    },
    {
     "name": "stdout",
     "output_type": "stream",
     "text": [
      "21\n"
     ]
    },
    {
     "name": "stderr",
     "output_type": "stream",
     "text": [
      "\r",
      "  9% 22/236 [03:21<19:15,  5.40s/it]"
     ]
    },
    {
     "name": "stdout",
     "output_type": "stream",
     "text": [
      "22\n"
     ]
    },
    {
     "name": "stderr",
     "output_type": "stream",
     "text": [
      "\r",
      " 10% 23/236 [03:26<19:06,  5.38s/it]"
     ]
    },
    {
     "name": "stdout",
     "output_type": "stream",
     "text": [
      "23\n"
     ]
    },
    {
     "name": "stderr",
     "output_type": "stream",
     "text": [
      "\r",
      " 10% 24/236 [03:32<19:55,  5.64s/it]"
     ]
    },
    {
     "name": "stdout",
     "output_type": "stream",
     "text": [
      "24\n"
     ]
    },
    {
     "name": "stderr",
     "output_type": "stream",
     "text": [
      "\r",
      " 11% 25/236 [03:36<17:53,  5.09s/it]"
     ]
    },
    {
     "name": "stdout",
     "output_type": "stream",
     "text": [
      "25\n"
     ]
    },
    {
     "name": "stderr",
     "output_type": "stream",
     "text": [
      "\r",
      " 11% 26/236 [03:42<18:41,  5.34s/it]"
     ]
    },
    {
     "name": "stdout",
     "output_type": "stream",
     "text": [
      "26\n"
     ]
    },
    {
     "name": "stderr",
     "output_type": "stream",
     "text": [
      "\r",
      " 11% 27/236 [03:45<16:26,  4.72s/it]"
     ]
    },
    {
     "name": "stdout",
     "output_type": "stream",
     "text": [
      "27\n"
     ]
    },
    {
     "name": "stderr",
     "output_type": "stream",
     "text": [
      "\r",
      " 12% 28/236 [03:50<16:46,  4.84s/it]"
     ]
    },
    {
     "name": "stdout",
     "output_type": "stream",
     "text": [
      "28\n"
     ]
    },
    {
     "name": "stderr",
     "output_type": "stream",
     "text": [
      "\r",
      " 12% 29/236 [03:55<16:22,  4.75s/it]"
     ]
    },
    {
     "name": "stdout",
     "output_type": "stream",
     "text": [
      "29\n"
     ]
    },
    {
     "name": "stderr",
     "output_type": "stream",
     "text": [
      "\r",
      " 13% 30/236 [04:02<18:26,  5.37s/it]"
     ]
    },
    {
     "name": "stdout",
     "output_type": "stream",
     "text": [
      "30\n"
     ]
    },
    {
     "name": "stderr",
     "output_type": "stream",
     "text": [
      "\r",
      " 13% 31/236 [04:07<18:37,  5.45s/it]"
     ]
    },
    {
     "name": "stdout",
     "output_type": "stream",
     "text": [
      "31\n"
     ]
    },
    {
     "name": "stderr",
     "output_type": "stream",
     "text": [
      "\r",
      " 14% 32/236 [04:11<16:43,  4.92s/it]"
     ]
    },
    {
     "name": "stdout",
     "output_type": "stream",
     "text": [
      "32\n"
     ]
    },
    {
     "name": "stderr",
     "output_type": "stream",
     "text": [
      "\r",
      " 14% 33/236 [04:16<16:19,  4.83s/it]"
     ]
    },
    {
     "name": "stdout",
     "output_type": "stream",
     "text": [
      "33\n"
     ]
    },
    {
     "name": "stderr",
     "output_type": "stream",
     "text": [
      "\r",
      " 14% 34/236 [04:21<16:35,  4.93s/it]"
     ]
    },
    {
     "name": "stdout",
     "output_type": "stream",
     "text": [
      "34\n"
     ]
    },
    {
     "name": "stderr",
     "output_type": "stream",
     "text": [
      "\r",
      " 15% 35/236 [04:26<16:51,  5.03s/it]"
     ]
    },
    {
     "name": "stdout",
     "output_type": "stream",
     "text": [
      "35\n"
     ]
    },
    {
     "name": "stderr",
     "output_type": "stream",
     "text": [
      "\r",
      " 15% 36/236 [04:34<19:50,  5.95s/it]"
     ]
    },
    {
     "name": "stdout",
     "output_type": "stream",
     "text": [
      "36\n"
     ]
    },
    {
     "name": "stderr",
     "output_type": "stream",
     "text": [
      "\r",
      " 16% 37/236 [04:40<19:23,  5.84s/it]"
     ]
    },
    {
     "name": "stdout",
     "output_type": "stream",
     "text": [
      "37\n"
     ]
    },
    {
     "name": "stderr",
     "output_type": "stream",
     "text": [
      "\r",
      " 16% 38/236 [04:46<19:06,  5.79s/it]"
     ]
    },
    {
     "name": "stdout",
     "output_type": "stream",
     "text": [
      "38\n"
     ]
    },
    {
     "name": "stderr",
     "output_type": "stream",
     "text": [
      "\r",
      " 17% 39/236 [04:49<17:02,  5.19s/it]"
     ]
    },
    {
     "name": "stdout",
     "output_type": "stream",
     "text": [
      "39\n"
     ]
    },
    {
     "name": "stderr",
     "output_type": "stream",
     "text": [
      "\r",
      " 17% 40/236 [04:53<15:17,  4.68s/it]"
     ]
    },
    {
     "name": "stdout",
     "output_type": "stream",
     "text": [
      "40\n"
     ]
    },
    {
     "name": "stderr",
     "output_type": "stream",
     "text": [
      "\r",
      " 17% 41/236 [04:59<16:19,  5.03s/it]"
     ]
    },
    {
     "name": "stdout",
     "output_type": "stream",
     "text": [
      "41\n"
     ]
    },
    {
     "name": "stderr",
     "output_type": "stream",
     "text": [
      "\r",
      " 18% 42/236 [05:06<18:13,  5.64s/it]"
     ]
    },
    {
     "name": "stdout",
     "output_type": "stream",
     "text": [
      "42\n"
     ]
    },
    {
     "name": "stderr",
     "output_type": "stream",
     "text": [
      "\r",
      " 18% 43/236 [05:13<19:25,  6.04s/it]"
     ]
    },
    {
     "name": "stdout",
     "output_type": "stream",
     "text": [
      "43\n"
     ]
    },
    {
     "name": "stderr",
     "output_type": "stream",
     "text": [
      "\r",
      " 19% 44/236 [05:18<18:26,  5.76s/it]"
     ]
    },
    {
     "name": "stdout",
     "output_type": "stream",
     "text": [
      "44\n"
     ]
    },
    {
     "name": "stderr",
     "output_type": "stream",
     "text": [
      "\r",
      " 19% 45/236 [05:22<16:56,  5.32s/it]"
     ]
    },
    {
     "name": "stdout",
     "output_type": "stream",
     "text": [
      "45\n"
     ]
    },
    {
     "name": "stderr",
     "output_type": "stream",
     "text": [
      "\r",
      " 19% 46/236 [05:27<16:05,  5.08s/it]"
     ]
    },
    {
     "name": "stdout",
     "output_type": "stream",
     "text": [
      "46\n"
     ]
    },
    {
     "name": "stderr",
     "output_type": "stream",
     "text": [
      "\r",
      " 20% 47/236 [05:31<15:10,  4.82s/it]"
     ]
    },
    {
     "name": "stdout",
     "output_type": "stream",
     "text": [
      "47\n"
     ]
    },
    {
     "name": "stderr",
     "output_type": "stream",
     "text": [
      "\r",
      " 20% 48/236 [05:38<17:06,  5.46s/it]"
     ]
    },
    {
     "name": "stdout",
     "output_type": "stream",
     "text": [
      "48\n"
     ]
    },
    {
     "name": "stderr",
     "output_type": "stream",
     "text": [
      "\r",
      " 21% 49/236 [05:43<16:32,  5.30s/it]"
     ]
    },
    {
     "name": "stdout",
     "output_type": "stream",
     "text": [
      "49\n"
     ]
    },
    {
     "name": "stderr",
     "output_type": "stream",
     "text": [
      "\r",
      " 21% 50/236 [05:47<15:24,  4.97s/it]"
     ]
    },
    {
     "name": "stdout",
     "output_type": "stream",
     "text": [
      "50\n"
     ]
    },
    {
     "name": "stderr",
     "output_type": "stream",
     "text": [
      "\r",
      " 22% 51/236 [05:50<13:55,  4.52s/it]"
     ]
    },
    {
     "name": "stdout",
     "output_type": "stream",
     "text": [
      "51\n"
     ]
    },
    {
     "name": "stderr",
     "output_type": "stream",
     "text": [
      "\r",
      " 22% 52/236 [07:27<1:38:09, 32.01s/it]"
     ]
    },
    {
     "name": "stdout",
     "output_type": "stream",
     "text": [
      "52\n"
     ]
    },
    {
     "name": "stderr",
     "output_type": "stream",
     "text": [
      "\r",
      " 22% 53/236 [07:31<1:12:26, 23.75s/it]"
     ]
    },
    {
     "name": "stdout",
     "output_type": "stream",
     "text": [
      "53\n"
     ]
    },
    {
     "name": "stderr",
     "output_type": "stream",
     "text": [
      "\r",
      " 23% 54/236 [07:35<54:27, 17.95s/it]  "
     ]
    },
    {
     "name": "stdout",
     "output_type": "stream",
     "text": [
      "54\n"
     ]
    },
    {
     "name": "stderr",
     "output_type": "stream",
     "text": [
      "\r",
      " 23% 55/236 [07:39<41:25, 13.73s/it]"
     ]
    },
    {
     "name": "stdout",
     "output_type": "stream",
     "text": [
      "55\n"
     ]
    },
    {
     "name": "stderr",
     "output_type": "stream",
     "text": [
      "\r",
      " 24% 56/236 [07:44<32:42, 10.91s/it]"
     ]
    },
    {
     "name": "stdout",
     "output_type": "stream",
     "text": [
      "56\n"
     ]
    },
    {
     "name": "stderr",
     "output_type": "stream",
     "text": [
      "\r",
      " 24% 57/236 [07:49<27:37,  9.26s/it]"
     ]
    },
    {
     "name": "stdout",
     "output_type": "stream",
     "text": [
      "57\n"
     ]
    },
    {
     "name": "stderr",
     "output_type": "stream",
     "text": [
      "\r",
      " 25% 58/236 [07:54<23:14,  7.83s/it]"
     ]
    },
    {
     "name": "stdout",
     "output_type": "stream",
     "text": [
      "58\n"
     ]
    },
    {
     "name": "stderr",
     "output_type": "stream",
     "text": [
      "\r",
      " 25% 59/236 [07:59<21:20,  7.24s/it]"
     ]
    },
    {
     "name": "stdout",
     "output_type": "stream",
     "text": [
      "59\n"
     ]
    },
    {
     "name": "stderr",
     "output_type": "stream",
     "text": [
      "\r",
      " 25% 60/236 [08:03<18:05,  6.17s/it]"
     ]
    },
    {
     "name": "stdout",
     "output_type": "stream",
     "text": [
      "60\n"
     ]
    },
    {
     "name": "stderr",
     "output_type": "stream",
     "text": [
      "\r",
      " 26% 61/236 [08:08<17:01,  5.84s/it]"
     ]
    },
    {
     "name": "stdout",
     "output_type": "stream",
     "text": [
      "61\n"
     ]
    },
    {
     "name": "stderr",
     "output_type": "stream",
     "text": [
      "\r",
      " 26% 62/236 [08:12<14:55,  5.15s/it]"
     ]
    },
    {
     "name": "stdout",
     "output_type": "stream",
     "text": [
      "62\n"
     ]
    },
    {
     "name": "stderr",
     "output_type": "stream",
     "text": [
      "\r",
      " 27% 63/236 [08:17<14:33,  5.05s/it]"
     ]
    },
    {
     "name": "stdout",
     "output_type": "stream",
     "text": [
      "63\n"
     ]
    },
    {
     "name": "stderr",
     "output_type": "stream",
     "text": [
      "\r",
      " 27% 64/236 [08:21<14:20,  5.00s/it]"
     ]
    },
    {
     "name": "stdout",
     "output_type": "stream",
     "text": [
      "64\n"
     ]
    },
    {
     "name": "stderr",
     "output_type": "stream",
     "text": [
      "\r",
      " 28% 65/236 [08:26<13:34,  4.76s/it]"
     ]
    },
    {
     "name": "stdout",
     "output_type": "stream",
     "text": [
      "65\n"
     ]
    },
    {
     "name": "stderr",
     "output_type": "stream",
     "text": [
      "\r",
      " 28% 66/236 [08:32<14:42,  5.19s/it]"
     ]
    },
    {
     "name": "stdout",
     "output_type": "stream",
     "text": [
      "66\n"
     ]
    },
    {
     "name": "stderr",
     "output_type": "stream",
     "text": [
      "\r",
      " 28% 67/236 [08:36<14:02,  4.99s/it]"
     ]
    },
    {
     "name": "stdout",
     "output_type": "stream",
     "text": [
      "67\n"
     ]
    },
    {
     "name": "stderr",
     "output_type": "stream",
     "text": [
      "\r",
      " 29% 68/236 [08:40<12:37,  4.51s/it]"
     ]
    },
    {
     "name": "stdout",
     "output_type": "stream",
     "text": [
      "68\n"
     ]
    },
    {
     "name": "stderr",
     "output_type": "stream",
     "text": [
      "\r",
      " 29% 69/236 [08:45<12:50,  4.61s/it]"
     ]
    },
    {
     "name": "stdout",
     "output_type": "stream",
     "text": [
      "69\n"
     ]
    },
    {
     "name": "stderr",
     "output_type": "stream",
     "text": [
      "\r",
      " 30% 70/236 [08:48<11:45,  4.25s/it]"
     ]
    },
    {
     "name": "stdout",
     "output_type": "stream",
     "text": [
      "70\n"
     ]
    },
    {
     "name": "stderr",
     "output_type": "stream",
     "text": [
      "\r",
      " 30% 71/236 [08:51<10:43,  3.90s/it]"
     ]
    },
    {
     "name": "stdout",
     "output_type": "stream",
     "text": [
      "71\n"
     ]
    },
    {
     "name": "stderr",
     "output_type": "stream",
     "text": [
      "\r",
      " 31% 72/236 [08:56<11:22,  4.16s/it]"
     ]
    },
    {
     "name": "stdout",
     "output_type": "stream",
     "text": [
      "72\n"
     ]
    },
    {
     "name": "stderr",
     "output_type": "stream",
     "text": [
      "\r",
      " 31% 73/236 [09:01<12:24,  4.57s/it]"
     ]
    },
    {
     "name": "stdout",
     "output_type": "stream",
     "text": [
      "73\n"
     ]
    },
    {
     "name": "stderr",
     "output_type": "stream",
     "text": [
      "\r",
      " 31% 74/236 [09:06<12:17,  4.55s/it]"
     ]
    },
    {
     "name": "stdout",
     "output_type": "stream",
     "text": [
      "74\n"
     ]
    },
    {
     "name": "stderr",
     "output_type": "stream",
     "text": [
      "\r",
      " 32% 75/236 [09:09<10:46,  4.02s/it]"
     ]
    },
    {
     "name": "stdout",
     "output_type": "stream",
     "text": [
      "75\n"
     ]
    },
    {
     "name": "stderr",
     "output_type": "stream",
     "text": [
      "\r",
      " 32% 76/236 [09:14<11:37,  4.36s/it]"
     ]
    },
    {
     "name": "stdout",
     "output_type": "stream",
     "text": [
      "76\n"
     ]
    },
    {
     "name": "stderr",
     "output_type": "stream",
     "text": [
      "\r",
      " 33% 77/236 [09:18<11:48,  4.46s/it]"
     ]
    },
    {
     "name": "stdout",
     "output_type": "stream",
     "text": [
      "77\n"
     ]
    },
    {
     "name": "stderr",
     "output_type": "stream",
     "text": [
      "\r",
      " 33% 78/236 [09:22<11:12,  4.26s/it]"
     ]
    },
    {
     "name": "stdout",
     "output_type": "stream",
     "text": [
      "78\n"
     ]
    },
    {
     "name": "stderr",
     "output_type": "stream",
     "text": [
      "\r",
      " 33% 79/236 [09:27<11:15,  4.30s/it]"
     ]
    },
    {
     "name": "stdout",
     "output_type": "stream",
     "text": [
      "79\n"
     ]
    },
    {
     "name": "stderr",
     "output_type": "stream",
     "text": [
      "\r",
      " 34% 80/236 [09:31<11:20,  4.36s/it]"
     ]
    },
    {
     "name": "stdout",
     "output_type": "stream",
     "text": [
      "80\n"
     ]
    },
    {
     "name": "stderr",
     "output_type": "stream",
     "text": [
      "\r",
      " 34% 81/236 [09:36<11:17,  4.37s/it]"
     ]
    },
    {
     "name": "stdout",
     "output_type": "stream",
     "text": [
      "81\n"
     ]
    },
    {
     "name": "stderr",
     "output_type": "stream",
     "text": [
      "\r",
      " 35% 82/236 [09:40<11:04,  4.31s/it]"
     ]
    },
    {
     "name": "stdout",
     "output_type": "stream",
     "text": [
      "82\n"
     ]
    },
    {
     "name": "stderr",
     "output_type": "stream",
     "text": [
      "\r",
      " 35% 83/236 [09:44<11:14,  4.41s/it]"
     ]
    },
    {
     "name": "stdout",
     "output_type": "stream",
     "text": [
      "83\n"
     ]
    },
    {
     "name": "stderr",
     "output_type": "stream",
     "text": [
      "\r",
      " 36% 84/236 [09:50<11:56,  4.71s/it]"
     ]
    },
    {
     "name": "stdout",
     "output_type": "stream",
     "text": [
      "84\n"
     ]
    },
    {
     "name": "stderr",
     "output_type": "stream",
     "text": [
      "\r",
      " 36% 85/236 [09:56<12:38,  5.02s/it]"
     ]
    },
    {
     "name": "stdout",
     "output_type": "stream",
     "text": [
      "85\n"
     ]
    },
    {
     "name": "stderr",
     "output_type": "stream",
     "text": [
      "\r",
      " 36% 86/236 [10:01<12:41,  5.08s/it]"
     ]
    },
    {
     "name": "stdout",
     "output_type": "stream",
     "text": [
      "86\n"
     ]
    },
    {
     "name": "stderr",
     "output_type": "stream",
     "text": [
      "\r",
      " 37% 87/236 [10:06<12:34,  5.06s/it]"
     ]
    },
    {
     "name": "stdout",
     "output_type": "stream",
     "text": [
      "87\n"
     ]
    },
    {
     "name": "stderr",
     "output_type": "stream",
     "text": [
      "\r",
      " 37% 88/236 [10:12<13:30,  5.48s/it]"
     ]
    },
    {
     "name": "stdout",
     "output_type": "stream",
     "text": [
      "88\n"
     ]
    },
    {
     "name": "stderr",
     "output_type": "stream",
     "text": [
      "\r",
      " 38% 89/236 [10:18<13:45,  5.62s/it]"
     ]
    },
    {
     "name": "stdout",
     "output_type": "stream",
     "text": [
      "89\n"
     ]
    },
    {
     "name": "stderr",
     "output_type": "stream",
     "text": [
      "\r",
      " 38% 90/236 [10:22<12:42,  5.22s/it]"
     ]
    },
    {
     "name": "stdout",
     "output_type": "stream",
     "text": [
      "90\n"
     ]
    },
    {
     "name": "stderr",
     "output_type": "stream",
     "text": [
      "\r",
      " 39% 91/236 [10:26<11:27,  4.74s/it]"
     ]
    },
    {
     "name": "stdout",
     "output_type": "stream",
     "text": [
      "91\n"
     ]
    },
    {
     "name": "stderr",
     "output_type": "stream",
     "text": [
      "\r",
      " 39% 92/236 [10:30<10:58,  4.57s/it]"
     ]
    },
    {
     "name": "stdout",
     "output_type": "stream",
     "text": [
      "92\n"
     ]
    },
    {
     "name": "stderr",
     "output_type": "stream",
     "text": [
      "\r",
      " 39% 93/236 [10:34<10:10,  4.27s/it]"
     ]
    },
    {
     "name": "stdout",
     "output_type": "stream",
     "text": [
      "93\n"
     ]
    },
    {
     "name": "stderr",
     "output_type": "stream",
     "text": [
      "\r",
      " 40% 94/236 [10:37<09:32,  4.03s/it]"
     ]
    },
    {
     "name": "stdout",
     "output_type": "stream",
     "text": [
      "94\n"
     ]
    },
    {
     "name": "stderr",
     "output_type": "stream",
     "text": [
      "\r",
      " 40% 95/236 [10:43<10:31,  4.48s/it]"
     ]
    },
    {
     "name": "stdout",
     "output_type": "stream",
     "text": [
      "95\n"
     ]
    },
    {
     "name": "stderr",
     "output_type": "stream",
     "text": [
      "\r",
      " 41% 96/236 [10:47<10:21,  4.44s/it]"
     ]
    },
    {
     "name": "stdout",
     "output_type": "stream",
     "text": [
      "96\n"
     ]
    },
    {
     "name": "stderr",
     "output_type": "stream",
     "text": [
      "\r",
      " 41% 97/236 [10:50<09:04,  3.92s/it]"
     ]
    },
    {
     "name": "stdout",
     "output_type": "stream",
     "text": [
      "97\n"
     ]
    },
    {
     "name": "stderr",
     "output_type": "stream",
     "text": [
      "\r",
      " 42% 98/236 [10:52<07:39,  3.33s/it]"
     ]
    },
    {
     "name": "stdout",
     "output_type": "stream",
     "text": [
      "98\n"
     ]
    },
    {
     "name": "stderr",
     "output_type": "stream",
     "text": [
      "\r",
      " 42% 99/236 [10:56<07:51,  3.44s/it]"
     ]
    },
    {
     "name": "stdout",
     "output_type": "stream",
     "text": [
      "99\n"
     ]
    },
    {
     "name": "stderr",
     "output_type": "stream",
     "text": [
      "\r",
      " 42% 100/236 [10:57<06:25,  2.84s/it]"
     ]
    },
    {
     "name": "stdout",
     "output_type": "stream",
     "text": [
      "100\n"
     ]
    },
    {
     "name": "stderr",
     "output_type": "stream",
     "text": [
      "\r",
      " 43% 101/236 [11:00<06:36,  2.93s/it]"
     ]
    },
    {
     "name": "stdout",
     "output_type": "stream",
     "text": [
      "101\n"
     ]
    },
    {
     "name": "stderr",
     "output_type": "stream",
     "text": [
      "\r",
      " 43% 102/236 [11:05<08:05,  3.62s/it]"
     ]
    },
    {
     "name": "stdout",
     "output_type": "stream",
     "text": [
      "102\n"
     ]
    },
    {
     "name": "stderr",
     "output_type": "stream",
     "text": [
      "\r",
      " 44% 103/236 [11:10<08:37,  3.89s/it]"
     ]
    },
    {
     "name": "stdout",
     "output_type": "stream",
     "text": [
      "103\n"
     ]
    },
    {
     "name": "stderr",
     "output_type": "stream",
     "text": [
      "\r",
      " 44% 104/236 [11:12<07:24,  3.37s/it]"
     ]
    },
    {
     "name": "stdout",
     "output_type": "stream",
     "text": [
      "104\n"
     ]
    },
    {
     "name": "stderr",
     "output_type": "stream",
     "text": [
      "\r",
      " 44% 105/236 [11:14<06:37,  3.03s/it]"
     ]
    },
    {
     "name": "stdout",
     "output_type": "stream",
     "text": [
      "105\n"
     ]
    },
    {
     "name": "stderr",
     "output_type": "stream",
     "text": [
      "\r",
      " 45% 106/236 [11:18<07:15,  3.35s/it]"
     ]
    },
    {
     "name": "stdout",
     "output_type": "stream",
     "text": [
      "106\n"
     ]
    },
    {
     "name": "stderr",
     "output_type": "stream",
     "text": [
      "\r",
      " 45% 107/236 [11:20<06:21,  2.95s/it]"
     ]
    },
    {
     "name": "stdout",
     "output_type": "stream",
     "text": [
      "107\n"
     ]
    },
    {
     "name": "stderr",
     "output_type": "stream",
     "text": [
      "\r",
      " 46% 108/236 [11:23<06:15,  2.93s/it]"
     ]
    },
    {
     "name": "stdout",
     "output_type": "stream",
     "text": [
      "108\n"
     ]
    },
    {
     "name": "stderr",
     "output_type": "stream",
     "text": [
      "\r",
      " 46% 109/236 [11:26<06:12,  2.93s/it]"
     ]
    },
    {
     "name": "stdout",
     "output_type": "stream",
     "text": [
      "109\n"
     ]
    },
    {
     "name": "stderr",
     "output_type": "stream",
     "text": [
      "\r",
      " 47% 110/236 [11:31<07:24,  3.53s/it]"
     ]
    },
    {
     "name": "stdout",
     "output_type": "stream",
     "text": [
      "110\n"
     ]
    },
    {
     "name": "stderr",
     "output_type": "stream",
     "text": [
      "\r",
      " 47% 111/236 [11:33<06:32,  3.14s/it]"
     ]
    },
    {
     "name": "stdout",
     "output_type": "stream",
     "text": [
      "111\n"
     ]
    },
    {
     "name": "stderr",
     "output_type": "stream",
     "text": [
      "\r",
      " 47% 112/236 [11:37<06:40,  3.23s/it]"
     ]
    },
    {
     "name": "stdout",
     "output_type": "stream",
     "text": [
      "112\n"
     ]
    },
    {
     "name": "stderr",
     "output_type": "stream",
     "text": [
      "\r",
      " 48% 113/236 [11:40<06:24,  3.13s/it]"
     ]
    },
    {
     "name": "stdout",
     "output_type": "stream",
     "text": [
      "113\n"
     ]
    },
    {
     "name": "stderr",
     "output_type": "stream",
     "text": [
      "\r",
      " 48% 114/236 [11:43<06:45,  3.32s/it]"
     ]
    },
    {
     "name": "stdout",
     "output_type": "stream",
     "text": [
      "114\n"
     ]
    },
    {
     "name": "stderr",
     "output_type": "stream",
     "text": [
      "\r",
      " 49% 115/236 [11:48<07:23,  3.66s/it]"
     ]
    },
    {
     "name": "stdout",
     "output_type": "stream",
     "text": [
      "115\n"
     ]
    },
    {
     "name": "stderr",
     "output_type": "stream",
     "text": [
      "\r",
      " 49% 116/236 [11:51<06:56,  3.47s/it]"
     ]
    },
    {
     "name": "stdout",
     "output_type": "stream",
     "text": [
      "116\n"
     ]
    },
    {
     "name": "stderr",
     "output_type": "stream",
     "text": [
      "\r",
      " 50% 117/236 [11:52<05:41,  2.87s/it]"
     ]
    },
    {
     "name": "stdout",
     "output_type": "stream",
     "text": [
      "117\n"
     ]
    },
    {
     "name": "stderr",
     "output_type": "stream",
     "text": [
      "\r",
      " 50% 118/236 [11:55<05:40,  2.89s/it]"
     ]
    },
    {
     "name": "stdout",
     "output_type": "stream",
     "text": [
      "118\n"
     ]
    },
    {
     "name": "stderr",
     "output_type": "stream",
     "text": [
      "\r",
      " 50% 119/236 [11:57<04:54,  2.52s/it]"
     ]
    },
    {
     "name": "stdout",
     "output_type": "stream",
     "text": [
      "119\n"
     ]
    },
    {
     "name": "stderr",
     "output_type": "stream",
     "text": [
      "\r",
      " 51% 120/236 [12:00<05:14,  2.71s/it]"
     ]
    },
    {
     "name": "stdout",
     "output_type": "stream",
     "text": [
      "120\n"
     ]
    },
    {
     "name": "stderr",
     "output_type": "stream",
     "text": [
      "\r",
      " 51% 121/236 [12:03<05:16,  2.76s/it]"
     ]
    },
    {
     "name": "stdout",
     "output_type": "stream",
     "text": [
      "121\n"
     ]
    },
    {
     "name": "stderr",
     "output_type": "stream",
     "text": [
      "\r",
      " 52% 122/236 [12:06<05:09,  2.71s/it]"
     ]
    },
    {
     "name": "stdout",
     "output_type": "stream",
     "text": [
      "122\n"
     ]
    },
    {
     "name": "stderr",
     "output_type": "stream",
     "text": [
      "\r",
      " 52% 123/236 [12:10<05:51,  3.11s/it]"
     ]
    },
    {
     "name": "stdout",
     "output_type": "stream",
     "text": [
      "123\n"
     ]
    },
    {
     "name": "stderr",
     "output_type": "stream",
     "text": [
      "\r",
      " 53% 124/236 [12:14<06:28,  3.47s/it]"
     ]
    },
    {
     "name": "stdout",
     "output_type": "stream",
     "text": [
      "124\n"
     ]
    },
    {
     "name": "stderr",
     "output_type": "stream",
     "text": [
      "\r",
      " 53% 125/236 [12:16<05:42,  3.09s/it]"
     ]
    },
    {
     "name": "stdout",
     "output_type": "stream",
     "text": [
      "125\n"
     ]
    },
    {
     "name": "stderr",
     "output_type": "stream",
     "text": [
      "\r",
      " 53% 126/236 [12:20<06:07,  3.34s/it]"
     ]
    },
    {
     "name": "stdout",
     "output_type": "stream",
     "text": [
      "126\n"
     ]
    },
    {
     "name": "stderr",
     "output_type": "stream",
     "text": [
      "\r",
      " 54% 127/236 [12:25<06:40,  3.68s/it]"
     ]
    },
    {
     "name": "stdout",
     "output_type": "stream",
     "text": [
      "127\n"
     ]
    },
    {
     "name": "stderr",
     "output_type": "stream",
     "text": [
      "\r",
      " 54% 128/236 [12:29<06:47,  3.77s/it]"
     ]
    },
    {
     "name": "stdout",
     "output_type": "stream",
     "text": [
      "128\n"
     ]
    },
    {
     "name": "stderr",
     "output_type": "stream",
     "text": [
      "\r",
      " 55% 129/236 [12:33<07:03,  3.96s/it]"
     ]
    },
    {
     "name": "stdout",
     "output_type": "stream",
     "text": [
      "129\n"
     ]
    },
    {
     "name": "stderr",
     "output_type": "stream",
     "text": [
      "\r",
      " 55% 130/236 [12:38<07:29,  4.24s/it]"
     ]
    },
    {
     "name": "stdout",
     "output_type": "stream",
     "text": [
      "130\n"
     ]
    },
    {
     "name": "stderr",
     "output_type": "stream",
     "text": [
      "\r",
      " 56% 131/236 [12:40<06:26,  3.68s/it]"
     ]
    },
    {
     "name": "stdout",
     "output_type": "stream",
     "text": [
      "131\n"
     ]
    },
    {
     "name": "stderr",
     "output_type": "stream",
     "text": [
      "\r",
      " 56% 132/236 [12:42<05:37,  3.25s/it]"
     ]
    },
    {
     "name": "stdout",
     "output_type": "stream",
     "text": [
      "132\n"
     ]
    },
    {
     "name": "stderr",
     "output_type": "stream",
     "text": [
      "\r",
      " 56% 133/236 [12:45<04:59,  2.90s/it]"
     ]
    },
    {
     "name": "stdout",
     "output_type": "stream",
     "text": [
      "133\n"
     ]
    },
    {
     "name": "stderr",
     "output_type": "stream",
     "text": [
      "\r",
      " 57% 134/236 [12:48<05:05,  2.99s/it]"
     ]
    },
    {
     "name": "stdout",
     "output_type": "stream",
     "text": [
      "134\n"
     ]
    },
    {
     "name": "stderr",
     "output_type": "stream",
     "text": [
      "\r",
      " 57% 135/236 [12:52<05:35,  3.33s/it]"
     ]
    },
    {
     "name": "stdout",
     "output_type": "stream",
     "text": [
      "135\n"
     ]
    },
    {
     "name": "stderr",
     "output_type": "stream",
     "text": [
      "\r",
      " 58% 136/236 [12:55<05:21,  3.22s/it]"
     ]
    },
    {
     "name": "stdout",
     "output_type": "stream",
     "text": [
      "136\n"
     ]
    },
    {
     "name": "stderr",
     "output_type": "stream",
     "text": [
      "\r",
      " 58% 137/236 [12:58<05:26,  3.30s/it]"
     ]
    },
    {
     "name": "stdout",
     "output_type": "stream",
     "text": [
      "137\n"
     ]
    },
    {
     "name": "stderr",
     "output_type": "stream",
     "text": [
      "\r",
      " 58% 138/236 [13:01<05:09,  3.16s/it]"
     ]
    },
    {
     "name": "stdout",
     "output_type": "stream",
     "text": [
      "138\n"
     ]
    },
    {
     "name": "stderr",
     "output_type": "stream",
     "text": [
      "\r",
      " 59% 139/236 [13:04<04:59,  3.09s/it]"
     ]
    },
    {
     "name": "stdout",
     "output_type": "stream",
     "text": [
      "139\n"
     ]
    },
    {
     "name": "stderr",
     "output_type": "stream",
     "text": [
      "\r",
      " 59% 140/236 [13:06<04:19,  2.71s/it]"
     ]
    },
    {
     "name": "stdout",
     "output_type": "stream",
     "text": [
      "140\n"
     ]
    },
    {
     "name": "stderr",
     "output_type": "stream",
     "text": [
      "\r",
      " 60% 141/236 [13:09<04:24,  2.78s/it]"
     ]
    },
    {
     "name": "stdout",
     "output_type": "stream",
     "text": [
      "141\n"
     ]
    },
    {
     "name": "stderr",
     "output_type": "stream",
     "text": [
      "\r",
      " 60% 142/236 [13:14<05:17,  3.38s/it]"
     ]
    },
    {
     "name": "stdout",
     "output_type": "stream",
     "text": [
      "142\n"
     ]
    },
    {
     "name": "stderr",
     "output_type": "stream",
     "text": [
      "\r",
      " 61% 143/236 [13:16<04:41,  3.03s/it]"
     ]
    },
    {
     "name": "stdout",
     "output_type": "stream",
     "text": [
      "143\n"
     ]
    },
    {
     "name": "stderr",
     "output_type": "stream",
     "text": [
      "\r",
      " 61% 144/236 [13:19<04:54,  3.20s/it]"
     ]
    },
    {
     "name": "stdout",
     "output_type": "stream",
     "text": [
      "144\n"
     ]
    },
    {
     "name": "stderr",
     "output_type": "stream",
     "text": [
      "\r",
      " 61% 145/236 [13:23<05:03,  3.33s/it]"
     ]
    },
    {
     "name": "stdout",
     "output_type": "stream",
     "text": [
      "145\n"
     ]
    },
    {
     "name": "stderr",
     "output_type": "stream",
     "text": [
      "\r",
      " 62% 146/236 [13:25<04:25,  2.95s/it]"
     ]
    },
    {
     "name": "stdout",
     "output_type": "stream",
     "text": [
      "146\n"
     ]
    },
    {
     "name": "stderr",
     "output_type": "stream",
     "text": [
      "\r",
      " 62% 147/236 [13:29<04:58,  3.35s/it]"
     ]
    },
    {
     "name": "stdout",
     "output_type": "stream",
     "text": [
      "147\n"
     ]
    },
    {
     "name": "stderr",
     "output_type": "stream",
     "text": [
      "\r",
      " 63% 148/236 [13:34<05:25,  3.69s/it]"
     ]
    },
    {
     "name": "stdout",
     "output_type": "stream",
     "text": [
      "148\n"
     ]
    },
    {
     "name": "stderr",
     "output_type": "stream",
     "text": [
      "\r",
      " 63% 149/236 [13:37<05:16,  3.64s/it]"
     ]
    },
    {
     "name": "stdout",
     "output_type": "stream",
     "text": [
      "149\n"
     ]
    },
    {
     "name": "stderr",
     "output_type": "stream",
     "text": [
      "\r",
      " 64% 150/236 [13:43<05:51,  4.08s/it]"
     ]
    },
    {
     "name": "stdout",
     "output_type": "stream",
     "text": [
      "150\n"
     ]
    },
    {
     "name": "stderr",
     "output_type": "stream",
     "text": [
      "\r",
      " 64% 151/236 [13:46<05:36,  3.96s/it]"
     ]
    },
    {
     "name": "stdout",
     "output_type": "stream",
     "text": [
      "151\n"
     ]
    },
    {
     "name": "stderr",
     "output_type": "stream",
     "text": [
      "\r",
      " 64% 152/236 [13:51<05:46,  4.13s/it]"
     ]
    },
    {
     "name": "stdout",
     "output_type": "stream",
     "text": [
      "152\n"
     ]
    },
    {
     "name": "stderr",
     "output_type": "stream",
     "text": [
      "\r",
      " 65% 153/236 [13:52<04:36,  3.33s/it]"
     ]
    },
    {
     "name": "stdout",
     "output_type": "stream",
     "text": [
      "153\n"
     ]
    },
    {
     "name": "stderr",
     "output_type": "stream",
     "text": [
      "\r",
      " 65% 154/236 [13:55<04:25,  3.24s/it]"
     ]
    },
    {
     "name": "stdout",
     "output_type": "stream",
     "text": [
      "154\n"
     ]
    },
    {
     "name": "stderr",
     "output_type": "stream",
     "text": [
      "\r",
      " 66% 155/236 [14:00<04:56,  3.67s/it]"
     ]
    },
    {
     "name": "stdout",
     "output_type": "stream",
     "text": [
      "155\n"
     ]
    },
    {
     "name": "stderr",
     "output_type": "stream",
     "text": [
      "\r",
      " 66% 156/236 [14:02<04:14,  3.18s/it]"
     ]
    },
    {
     "name": "stdout",
     "output_type": "stream",
     "text": [
      "156\n"
     ]
    },
    {
     "name": "stderr",
     "output_type": "stream",
     "text": [
      "\r",
      " 67% 157/236 [14:07<04:48,  3.66s/it]"
     ]
    },
    {
     "name": "stdout",
     "output_type": "stream",
     "text": [
      "157\n"
     ]
    },
    {
     "name": "stderr",
     "output_type": "stream",
     "text": [
      "\r",
      " 67% 158/236 [14:11<04:48,  3.70s/it]"
     ]
    },
    {
     "name": "stdout",
     "output_type": "stream",
     "text": [
      "158\n"
     ]
    },
    {
     "name": "stderr",
     "output_type": "stream",
     "text": [
      "\r",
      " 67% 159/236 [14:15<04:59,  3.88s/it]"
     ]
    },
    {
     "name": "stdout",
     "output_type": "stream",
     "text": [
      "159\n"
     ]
    },
    {
     "name": "stderr",
     "output_type": "stream",
     "text": [
      "\r",
      " 68% 160/236 [14:17<04:15,  3.36s/it]"
     ]
    },
    {
     "name": "stdout",
     "output_type": "stream",
     "text": [
      "160\n"
     ]
    },
    {
     "name": "stderr",
     "output_type": "stream",
     "text": [
      "\r",
      " 68% 161/236 [14:20<04:05,  3.27s/it]"
     ]
    },
    {
     "name": "stdout",
     "output_type": "stream",
     "text": [
      "161\n"
     ]
    },
    {
     "name": "stderr",
     "output_type": "stream",
     "text": [
      "\r",
      " 69% 162/236 [14:23<03:52,  3.14s/it]"
     ]
    },
    {
     "name": "stdout",
     "output_type": "stream",
     "text": [
      "162\n"
     ]
    },
    {
     "name": "stderr",
     "output_type": "stream",
     "text": [
      "\r",
      " 69% 163/236 [14:28<04:42,  3.87s/it]"
     ]
    },
    {
     "name": "stdout",
     "output_type": "stream",
     "text": [
      "163\n"
     ]
    },
    {
     "name": "stderr",
     "output_type": "stream",
     "text": [
      "\r",
      " 69% 164/236 [14:33<04:51,  4.04s/it]"
     ]
    },
    {
     "name": "stdout",
     "output_type": "stream",
     "text": [
      "164\n"
     ]
    },
    {
     "name": "stderr",
     "output_type": "stream",
     "text": [
      "\r",
      " 70% 165/236 [14:36<04:36,  3.89s/it]"
     ]
    },
    {
     "name": "stdout",
     "output_type": "stream",
     "text": [
      "165\n"
     ]
    },
    {
     "name": "stderr",
     "output_type": "stream",
     "text": [
      "\r",
      " 70% 166/236 [14:40<04:28,  3.83s/it]"
     ]
    },
    {
     "name": "stdout",
     "output_type": "stream",
     "text": [
      "166\n"
     ]
    },
    {
     "name": "stderr",
     "output_type": "stream",
     "text": [
      "\r",
      " 71% 167/236 [14:44<04:16,  3.72s/it]"
     ]
    },
    {
     "name": "stdout",
     "output_type": "stream",
     "text": [
      "167\n"
     ]
    },
    {
     "name": "stderr",
     "output_type": "stream",
     "text": [
      "\r",
      " 71% 168/236 [14:48<04:27,  3.94s/it]"
     ]
    },
    {
     "name": "stdout",
     "output_type": "stream",
     "text": [
      "168\n"
     ]
    },
    {
     "name": "stderr",
     "output_type": "stream",
     "text": [
      "\r",
      " 72% 169/236 [14:53<04:38,  4.16s/it]"
     ]
    },
    {
     "name": "stdout",
     "output_type": "stream",
     "text": [
      "169\n"
     ]
    },
    {
     "name": "stderr",
     "output_type": "stream",
     "text": [
      "\r",
      " 72% 170/236 [14:58<04:57,  4.51s/it]"
     ]
    },
    {
     "name": "stdout",
     "output_type": "stream",
     "text": [
      "170\n"
     ]
    },
    {
     "name": "stderr",
     "output_type": "stream",
     "text": [
      "\r",
      " 72% 171/236 [15:05<05:44,  5.31s/it]"
     ]
    },
    {
     "name": "stdout",
     "output_type": "stream",
     "text": [
      "171\n"
     ]
    },
    {
     "name": "stderr",
     "output_type": "stream",
     "text": [
      "\r",
      " 73% 172/236 [15:13<06:35,  6.17s/it]"
     ]
    },
    {
     "name": "stdout",
     "output_type": "stream",
     "text": [
      "172\n"
     ]
    },
    {
     "name": "stderr",
     "output_type": "stream",
     "text": [
      "\r",
      " 73% 173/236 [15:19<06:24,  6.10s/it]"
     ]
    },
    {
     "name": "stdout",
     "output_type": "stream",
     "text": [
      "173\n"
     ]
    },
    {
     "name": "stderr",
     "output_type": "stream",
     "text": [
      "\r",
      " 74% 174/236 [15:42<11:18, 10.94s/it]"
     ]
    },
    {
     "name": "stdout",
     "output_type": "stream",
     "text": [
      "174\n"
     ]
    },
    {
     "name": "stderr",
     "output_type": "stream",
     "text": [
      "\r",
      " 74% 175/236 [15:46<09:13,  9.07s/it]"
     ]
    },
    {
     "name": "stdout",
     "output_type": "stream",
     "text": [
      "175\n"
     ]
    },
    {
     "name": "stderr",
     "output_type": "stream",
     "text": [
      "\r",
      " 75% 176/236 [15:52<08:11,  8.19s/it]"
     ]
    },
    {
     "name": "stdout",
     "output_type": "stream",
     "text": [
      "176\n"
     ]
    },
    {
     "name": "stderr",
     "output_type": "stream",
     "text": [
      "\r",
      " 75% 177/236 [15:57<06:55,  7.04s/it]"
     ]
    },
    {
     "name": "stdout",
     "output_type": "stream",
     "text": [
      "177\n"
     ]
    },
    {
     "name": "stderr",
     "output_type": "stream",
     "text": [
      "\r",
      " 75% 178/236 [16:03<06:31,  6.74s/it]"
     ]
    },
    {
     "name": "stdout",
     "output_type": "stream",
     "text": [
      "178\n"
     ]
    },
    {
     "name": "stderr",
     "output_type": "stream",
     "text": [
      "\r",
      " 76% 179/236 [16:10<06:34,  6.91s/it]"
     ]
    },
    {
     "name": "stdout",
     "output_type": "stream",
     "text": [
      "179\n"
     ]
    },
    {
     "name": "stderr",
     "output_type": "stream",
     "text": [
      "\r",
      " 76% 180/236 [16:16<06:01,  6.46s/it]"
     ]
    },
    {
     "name": "stdout",
     "output_type": "stream",
     "text": [
      "180\n"
     ]
    },
    {
     "name": "stderr",
     "output_type": "stream",
     "text": [
      "\r",
      " 77% 181/236 [16:20<05:23,  5.88s/it]"
     ]
    },
    {
     "name": "stdout",
     "output_type": "stream",
     "text": [
      "181\n"
     ]
    },
    {
     "name": "stderr",
     "output_type": "stream",
     "text": [
      "\r",
      " 77% 182/236 [16:24<04:43,  5.25s/it]"
     ]
    },
    {
     "name": "stdout",
     "output_type": "stream",
     "text": [
      "182\n"
     ]
    },
    {
     "name": "stderr",
     "output_type": "stream",
     "text": [
      "\r",
      " 78% 183/236 [16:30<04:49,  5.45s/it]"
     ]
    },
    {
     "name": "stdout",
     "output_type": "stream",
     "text": [
      "183\n"
     ]
    },
    {
     "name": "stderr",
     "output_type": "stream",
     "text": [
      "\r",
      " 78% 184/236 [16:35<04:38,  5.36s/it]"
     ]
    },
    {
     "name": "stdout",
     "output_type": "stream",
     "text": [
      "184\n"
     ]
    },
    {
     "name": "stderr",
     "output_type": "stream",
     "text": [
      "\r",
      " 78% 185/236 [16:42<04:52,  5.74s/it]"
     ]
    },
    {
     "name": "stdout",
     "output_type": "stream",
     "text": [
      "185\n"
     ]
    },
    {
     "name": "stderr",
     "output_type": "stream",
     "text": [
      "\r",
      " 79% 186/236 [16:45<04:18,  5.17s/it]"
     ]
    },
    {
     "name": "stdout",
     "output_type": "stream",
     "text": [
      "186\n"
     ]
    },
    {
     "name": "stderr",
     "output_type": "stream",
     "text": [
      "\r",
      " 79% 187/236 [16:50<04:00,  4.91s/it]"
     ]
    },
    {
     "name": "stdout",
     "output_type": "stream",
     "text": [
      "187\n"
     ]
    },
    {
     "name": "stderr",
     "output_type": "stream",
     "text": [
      "\r",
      " 80% 188/236 [16:54<03:41,  4.61s/it]"
     ]
    },
    {
     "name": "stdout",
     "output_type": "stream",
     "text": [
      "188\n"
     ]
    },
    {
     "name": "stderr",
     "output_type": "stream",
     "text": [
      "\r",
      " 80% 189/236 [17:01<04:20,  5.54s/it]"
     ]
    },
    {
     "name": "stdout",
     "output_type": "stream",
     "text": [
      "189\n"
     ]
    },
    {
     "name": "stderr",
     "output_type": "stream",
     "text": [
      "\r",
      " 81% 190/236 [17:10<04:52,  6.35s/it]"
     ]
    },
    {
     "name": "stdout",
     "output_type": "stream",
     "text": [
      "190\n"
     ]
    },
    {
     "name": "stderr",
     "output_type": "stream",
     "text": [
      "\r",
      " 81% 191/236 [17:21<05:54,  7.88s/it]"
     ]
    },
    {
     "name": "stdout",
     "output_type": "stream",
     "text": [
      "191\n"
     ]
    },
    {
     "name": "stderr",
     "output_type": "stream",
     "text": [
      "\r",
      " 81% 192/236 [17:30<05:57,  8.13s/it]"
     ]
    },
    {
     "name": "stdout",
     "output_type": "stream",
     "text": [
      "192\n"
     ]
    },
    {
     "name": "stderr",
     "output_type": "stream",
     "text": [
      "\r",
      " 82% 193/236 [17:34<05:00,  6.99s/it]"
     ]
    },
    {
     "name": "stdout",
     "output_type": "stream",
     "text": [
      "193\n"
     ]
    },
    {
     "name": "stderr",
     "output_type": "stream",
     "text": [
      "\r",
      " 82% 194/236 [17:41<04:55,  7.04s/it]"
     ]
    },
    {
     "name": "stdout",
     "output_type": "stream",
     "text": [
      "194\n"
     ]
    },
    {
     "name": "stderr",
     "output_type": "stream",
     "text": [
      "\r",
      " 83% 195/236 [17:50<05:04,  7.43s/it]"
     ]
    },
    {
     "name": "stdout",
     "output_type": "stream",
     "text": [
      "195\n"
     ]
    },
    {
     "name": "stderr",
     "output_type": "stream",
     "text": [
      "\r",
      " 83% 196/236 [17:56<04:49,  7.24s/it]"
     ]
    },
    {
     "name": "stdout",
     "output_type": "stream",
     "text": [
      "196\n"
     ]
    },
    {
     "name": "stderr",
     "output_type": "stream",
     "text": [
      "\r",
      " 83% 197/236 [18:04<04:52,  7.50s/it]"
     ]
    },
    {
     "name": "stdout",
     "output_type": "stream",
     "text": [
      "197\n"
     ]
    },
    {
     "name": "stderr",
     "output_type": "stream",
     "text": [
      "\r",
      " 84% 198/236 [18:13<04:57,  7.83s/it]"
     ]
    },
    {
     "name": "stdout",
     "output_type": "stream",
     "text": [
      "198\n"
     ]
    },
    {
     "name": "stderr",
     "output_type": "stream",
     "text": [
      "\r",
      " 84% 199/236 [18:23<05:16,  8.55s/it]"
     ]
    },
    {
     "name": "stdout",
     "output_type": "stream",
     "text": [
      "199\n"
     ]
    },
    {
     "name": "stderr",
     "output_type": "stream",
     "text": [
      "\r",
      " 85% 200/236 [18:31<05:00,  8.34s/it]"
     ]
    },
    {
     "name": "stdout",
     "output_type": "stream",
     "text": [
      "200\n"
     ]
    },
    {
     "name": "stderr",
     "output_type": "stream",
     "text": [
      "\r",
      " 85% 201/236 [18:39<04:48,  8.25s/it]"
     ]
    },
    {
     "name": "stdout",
     "output_type": "stream",
     "text": [
      "201\n"
     ]
    },
    {
     "name": "stderr",
     "output_type": "stream",
     "text": [
      "\r",
      " 86% 202/236 [18:43<03:54,  6.89s/it]"
     ]
    },
    {
     "name": "stdout",
     "output_type": "stream",
     "text": [
      "202\n"
     ]
    },
    {
     "name": "stderr",
     "output_type": "stream",
     "text": [
      "\r",
      " 86% 203/236 [18:55<04:39,  8.48s/it]"
     ]
    },
    {
     "name": "stdout",
     "output_type": "stream",
     "text": [
      "203\n"
     ]
    },
    {
     "name": "stderr",
     "output_type": "stream",
     "text": [
      "\r",
      " 86% 204/236 [19:07<05:08,  9.64s/it]"
     ]
    },
    {
     "name": "stdout",
     "output_type": "stream",
     "text": [
      "204\n"
     ]
    },
    {
     "name": "stderr",
     "output_type": "stream",
     "text": [
      "\r",
      " 87% 205/236 [19:14<04:31,  8.74s/it]"
     ]
    },
    {
     "name": "stdout",
     "output_type": "stream",
     "text": [
      "205\n"
     ]
    },
    {
     "name": "stderr",
     "output_type": "stream",
     "text": [
      "\r",
      " 87% 206/236 [19:18<03:40,  7.35s/it]"
     ]
    },
    {
     "name": "stdout",
     "output_type": "stream",
     "text": [
      "206\n"
     ]
    },
    {
     "name": "stderr",
     "output_type": "stream",
     "text": [
      "\r",
      " 88% 207/236 [19:35<04:56, 10.21s/it]"
     ]
    },
    {
     "name": "stdout",
     "output_type": "stream",
     "text": [
      "207\n"
     ]
    },
    {
     "name": "stderr",
     "output_type": "stream",
     "text": [
      "\r",
      " 88% 208/236 [19:46<04:48, 10.31s/it]"
     ]
    },
    {
     "name": "stdout",
     "output_type": "stream",
     "text": [
      "208\n"
     ]
    },
    {
     "name": "stderr",
     "output_type": "stream",
     "text": [
      "\r",
      " 89% 209/236 [20:01<05:23, 11.99s/it]"
     ]
    },
    {
     "name": "stdout",
     "output_type": "stream",
     "text": [
      "209\n"
     ]
    },
    {
     "name": "stderr",
     "output_type": "stream",
     "text": [
      "\r",
      " 89% 210/236 [20:13<05:09, 11.91s/it]"
     ]
    },
    {
     "name": "stdout",
     "output_type": "stream",
     "text": [
      "210\n"
     ]
    },
    {
     "name": "stderr",
     "output_type": "stream",
     "text": [
      "\r",
      " 89% 211/236 [20:21<04:29, 10.78s/it]"
     ]
    },
    {
     "name": "stdout",
     "output_type": "stream",
     "text": [
      "211\n"
     ]
    },
    {
     "name": "stderr",
     "output_type": "stream",
     "text": [
      "\r",
      " 90% 212/236 [20:32<04:19, 10.83s/it]"
     ]
    },
    {
     "name": "stdout",
     "output_type": "stream",
     "text": [
      "212\n"
     ]
    },
    {
     "name": "stderr",
     "output_type": "stream",
     "text": [
      "\r",
      " 90% 213/236 [20:36<03:21,  8.77s/it]"
     ]
    },
    {
     "name": "stdout",
     "output_type": "stream",
     "text": [
      "213\n"
     ]
    },
    {
     "name": "stderr",
     "output_type": "stream",
     "text": [
      "\r",
      " 91% 214/236 [20:42<02:51,  7.78s/it]"
     ]
    },
    {
     "name": "stdout",
     "output_type": "stream",
     "text": [
      "214\n"
     ]
    },
    {
     "name": "stderr",
     "output_type": "stream",
     "text": [
      "\r",
      " 91% 215/236 [20:46<02:22,  6.80s/it]"
     ]
    },
    {
     "name": "stdout",
     "output_type": "stream",
     "text": [
      "215\n"
     ]
    },
    {
     "name": "stderr",
     "output_type": "stream",
     "text": [
      "\r",
      " 92% 216/236 [20:51<02:02,  6.14s/it]"
     ]
    },
    {
     "name": "stdout",
     "output_type": "stream",
     "text": [
      "216\n"
     ]
    },
    {
     "name": "stderr",
     "output_type": "stream",
     "text": [
      "\r",
      " 92% 217/236 [20:56<01:50,  5.80s/it]"
     ]
    },
    {
     "name": "stdout",
     "output_type": "stream",
     "text": [
      "217\n"
     ]
    },
    {
     "name": "stderr",
     "output_type": "stream",
     "text": [
      "\r",
      " 92% 218/236 [21:04<01:57,  6.51s/it]"
     ]
    },
    {
     "name": "stdout",
     "output_type": "stream",
     "text": [
      "218\n"
     ]
    },
    {
     "name": "stderr",
     "output_type": "stream",
     "text": [
      "\r",
      " 93% 219/236 [21:08<01:39,  5.86s/it]"
     ]
    },
    {
     "name": "stdout",
     "output_type": "stream",
     "text": [
      "219\n"
     ]
    },
    {
     "name": "stderr",
     "output_type": "stream",
     "text": [
      "\r",
      " 93% 220/236 [21:12<01:22,  5.18s/it]"
     ]
    },
    {
     "name": "stdout",
     "output_type": "stream",
     "text": [
      "220\n"
     ]
    },
    {
     "name": "stderr",
     "output_type": "stream",
     "text": [
      "\r",
      " 94% 221/236 [21:18<01:23,  5.59s/it]"
     ]
    },
    {
     "name": "stdout",
     "output_type": "stream",
     "text": [
      "221\n"
     ]
    },
    {
     "name": "stderr",
     "output_type": "stream",
     "text": [
      "\r",
      " 94% 222/236 [21:24<01:19,  5.69s/it]"
     ]
    },
    {
     "name": "stdout",
     "output_type": "stream",
     "text": [
      "222\n"
     ]
    },
    {
     "name": "stderr",
     "output_type": "stream",
     "text": [
      "\r",
      " 94% 223/236 [21:30<01:14,  5.75s/it]"
     ]
    },
    {
     "name": "stdout",
     "output_type": "stream",
     "text": [
      "223\n"
     ]
    },
    {
     "name": "stderr",
     "output_type": "stream",
     "text": [
      "\r",
      " 95% 224/236 [21:36<01:08,  5.68s/it]"
     ]
    },
    {
     "name": "stdout",
     "output_type": "stream",
     "text": [
      "224\n"
     ]
    },
    {
     "name": "stderr",
     "output_type": "stream",
     "text": [
      "100% 236/236 [21:36<00:00,  5.50s/it]"
     ]
    },
    {
     "name": "stdout",
     "output_type": "stream",
     "text": [
      "225\n",
      "226\n",
      "227\n",
      "228\n",
      "229\n",
      "230\n",
      "231\n",
      "232\n",
      "233\n",
      "234\n",
      "235\n",
      "CPU times: user 42.8 s, sys: 2.34 s, total: 45.1 s\n",
      "Wall time: 21min 36s\n"
     ]
    },
    {
     "name": "stderr",
     "output_type": "stream",
     "text": [
      "\n"
     ]
    },
    {
     "data": {
      "text/html": [
       "<div>\n",
       "<style scoped>\n",
       "    .dataframe tbody tr th:only-of-type {\n",
       "        vertical-align: middle;\n",
       "    }\n",
       "\n",
       "    .dataframe tbody tr th {\n",
       "        vertical-align: top;\n",
       "    }\n",
       "\n",
       "    .dataframe thead th {\n",
       "        text-align: right;\n",
       "    }\n",
       "</style>\n",
       "<table border=\"1\" class=\"dataframe\">\n",
       "  <thead>\n",
       "    <tr style=\"text-align: right;\">\n",
       "      <th></th>\n",
       "      <th>date</th>\n",
       "      <th>timestamp</th>\n",
       "      <th>price</th>\n",
       "      <th>target</th>\n",
       "      <th>BITCOIN_NE.text_COUNT_last1days</th>\n",
       "      <th>BITCOIN_NE.text_last1days</th>\n",
       "      <th>COINJOURNA.text_last1days</th>\n",
       "      <th>COINJOURNA.text_COUNT_last1days</th>\n",
       "      <th>BTC_FEARGR.bitcoin_search_last1days</th>\n",
       "      <th>FOX_NEWS_B.title_COUNT_last1days</th>\n",
       "      <th>...</th>\n",
       "      <th>FOX_NEWS_B.headline_last1days</th>\n",
       "      <th>CRYPTOCURR.text_last1days_v1</th>\n",
       "      <th>CRYPTOCURR.text_last1days_v2</th>\n",
       "      <th>CRYPTOCURR.text_COUNT_last1days_v1</th>\n",
       "      <th>CRYPTOCURR.text_COUNT_last1days_v2</th>\n",
       "      <th>count_sum</th>\n",
       "      <th>text_full</th>\n",
       "      <th>res_pos</th>\n",
       "      <th>res_neg</th>\n",
       "      <th>res_neu</th>\n",
       "    </tr>\n",
       "  </thead>\n",
       "  <tbody>\n",
       "    <tr>\n",
       "      <th>0</th>\n",
       "      <td>01-01-2020 17:00:00</td>\n",
       "      <td>1.577898e+09</td>\n",
       "      <td>7212.7</td>\n",
       "      <td>1</td>\n",
       "      <td>3</td>\n",
       "      <td>[etoro ceo yoni assia on reaching 12 million u...</td>\n",
       "      <td>[]</td>\n",
       "      <td>0</td>\n",
       "      <td>14</td>\n",
       "      <td>84</td>\n",
       "      <td>...</td>\n",
       "      <td>[ryan patel of the drucker school of managemen...</td>\n",
       "      <td>[what are your 2020 predictions for #crypto?]</td>\n",
       "      <td>[line79, youtube13eamt4 indicator fx ]</td>\n",
       "      <td>1</td>\n",
       "      <td>2</td>\n",
       "      <td>163</td>\n",
       "      <td>[etoro ceo yoni assia on reaching 12 million u...</td>\n",
       "      <td>0.343571</td>\n",
       "      <td>0.631427</td>\n",
       "      <td>2.025002</td>\n",
       "    </tr>\n",
       "    <tr>\n",
       "      <th>1</th>\n",
       "      <td>02-01-2020 17:00:00</td>\n",
       "      <td>1.577984e+09</td>\n",
       "      <td>6989.4</td>\n",
       "      <td>0</td>\n",
       "      <td>7</td>\n",
       "      <td>[government confirms crypto profits not taxabl...</td>\n",
       "      <td>[]</td>\n",
       "      <td>0</td>\n",
       "      <td>14</td>\n",
       "      <td>76</td>\n",
       "      <td>...</td>\n",
       "      <td>[will 2020 bring even more stock market gains?...</td>\n",
       "      <td>[]</td>\n",
       "      <td>[23mt4 ea  fx  , line81, line82, 24mt4 ea  fx ...</td>\n",
       "      <td>0</td>\n",
       "      <td>5</td>\n",
       "      <td>162</td>\n",
       "      <td>[government confirms crypto profits not taxabl...</td>\n",
       "      <td>1.525628</td>\n",
       "      <td>2.151473</td>\n",
       "      <td>3.322899</td>\n",
       "    </tr>\n",
       "    <tr>\n",
       "      <th>2</th>\n",
       "      <td>03-01-2020 17:00:00</td>\n",
       "      <td>1.578071e+09</td>\n",
       "      <td>7367.5</td>\n",
       "      <td>1</td>\n",
       "      <td>8</td>\n",
       "      <td>[ticker tool uses the bch blockchain to provid...</td>\n",
       "      <td>[]</td>\n",
       "      <td>0</td>\n",
       "      <td>14</td>\n",
       "      <td>160</td>\n",
       "      <td>...</td>\n",
       "      <td>[, cars her way founder lisa copeland discusse...</td>\n",
       "      <td>[people are going to opt for something that is...</td>\n",
       "      <td>[youtube14eamt4 indicator fx , line83]</td>\n",
       "      <td>2</td>\n",
       "      <td>2</td>\n",
       "      <td>278</td>\n",
       "      <td>[ticker tool uses the bch blockchain to provid...</td>\n",
       "      <td>0.790071</td>\n",
       "      <td>0.639061</td>\n",
       "      <td>6.570868</td>\n",
       "    </tr>\n",
       "    <tr>\n",
       "      <th>3</th>\n",
       "      <td>04-01-2020 17:00:00</td>\n",
       "      <td>1.578157e+09</td>\n",
       "      <td>7369.8</td>\n",
       "      <td>0</td>\n",
       "      <td>6</td>\n",
       "      <td>[crypto fundraising is changing again in 2020 ...</td>\n",
       "      <td>[]</td>\n",
       "      <td>0</td>\n",
       "      <td>14</td>\n",
       "      <td>92</td>\n",
       "      <td>...</td>\n",
       "      <td>[, the airstrikes were targeted two vehicles c...</td>\n",
       "      <td>[bullish on bitcoin]</td>\n",
       "      <td>[mt4  fx , 19ea, line85, line87, youtube17mt4 ...</td>\n",
       "      <td>1</td>\n",
       "      <td>7</td>\n",
       "      <td>169</td>\n",
       "      <td>[crypto fundraising is changing again in 2020 ...</td>\n",
       "      <td>1.064533</td>\n",
       "      <td>1.109780</td>\n",
       "      <td>3.825687</td>\n",
       "    </tr>\n",
       "    <tr>\n",
       "      <th>4</th>\n",
       "      <td>05-01-2020 17:00:00</td>\n",
       "      <td>1.578244e+09</td>\n",
       "      <td>7364.6</td>\n",
       "      <td>0</td>\n",
       "      <td>5</td>\n",
       "      <td>[subhash chandra garg on the future of crypto ...</td>\n",
       "      <td>[]</td>\n",
       "      <td>0</td>\n",
       "      <td>14</td>\n",
       "      <td>35</td>\n",
       "      <td>...</td>\n",
       "      <td>[, foxnews, 2020 democratic candidate tom stey...</td>\n",
       "      <td>[a burger king location in venezuela is now ac...</td>\n",
       "      <td>[, line93, macdmt4 fx , line91]</td>\n",
       "      <td>1</td>\n",
       "      <td>4</td>\n",
       "      <td>86</td>\n",
       "      <td>[subhash chandra garg on the future of crypto ...</td>\n",
       "      <td>1.266352</td>\n",
       "      <td>0.183858</td>\n",
       "      <td>3.549790</td>\n",
       "    </tr>\n",
       "    <tr>\n",
       "      <th>...</th>\n",
       "      <td>...</td>\n",
       "      <td>...</td>\n",
       "      <td>...</td>\n",
       "      <td>...</td>\n",
       "      <td>...</td>\n",
       "      <td>...</td>\n",
       "      <td>...</td>\n",
       "      <td>...</td>\n",
       "      <td>...</td>\n",
       "      <td>...</td>\n",
       "      <td>...</td>\n",
       "      <td>...</td>\n",
       "      <td>...</td>\n",
       "      <td>...</td>\n",
       "      <td>...</td>\n",
       "      <td>...</td>\n",
       "      <td>...</td>\n",
       "      <td>...</td>\n",
       "      <td>...</td>\n",
       "      <td>...</td>\n",
       "      <td>...</td>\n",
       "    </tr>\n",
       "    <tr>\n",
       "      <th>231</th>\n",
       "      <td>23-08-2020 17:00:00</td>\n",
       "      <td>1.598202e+09</td>\n",
       "      <td>11663.0</td>\n",
       "      <td>0</td>\n",
       "      <td>0</td>\n",
       "      <td>[]</td>\n",
       "      <td>[]</td>\n",
       "      <td>0</td>\n",
       "      <td>14</td>\n",
       "      <td>0</td>\n",
       "      <td>...</td>\n",
       "      <td>[]</td>\n",
       "      <td>[you gotta have some fortitude to handle the s...</td>\n",
       "      <td>[]</td>\n",
       "      <td>1</td>\n",
       "      <td>0</td>\n",
       "      <td>15</td>\n",
       "      <td>[you gotta have some fortitude to handle the s...</td>\n",
       "      <td>0.000000</td>\n",
       "      <td>0.000000</td>\n",
       "      <td>0.000000</td>\n",
       "    </tr>\n",
       "    <tr>\n",
       "      <th>232</th>\n",
       "      <td>25-08-2020 17:00:00</td>\n",
       "      <td>1.598375e+09</td>\n",
       "      <td>11341.0</td>\n",
       "      <td>0</td>\n",
       "      <td>0</td>\n",
       "      <td>[]</td>\n",
       "      <td>[xrps active wallets hit 7day high despite 92 ...</td>\n",
       "      <td>1</td>\n",
       "      <td>15</td>\n",
       "      <td>0</td>\n",
       "      <td>...</td>\n",
       "      <td>[]</td>\n",
       "      <td>[]</td>\n",
       "      <td>[]</td>\n",
       "      <td>0</td>\n",
       "      <td>0</td>\n",
       "      <td>16</td>\n",
       "      <td>[xrps active wallets hit 7day high despite 92 ...</td>\n",
       "      <td>0.000000</td>\n",
       "      <td>0.000000</td>\n",
       "      <td>0.000000</td>\n",
       "    </tr>\n",
       "    <tr>\n",
       "      <th>233</th>\n",
       "      <td>26-08-2020 17:00:00</td>\n",
       "      <td>1.598461e+09</td>\n",
       "      <td>11471.0</td>\n",
       "      <td>1</td>\n",
       "      <td>0</td>\n",
       "      <td>[]</td>\n",
       "      <td>[the irs is sending tax warning letters to cry...</td>\n",
       "      <td>3</td>\n",
       "      <td>15</td>\n",
       "      <td>16</td>\n",
       "      <td>...</td>\n",
       "      <td>[, rnc chairwoman ronna mcdaniel on what to ex...</td>\n",
       "      <td>[]</td>\n",
       "      <td>[defi pieformance]</td>\n",
       "      <td>0</td>\n",
       "      <td>1</td>\n",
       "      <td>48</td>\n",
       "      <td>[defi pieformance, brother of suzanne morphew ...</td>\n",
       "      <td>0.000000</td>\n",
       "      <td>0.000000</td>\n",
       "      <td>0.000000</td>\n",
       "    </tr>\n",
       "    <tr>\n",
       "      <th>234</th>\n",
       "      <td>27-08-2020 17:00:00</td>\n",
       "      <td>1.598548e+09</td>\n",
       "      <td>11343.0</td>\n",
       "      <td>0</td>\n",
       "      <td>0</td>\n",
       "      <td>[]</td>\n",
       "      <td>[brazils central bank considering the developm...</td>\n",
       "      <td>4</td>\n",
       "      <td>15</td>\n",
       "      <td>0</td>\n",
       "      <td>...</td>\n",
       "      <td>[]</td>\n",
       "      <td>[]</td>\n",
       "      <td>[]</td>\n",
       "      <td>0</td>\n",
       "      <td>0</td>\n",
       "      <td>19</td>\n",
       "      <td>[brazils central bank considering the developm...</td>\n",
       "      <td>0.000000</td>\n",
       "      <td>0.000000</td>\n",
       "      <td>0.000000</td>\n",
       "    </tr>\n",
       "    <tr>\n",
       "      <th>235</th>\n",
       "      <td>28-08-2020 17:00:00</td>\n",
       "      <td>1.598634e+09</td>\n",
       "      <td>11545.0</td>\n",
       "      <td>1</td>\n",
       "      <td>0</td>\n",
       "      <td>[]</td>\n",
       "      <td>[polkadot (dot) hits major resistance after ra...</td>\n",
       "      <td>4</td>\n",
       "      <td>15</td>\n",
       "      <td>25</td>\n",
       "      <td>...</td>\n",
       "      <td>[former federal reserve bank of atlanta presid...</td>\n",
       "      <td>[]</td>\n",
       "      <td>[band staking of huobi\\n\\n#band #huobi, band s...</td>\n",
       "      <td>0</td>\n",
       "      <td>4</td>\n",
       "      <td>69</td>\n",
       "      <td>[band staking of huobi\\n\\n#band #huobi, band s...</td>\n",
       "      <td>0.000000</td>\n",
       "      <td>0.000000</td>\n",
       "      <td>0.000000</td>\n",
       "    </tr>\n",
       "  </tbody>\n",
       "</table>\n",
       "<p>236 rows × 22 columns</p>\n",
       "</div>"
      ],
      "text/plain": [
       "                    date     timestamp    price  target  \\\n",
       "0    01-01-2020 17:00:00  1.577898e+09   7212.7       1   \n",
       "1    02-01-2020 17:00:00  1.577984e+09   6989.4       0   \n",
       "2    03-01-2020 17:00:00  1.578071e+09   7367.5       1   \n",
       "3    04-01-2020 17:00:00  1.578157e+09   7369.8       0   \n",
       "4    05-01-2020 17:00:00  1.578244e+09   7364.6       0   \n",
       "..                   ...           ...      ...     ...   \n",
       "231  23-08-2020 17:00:00  1.598202e+09  11663.0       0   \n",
       "232  25-08-2020 17:00:00  1.598375e+09  11341.0       0   \n",
       "233  26-08-2020 17:00:00  1.598461e+09  11471.0       1   \n",
       "234  27-08-2020 17:00:00  1.598548e+09  11343.0       0   \n",
       "235  28-08-2020 17:00:00  1.598634e+09  11545.0       1   \n",
       "\n",
       "     BITCOIN_NE.text_COUNT_last1days  \\\n",
       "0                                  3   \n",
       "1                                  7   \n",
       "2                                  8   \n",
       "3                                  6   \n",
       "4                                  5   \n",
       "..                               ...   \n",
       "231                                0   \n",
       "232                                0   \n",
       "233                                0   \n",
       "234                                0   \n",
       "235                                0   \n",
       "\n",
       "                             BITCOIN_NE.text_last1days  \\\n",
       "0    [etoro ceo yoni assia on reaching 12 million u...   \n",
       "1    [government confirms crypto profits not taxabl...   \n",
       "2    [ticker tool uses the bch blockchain to provid...   \n",
       "3    [crypto fundraising is changing again in 2020 ...   \n",
       "4    [subhash chandra garg on the future of crypto ...   \n",
       "..                                                 ...   \n",
       "231                                                 []   \n",
       "232                                                 []   \n",
       "233                                                 []   \n",
       "234                                                 []   \n",
       "235                                                 []   \n",
       "\n",
       "                             COINJOURNA.text_last1days  \\\n",
       "0                                                   []   \n",
       "1                                                   []   \n",
       "2                                                   []   \n",
       "3                                                   []   \n",
       "4                                                   []   \n",
       "..                                                 ...   \n",
       "231                                                 []   \n",
       "232  [xrps active wallets hit 7day high despite 92 ...   \n",
       "233  [the irs is sending tax warning letters to cry...   \n",
       "234  [brazils central bank considering the developm...   \n",
       "235  [polkadot (dot) hits major resistance after ra...   \n",
       "\n",
       "     COINJOURNA.text_COUNT_last1days  BTC_FEARGR.bitcoin_search_last1days  \\\n",
       "0                                  0                                   14   \n",
       "1                                  0                                   14   \n",
       "2                                  0                                   14   \n",
       "3                                  0                                   14   \n",
       "4                                  0                                   14   \n",
       "..                               ...                                  ...   \n",
       "231                                0                                   14   \n",
       "232                                1                                   15   \n",
       "233                                3                                   15   \n",
       "234                                4                                   15   \n",
       "235                                4                                   15   \n",
       "\n",
       "     FOX_NEWS_B.title_COUNT_last1days  ...  \\\n",
       "0                                  84  ...   \n",
       "1                                  76  ...   \n",
       "2                                 160  ...   \n",
       "3                                  92  ...   \n",
       "4                                  35  ...   \n",
       "..                                ...  ...   \n",
       "231                                 0  ...   \n",
       "232                                 0  ...   \n",
       "233                                16  ...   \n",
       "234                                 0  ...   \n",
       "235                                25  ...   \n",
       "\n",
       "                         FOX_NEWS_B.headline_last1days  \\\n",
       "0    [ryan patel of the drucker school of managemen...   \n",
       "1    [will 2020 bring even more stock market gains?...   \n",
       "2    [, cars her way founder lisa copeland discusse...   \n",
       "3    [, the airstrikes were targeted two vehicles c...   \n",
       "4    [, foxnews, 2020 democratic candidate tom stey...   \n",
       "..                                                 ...   \n",
       "231                                                 []   \n",
       "232                                                 []   \n",
       "233  [, rnc chairwoman ronna mcdaniel on what to ex...   \n",
       "234                                                 []   \n",
       "235  [former federal reserve bank of atlanta presid...   \n",
       "\n",
       "                          CRYPTOCURR.text_last1days_v1  \\\n",
       "0        [what are your 2020 predictions for #crypto?]   \n",
       "1                                                   []   \n",
       "2    [people are going to opt for something that is...   \n",
       "3                                 [bullish on bitcoin]   \n",
       "4    [a burger king location in venezuela is now ac...   \n",
       "..                                                 ...   \n",
       "231  [you gotta have some fortitude to handle the s...   \n",
       "232                                                 []   \n",
       "233                                                 []   \n",
       "234                                                 []   \n",
       "235                                                 []   \n",
       "\n",
       "                          CRYPTOCURR.text_last1days_v2  \\\n",
       "0               [line79, youtube13eamt4 indicator fx ]   \n",
       "1    [23mt4 ea  fx  , line81, line82, 24mt4 ea  fx ...   \n",
       "2               [youtube14eamt4 indicator fx , line83]   \n",
       "3    [mt4  fx , 19ea, line85, line87, youtube17mt4 ...   \n",
       "4                      [, line93, macdmt4 fx , line91]   \n",
       "..                                                 ...   \n",
       "231                                                 []   \n",
       "232                                                 []   \n",
       "233                                 [defi pieformance]   \n",
       "234                                                 []   \n",
       "235  [band staking of huobi\\n\\n#band #huobi, band s...   \n",
       "\n",
       "    CRYPTOCURR.text_COUNT_last1days_v1 CRYPTOCURR.text_COUNT_last1days_v2  \\\n",
       "0                                    1                                  2   \n",
       "1                                    0                                  5   \n",
       "2                                    2                                  2   \n",
       "3                                    1                                  7   \n",
       "4                                    1                                  4   \n",
       "..                                 ...                                ...   \n",
       "231                                  1                                  0   \n",
       "232                                  0                                  0   \n",
       "233                                  0                                  1   \n",
       "234                                  0                                  0   \n",
       "235                                  0                                  4   \n",
       "\n",
       "     count_sum                                          text_full   res_pos  \\\n",
       "0          163  [etoro ceo yoni assia on reaching 12 million u...  0.343571   \n",
       "1          162  [government confirms crypto profits not taxabl...  1.525628   \n",
       "2          278  [ticker tool uses the bch blockchain to provid...  0.790071   \n",
       "3          169  [crypto fundraising is changing again in 2020 ...  1.064533   \n",
       "4           86  [subhash chandra garg on the future of crypto ...  1.266352   \n",
       "..         ...                                                ...       ...   \n",
       "231         15  [you gotta have some fortitude to handle the s...  0.000000   \n",
       "232         16  [xrps active wallets hit 7day high despite 92 ...  0.000000   \n",
       "233         48  [defi pieformance, brother of suzanne morphew ...  0.000000   \n",
       "234         19  [brazils central bank considering the developm...  0.000000   \n",
       "235         69  [band staking of huobi\\n\\n#band #huobi, band s...  0.000000   \n",
       "\n",
       "      res_neg   res_neu  \n",
       "0    0.631427  2.025002  \n",
       "1    2.151473  3.322899  \n",
       "2    0.639061  6.570868  \n",
       "3    1.109780  3.825687  \n",
       "4    0.183858  3.549790  \n",
       "..        ...       ...  \n",
       "231  0.000000  0.000000  \n",
       "232  0.000000  0.000000  \n",
       "233  0.000000  0.000000  \n",
       "234  0.000000  0.000000  \n",
       "235  0.000000  0.000000  \n",
       "\n",
       "[236 rows x 22 columns]"
      ]
     },
     "execution_count": 84,
     "metadata": {},
     "output_type": "execute_result"
    }
   ],
   "source": [
    "%%time\n",
    "from tqdm import tqdm\n",
    "\n",
    "df['res_pos'] = pd.Series()\n",
    "df['res_neg'] = pd.Series()\n",
    "df['res_neu'] = pd.Series()\n",
    "for i in tqdm(range(236)):\n",
    "    print(i)\n",
    "    sub_df = df.loc[i, :]#['BITCOIN_NE.text_last1days']\n",
    "    text_length = len(sub_df['BITCOIN_NE.text_last1days'])\n",
    "    res_pos = 0\n",
    "    res_neg = 0\n",
    "    res_neu = 0\n",
    "    for j in range(text_length):\n",
    "        try:\n",
    "            q = query(sub_df['BITCOIN_NE.text_last1days'][j])\n",
    "            current_res = q[0]\n",
    "            current_res_pos = current_res[0]['score']\n",
    "            current_res_neg = current_res[1]['score']\n",
    "            current_res_neutral = current_res[2]['score']\n",
    "            res_pos += current_res_pos\n",
    "            res_neg += current_res_neg\n",
    "            res_neu += current_res_neutral\n",
    "            # for counting\n",
    "#             if current_res_pos>=current_res_neg:\n",
    "#                 if current_res_pos > current_res_neutral:\n",
    "#                     res_pos += 1\n",
    "#                 else:\n",
    "#                     res_neu += 1\n",
    "#             else:\n",
    "#                 if current_res_neg > current_res_neutral:\n",
    "#                     res_neg += 1\n",
    "#                 else:\n",
    "#                     res_neu += 1\n",
    "        except Exception as e:\n",
    "            continue\n",
    "    df.loc[i, 'res_pos'] = res_pos\n",
    "    df.loc[i, 'res_neg'] = res_neg\n",
    "    df.loc[i, 'res_neu'] = res_neu\n",
    "df"
   ]
  },
  {
   "cell_type": "code",
   "execution_count": 86,
   "id": "a0641658",
   "metadata": {},
   "outputs": [
    {
     "data": {
      "text/plain": [
       "target     1.000000\n",
       "res_pos    0.048596\n",
       "res_neg   -0.001936\n",
       "res_neu   -0.052912\n",
       "Name: target, dtype: float64"
      ]
     },
     "execution_count": 86,
     "metadata": {},
     "output_type": "execute_result"
    }
   ],
   "source": [
    "features = ['target', 'res_pos', 'res_neg', 'res_neu']\n",
    "df[features].dropna().corr()['target']"
   ]
  },
  {
   "cell_type": "markdown",
   "id": "37489bff",
   "metadata": {},
   "source": [
    "### только позитив и негатив с количеством"
   ]
  },
  {
   "cell_type": "code",
   "execution_count": 87,
   "id": "e39fff27",
   "metadata": {},
   "outputs": [
    {
     "name": "stderr",
     "output_type": "stream",
     "text": [
      "<timed exec>:3: DeprecationWarning: The default dtype for empty Series will be 'object' instead of 'float64' in a future version. Specify a dtype explicitly to silence this warning.\n",
      "<timed exec>:4: DeprecationWarning: The default dtype for empty Series will be 'object' instead of 'float64' in a future version. Specify a dtype explicitly to silence this warning.\n",
      "  0% 0/236 [00:00<?, ?it/s]"
     ]
    },
    {
     "name": "stdout",
     "output_type": "stream",
     "text": [
      "0\n"
     ]
    },
    {
     "name": "stderr",
     "output_type": "stream",
     "text": [
      "\r",
      "  0% 1/236 [00:02<08:50,  2.26s/it]"
     ]
    },
    {
     "name": "stdout",
     "output_type": "stream",
     "text": [
      "1\n"
     ]
    },
    {
     "name": "stderr",
     "output_type": "stream",
     "text": [
      "\r",
      "  1% 2/236 [00:07<15:27,  3.96s/it]"
     ]
    },
    {
     "name": "stdout",
     "output_type": "stream",
     "text": [
      "2\n"
     ]
    },
    {
     "name": "stderr",
     "output_type": "stream",
     "text": [
      "\r",
      "  1% 3/236 [00:13<18:50,  4.85s/it]"
     ]
    },
    {
     "name": "stdout",
     "output_type": "stream",
     "text": [
      "3\n"
     ]
    },
    {
     "name": "stderr",
     "output_type": "stream",
     "text": [
      "\r",
      "  2% 4/236 [00:18<18:36,  4.81s/it]"
     ]
    },
    {
     "name": "stdout",
     "output_type": "stream",
     "text": [
      "4\n"
     ]
    },
    {
     "name": "stderr",
     "output_type": "stream",
     "text": [
      "\r",
      "  2% 5/236 [00:22<18:25,  4.79s/it]"
     ]
    },
    {
     "name": "stdout",
     "output_type": "stream",
     "text": [
      "5\n"
     ]
    },
    {
     "name": "stderr",
     "output_type": "stream",
     "text": [
      "\r",
      "  3% 6/236 [00:27<17:53,  4.67s/it]"
     ]
    },
    {
     "name": "stdout",
     "output_type": "stream",
     "text": [
      "6\n"
     ]
    },
    {
     "name": "stderr",
     "output_type": "stream",
     "text": [
      "\r",
      "  3% 7/236 [00:34<20:36,  5.40s/it]"
     ]
    },
    {
     "name": "stdout",
     "output_type": "stream",
     "text": [
      "7\n"
     ]
    },
    {
     "name": "stderr",
     "output_type": "stream",
     "text": [
      "\r",
      "  3% 8/236 [00:39<20:05,  5.29s/it]"
     ]
    },
    {
     "name": "stdout",
     "output_type": "stream",
     "text": [
      "8\n"
     ]
    },
    {
     "name": "stderr",
     "output_type": "stream",
     "text": [
      "\r",
      "  4% 9/236 [00:43<18:15,  4.83s/it]"
     ]
    },
    {
     "name": "stdout",
     "output_type": "stream",
     "text": [
      "9\n"
     ]
    },
    {
     "name": "stderr",
     "output_type": "stream",
     "text": [
      "\r",
      "  4% 10/236 [00:49<19:42,  5.23s/it]"
     ]
    },
    {
     "name": "stdout",
     "output_type": "stream",
     "text": [
      "10\n"
     ]
    },
    {
     "name": "stderr",
     "output_type": "stream",
     "text": [
      "\r",
      "  5% 11/236 [00:53<18:05,  4.82s/it]"
     ]
    },
    {
     "name": "stdout",
     "output_type": "stream",
     "text": [
      "11\n"
     ]
    },
    {
     "name": "stderr",
     "output_type": "stream",
     "text": [
      "\r",
      "  5% 12/236 [00:56<16:52,  4.52s/it]"
     ]
    },
    {
     "name": "stdout",
     "output_type": "stream",
     "text": [
      "12\n"
     ]
    },
    {
     "name": "stderr",
     "output_type": "stream",
     "text": [
      "\r",
      "  6% 13/236 [01:01<17:05,  4.60s/it]"
     ]
    },
    {
     "name": "stdout",
     "output_type": "stream",
     "text": [
      "13\n"
     ]
    },
    {
     "name": "stderr",
     "output_type": "stream",
     "text": [
      "\r",
      "  6% 14/236 [01:07<18:30,  5.00s/it]"
     ]
    },
    {
     "name": "stdout",
     "output_type": "stream",
     "text": [
      "14\n"
     ]
    },
    {
     "name": "stderr",
     "output_type": "stream",
     "text": [
      "\r",
      "  6% 15/236 [01:11<16:49,  4.57s/it]"
     ]
    },
    {
     "name": "stdout",
     "output_type": "stream",
     "text": [
      "15\n"
     ]
    },
    {
     "name": "stderr",
     "output_type": "stream",
     "text": [
      "\r",
      "  7% 16/236 [01:17<18:44,  5.11s/it]"
     ]
    },
    {
     "name": "stdout",
     "output_type": "stream",
     "text": [
      "16\n"
     ]
    },
    {
     "name": "stderr",
     "output_type": "stream",
     "text": [
      "\r",
      "  7% 17/236 [01:21<17:12,  4.71s/it]"
     ]
    },
    {
     "name": "stdout",
     "output_type": "stream",
     "text": [
      "17\n"
     ]
    },
    {
     "name": "stderr",
     "output_type": "stream",
     "text": [
      "\r",
      "  8% 18/236 [01:25<16:33,  4.56s/it]"
     ]
    },
    {
     "name": "stdout",
     "output_type": "stream",
     "text": [
      "18\n"
     ]
    },
    {
     "name": "stderr",
     "output_type": "stream",
     "text": [
      "\r",
      "  8% 19/236 [01:28<14:47,  4.09s/it]"
     ]
    },
    {
     "name": "stdout",
     "output_type": "stream",
     "text": [
      "19\n"
     ]
    },
    {
     "name": "stderr",
     "output_type": "stream",
     "text": [
      "\r",
      "  8% 20/236 [01:34<16:50,  4.68s/it]"
     ]
    },
    {
     "name": "stdout",
     "output_type": "stream",
     "text": [
      "20\n"
     ]
    },
    {
     "name": "stderr",
     "output_type": "stream",
     "text": [
      "\r",
      "  9% 21/236 [01:40<18:13,  5.08s/it]"
     ]
    },
    {
     "name": "stdout",
     "output_type": "stream",
     "text": [
      "21\n"
     ]
    },
    {
     "name": "stderr",
     "output_type": "stream",
     "text": [
      "\r",
      "  9% 22/236 [01:44<17:22,  4.87s/it]"
     ]
    },
    {
     "name": "stdout",
     "output_type": "stream",
     "text": [
      "22\n"
     ]
    },
    {
     "name": "stderr",
     "output_type": "stream",
     "text": [
      "\r",
      " 10% 23/236 [01:50<17:53,  5.04s/it]"
     ]
    },
    {
     "name": "stdout",
     "output_type": "stream",
     "text": [
      "23\n"
     ]
    },
    {
     "name": "stderr",
     "output_type": "stream",
     "text": [
      "\r",
      " 10% 24/236 [01:57<19:39,  5.56s/it]"
     ]
    },
    {
     "name": "stdout",
     "output_type": "stream",
     "text": [
      "24\n"
     ]
    },
    {
     "name": "stderr",
     "output_type": "stream",
     "text": [
      "\r",
      " 11% 25/236 [02:00<17:19,  4.93s/it]"
     ]
    },
    {
     "name": "stdout",
     "output_type": "stream",
     "text": [
      "25\n"
     ]
    },
    {
     "name": "stderr",
     "output_type": "stream",
     "text": [
      "\r",
      " 11% 26/236 [02:07<18:51,  5.39s/it]"
     ]
    },
    {
     "name": "stdout",
     "output_type": "stream",
     "text": [
      "26\n"
     ]
    },
    {
     "name": "stderr",
     "output_type": "stream",
     "text": [
      "\r",
      " 11% 27/236 [02:10<16:59,  4.88s/it]"
     ]
    },
    {
     "name": "stdout",
     "output_type": "stream",
     "text": [
      "27\n"
     ]
    },
    {
     "name": "stderr",
     "output_type": "stream",
     "text": [
      "\r",
      " 12% 28/236 [02:17<18:56,  5.46s/it]"
     ]
    },
    {
     "name": "stdout",
     "output_type": "stream",
     "text": [
      "28\n"
     ]
    },
    {
     "name": "stderr",
     "output_type": "stream",
     "text": [
      "\r",
      " 12% 29/236 [02:22<17:53,  5.19s/it]"
     ]
    },
    {
     "name": "stdout",
     "output_type": "stream",
     "text": [
      "29\n"
     ]
    },
    {
     "name": "stderr",
     "output_type": "stream",
     "text": [
      "\r",
      " 13% 30/236 [02:28<19:04,  5.55s/it]"
     ]
    },
    {
     "name": "stdout",
     "output_type": "stream",
     "text": [
      "30\n"
     ]
    },
    {
     "name": "stderr",
     "output_type": "stream",
     "text": [
      "\r",
      " 13% 31/236 [02:33<18:27,  5.40s/it]"
     ]
    },
    {
     "name": "stdout",
     "output_type": "stream",
     "text": [
      "31\n"
     ]
    },
    {
     "name": "stderr",
     "output_type": "stream",
     "text": [
      "\r",
      " 14% 32/236 [02:36<16:18,  4.80s/it]"
     ]
    },
    {
     "name": "stdout",
     "output_type": "stream",
     "text": [
      "32\n"
     ]
    },
    {
     "name": "stderr",
     "output_type": "stream",
     "text": [
      "\r",
      " 14% 33/236 [02:40<15:24,  4.56s/it]"
     ]
    },
    {
     "name": "stdout",
     "output_type": "stream",
     "text": [
      "33\n"
     ]
    },
    {
     "name": "stderr",
     "output_type": "stream",
     "text": [
      "\r",
      " 14% 34/236 [02:46<15:59,  4.75s/it]"
     ]
    },
    {
     "name": "stdout",
     "output_type": "stream",
     "text": [
      "34\n"
     ]
    },
    {
     "name": "stderr",
     "output_type": "stream",
     "text": [
      "\r",
      " 15% 35/236 [02:51<16:20,  4.88s/it]"
     ]
    },
    {
     "name": "stdout",
     "output_type": "stream",
     "text": [
      "35\n"
     ]
    },
    {
     "name": "stderr",
     "output_type": "stream",
     "text": [
      "\r",
      " 15% 36/236 [02:59<19:38,  5.89s/it]"
     ]
    },
    {
     "name": "stdout",
     "output_type": "stream",
     "text": [
      "36\n"
     ]
    },
    {
     "name": "stderr",
     "output_type": "stream",
     "text": [
      "\r",
      " 16% 37/236 [03:04<18:03,  5.45s/it]"
     ]
    },
    {
     "name": "stdout",
     "output_type": "stream",
     "text": [
      "37\n"
     ]
    },
    {
     "name": "stderr",
     "output_type": "stream",
     "text": [
      "\r",
      " 16% 38/236 [03:09<18:21,  5.56s/it]"
     ]
    },
    {
     "name": "stdout",
     "output_type": "stream",
     "text": [
      "38\n"
     ]
    },
    {
     "name": "stderr",
     "output_type": "stream",
     "text": [
      "\r",
      " 17% 39/236 [03:13<16:33,  5.04s/it]"
     ]
    },
    {
     "name": "stdout",
     "output_type": "stream",
     "text": [
      "39\n"
     ]
    },
    {
     "name": "stderr",
     "output_type": "stream",
     "text": [
      "\r",
      " 17% 40/236 [03:17<15:18,  4.68s/it]"
     ]
    },
    {
     "name": "stdout",
     "output_type": "stream",
     "text": [
      "40\n"
     ]
    },
    {
     "name": "stderr",
     "output_type": "stream",
     "text": [
      "\r",
      " 17% 41/236 [03:23<16:11,  4.98s/it]"
     ]
    },
    {
     "name": "stdout",
     "output_type": "stream",
     "text": [
      "41\n"
     ]
    },
    {
     "name": "stderr",
     "output_type": "stream",
     "text": [
      "\r",
      " 18% 42/236 [03:29<16:55,  5.24s/it]"
     ]
    },
    {
     "name": "stdout",
     "output_type": "stream",
     "text": [
      "42\n"
     ]
    },
    {
     "name": "stderr",
     "output_type": "stream",
     "text": [
      "\r",
      " 18% 43/236 [03:36<19:21,  6.02s/it]"
     ]
    },
    {
     "name": "stdout",
     "output_type": "stream",
     "text": [
      "43\n"
     ]
    },
    {
     "name": "stderr",
     "output_type": "stream",
     "text": [
      "\r",
      " 19% 44/236 [03:42<18:29,  5.78s/it]"
     ]
    },
    {
     "name": "stdout",
     "output_type": "stream",
     "text": [
      "44\n"
     ]
    },
    {
     "name": "stderr",
     "output_type": "stream",
     "text": [
      "\r",
      " 19% 45/236 [03:46<17:11,  5.40s/it]"
     ]
    },
    {
     "name": "stdout",
     "output_type": "stream",
     "text": [
      "45\n"
     ]
    },
    {
     "name": "stderr",
     "output_type": "stream",
     "text": [
      "\r",
      " 19% 46/236 [03:50<15:34,  4.92s/it]"
     ]
    },
    {
     "name": "stdout",
     "output_type": "stream",
     "text": [
      "46\n"
     ]
    },
    {
     "name": "stderr",
     "output_type": "stream",
     "text": [
      "\r",
      " 20% 47/236 [03:54<14:37,  4.64s/it]"
     ]
    },
    {
     "name": "stdout",
     "output_type": "stream",
     "text": [
      "47\n"
     ]
    },
    {
     "name": "stderr",
     "output_type": "stream",
     "text": [
      "\r",
      " 20% 48/236 [03:59<14:31,  4.64s/it]"
     ]
    },
    {
     "name": "stdout",
     "output_type": "stream",
     "text": [
      "48\n"
     ]
    },
    {
     "name": "stderr",
     "output_type": "stream",
     "text": [
      "\r",
      " 21% 49/236 [04:03<14:10,  4.55s/it]"
     ]
    },
    {
     "name": "stdout",
     "output_type": "stream",
     "text": [
      "49\n"
     ]
    },
    {
     "name": "stderr",
     "output_type": "stream",
     "text": [
      "\r",
      " 21% 50/236 [04:07<13:21,  4.31s/it]"
     ]
    },
    {
     "name": "stdout",
     "output_type": "stream",
     "text": [
      "50\n"
     ]
    },
    {
     "name": "stderr",
     "output_type": "stream",
     "text": [
      "\r",
      " 22% 51/236 [04:09<11:46,  3.82s/it]"
     ]
    },
    {
     "name": "stdout",
     "output_type": "stream",
     "text": [
      "51\n"
     ]
    },
    {
     "name": "stderr",
     "output_type": "stream",
     "text": [
      "\r",
      " 22% 52/236 [04:13<11:17,  3.68s/it]"
     ]
    },
    {
     "name": "stdout",
     "output_type": "stream",
     "text": [
      "52\n"
     ]
    },
    {
     "name": "stderr",
     "output_type": "stream",
     "text": [
      "\r",
      " 22% 53/236 [04:16<11:10,  3.66s/it]"
     ]
    },
    {
     "name": "stdout",
     "output_type": "stream",
     "text": [
      "53\n"
     ]
    },
    {
     "name": "stderr",
     "output_type": "stream",
     "text": [
      "\r",
      " 23% 54/236 [04:20<11:22,  3.75s/it]"
     ]
    },
    {
     "name": "stdout",
     "output_type": "stream",
     "text": [
      "54\n"
     ]
    },
    {
     "name": "stderr",
     "output_type": "stream",
     "text": [
      "\r",
      " 23% 55/236 [04:25<11:47,  3.91s/it]"
     ]
    },
    {
     "name": "stdout",
     "output_type": "stream",
     "text": [
      "55\n"
     ]
    },
    {
     "name": "stderr",
     "output_type": "stream",
     "text": [
      "\r",
      " 24% 56/236 [04:29<11:56,  3.98s/it]"
     ]
    },
    {
     "name": "stdout",
     "output_type": "stream",
     "text": [
      "56\n"
     ]
    },
    {
     "name": "stderr",
     "output_type": "stream",
     "text": [
      "\r",
      " 24% 57/236 [04:34<13:01,  4.37s/it]"
     ]
    },
    {
     "name": "stdout",
     "output_type": "stream",
     "text": [
      "57\n"
     ]
    },
    {
     "name": "stderr",
     "output_type": "stream",
     "text": [
      "\r",
      " 25% 58/236 [04:38<13:04,  4.41s/it]"
     ]
    },
    {
     "name": "stdout",
     "output_type": "stream",
     "text": [
      "58\n"
     ]
    },
    {
     "name": "stderr",
     "output_type": "stream",
     "text": [
      "\r",
      " 25% 59/236 [04:44<14:05,  4.78s/it]"
     ]
    },
    {
     "name": "stdout",
     "output_type": "stream",
     "text": [
      "59\n"
     ]
    },
    {
     "name": "stderr",
     "output_type": "stream",
     "text": [
      "\r",
      " 25% 60/236 [04:48<12:57,  4.42s/it]"
     ]
    },
    {
     "name": "stdout",
     "output_type": "stream",
     "text": [
      "60\n"
     ]
    },
    {
     "name": "stderr",
     "output_type": "stream",
     "text": [
      "\r",
      " 26% 61/236 [04:53<13:19,  4.57s/it]"
     ]
    },
    {
     "name": "stdout",
     "output_type": "stream",
     "text": [
      "61\n"
     ]
    },
    {
     "name": "stderr",
     "output_type": "stream",
     "text": [
      "\r",
      " 26% 62/236 [04:56<12:39,  4.37s/it]"
     ]
    },
    {
     "name": "stdout",
     "output_type": "stream",
     "text": [
      "62\n"
     ]
    },
    {
     "name": "stderr",
     "output_type": "stream",
     "text": [
      "\r",
      " 27% 63/236 [05:01<13:08,  4.56s/it]"
     ]
    },
    {
     "name": "stdout",
     "output_type": "stream",
     "text": [
      "63\n"
     ]
    },
    {
     "name": "stderr",
     "output_type": "stream",
     "text": [
      "\r",
      " 27% 64/236 [05:07<13:33,  4.73s/it]"
     ]
    },
    {
     "name": "stdout",
     "output_type": "stream",
     "text": [
      "64\n"
     ]
    },
    {
     "name": "stderr",
     "output_type": "stream",
     "text": [
      "\r",
      " 28% 65/236 [05:11<12:50,  4.51s/it]"
     ]
    },
    {
     "name": "stdout",
     "output_type": "stream",
     "text": [
      "65\n"
     ]
    },
    {
     "name": "stderr",
     "output_type": "stream",
     "text": [
      "\r",
      " 28% 66/236 [05:17<14:34,  5.15s/it]"
     ]
    },
    {
     "name": "stdout",
     "output_type": "stream",
     "text": [
      "66\n"
     ]
    },
    {
     "name": "stderr",
     "output_type": "stream",
     "text": [
      "\r",
      " 28% 67/236 [05:22<14:05,  5.00s/it]"
     ]
    },
    {
     "name": "stdout",
     "output_type": "stream",
     "text": [
      "67\n"
     ]
    },
    {
     "name": "stderr",
     "output_type": "stream",
     "text": [
      "\r",
      " 29% 68/236 [05:25<12:45,  4.56s/it]"
     ]
    },
    {
     "name": "stdout",
     "output_type": "stream",
     "text": [
      "68\n"
     ]
    },
    {
     "name": "stderr",
     "output_type": "stream",
     "text": [
      "\r",
      " 29% 69/236 [05:31<13:22,  4.81s/it]"
     ]
    },
    {
     "name": "stdout",
     "output_type": "stream",
     "text": [
      "69\n"
     ]
    },
    {
     "name": "stderr",
     "output_type": "stream",
     "text": [
      "\r",
      " 30% 70/236 [05:34<12:15,  4.43s/it]"
     ]
    },
    {
     "name": "stdout",
     "output_type": "stream",
     "text": [
      "70\n"
     ]
    },
    {
     "name": "stderr",
     "output_type": "stream",
     "text": [
      "\r",
      " 30% 71/236 [05:37<10:58,  3.99s/it]"
     ]
    },
    {
     "name": "stdout",
     "output_type": "stream",
     "text": [
      "71\n"
     ]
    },
    {
     "name": "stderr",
     "output_type": "stream",
     "text": [
      "\r",
      " 31% 72/236 [05:42<11:14,  4.12s/it]"
     ]
    },
    {
     "name": "stdout",
     "output_type": "stream",
     "text": [
      "72\n"
     ]
    },
    {
     "name": "stderr",
     "output_type": "stream",
     "text": [
      "\r",
      " 31% 73/236 [05:47<12:03,  4.44s/it]"
     ]
    },
    {
     "name": "stdout",
     "output_type": "stream",
     "text": [
      "73\n"
     ]
    },
    {
     "name": "stderr",
     "output_type": "stream",
     "text": [
      "\r",
      " 31% 74/236 [05:51<11:43,  4.34s/it]"
     ]
    },
    {
     "name": "stdout",
     "output_type": "stream",
     "text": [
      "74\n"
     ]
    },
    {
     "name": "stderr",
     "output_type": "stream",
     "text": [
      "\r",
      " 32% 75/236 [05:54<10:18,  3.84s/it]"
     ]
    },
    {
     "name": "stdout",
     "output_type": "stream",
     "text": [
      "75\n"
     ]
    },
    {
     "name": "stderr",
     "output_type": "stream",
     "text": [
      "\r",
      " 32% 76/236 [05:59<11:15,  4.22s/it]"
     ]
    },
    {
     "name": "stdout",
     "output_type": "stream",
     "text": [
      "76\n"
     ]
    },
    {
     "name": "stderr",
     "output_type": "stream",
     "text": [
      "\r",
      " 33% 77/236 [06:03<11:21,  4.28s/it]"
     ]
    },
    {
     "name": "stdout",
     "output_type": "stream",
     "text": [
      "77\n"
     ]
    },
    {
     "name": "stderr",
     "output_type": "stream",
     "text": [
      "\r",
      " 33% 78/236 [06:08<11:26,  4.34s/it]"
     ]
    },
    {
     "name": "stdout",
     "output_type": "stream",
     "text": [
      "78\n"
     ]
    },
    {
     "name": "stderr",
     "output_type": "stream",
     "text": [
      "\r",
      " 33% 79/236 [06:12<11:34,  4.42s/it]"
     ]
    },
    {
     "name": "stdout",
     "output_type": "stream",
     "text": [
      "79\n"
     ]
    },
    {
     "name": "stderr",
     "output_type": "stream",
     "text": [
      "\r",
      " 34% 80/236 [06:17<11:33,  4.45s/it]"
     ]
    },
    {
     "name": "stdout",
     "output_type": "stream",
     "text": [
      "80\n"
     ]
    },
    {
     "name": "stderr",
     "output_type": "stream",
     "text": [
      "\r",
      " 34% 81/236 [06:22<11:41,  4.53s/it]"
     ]
    },
    {
     "name": "stdout",
     "output_type": "stream",
     "text": [
      "81\n"
     ]
    },
    {
     "name": "stderr",
     "output_type": "stream",
     "text": [
      "\r",
      " 35% 82/236 [06:26<11:36,  4.52s/it]"
     ]
    },
    {
     "name": "stdout",
     "output_type": "stream",
     "text": [
      "82\n"
     ]
    },
    {
     "name": "stderr",
     "output_type": "stream",
     "text": [
      "\r",
      " 35% 83/236 [06:31<11:59,  4.70s/it]"
     ]
    },
    {
     "name": "stdout",
     "output_type": "stream",
     "text": [
      "83\n"
     ]
    },
    {
     "name": "stderr",
     "output_type": "stream",
     "text": [
      "\r",
      " 36% 84/236 [06:37<13:00,  5.13s/it]"
     ]
    },
    {
     "name": "stdout",
     "output_type": "stream",
     "text": [
      "84\n"
     ]
    },
    {
     "name": "stderr",
     "output_type": "stream",
     "text": [
      "\r",
      " 36% 85/236 [06:44<14:22,  5.71s/it]"
     ]
    },
    {
     "name": "stdout",
     "output_type": "stream",
     "text": [
      "85\n"
     ]
    },
    {
     "name": "stderr",
     "output_type": "stream",
     "text": [
      "\r",
      " 36% 86/236 [06:50<13:53,  5.55s/it]"
     ]
    },
    {
     "name": "stdout",
     "output_type": "stream",
     "text": [
      "86\n"
     ]
    },
    {
     "name": "stderr",
     "output_type": "stream",
     "text": [
      "\r",
      " 37% 87/236 [06:55<13:40,  5.51s/it]"
     ]
    },
    {
     "name": "stdout",
     "output_type": "stream",
     "text": [
      "87\n"
     ]
    },
    {
     "name": "stderr",
     "output_type": "stream",
     "text": [
      "\r",
      " 37% 88/236 [07:00<13:07,  5.32s/it]"
     ]
    },
    {
     "name": "stdout",
     "output_type": "stream",
     "text": [
      "88\n"
     ]
    },
    {
     "name": "stderr",
     "output_type": "stream",
     "text": [
      "\r",
      " 38% 89/236 [07:06<13:27,  5.50s/it]"
     ]
    },
    {
     "name": "stdout",
     "output_type": "stream",
     "text": [
      "89\n"
     ]
    },
    {
     "name": "stderr",
     "output_type": "stream",
     "text": [
      "\r",
      " 38% 90/236 [07:10<12:36,  5.18s/it]"
     ]
    },
    {
     "name": "stdout",
     "output_type": "stream",
     "text": [
      "90\n"
     ]
    },
    {
     "name": "stderr",
     "output_type": "stream",
     "text": [
      "\r",
      " 39% 91/236 [07:14<11:31,  4.77s/it]"
     ]
    },
    {
     "name": "stdout",
     "output_type": "stream",
     "text": [
      "91\n"
     ]
    },
    {
     "name": "stderr",
     "output_type": "stream",
     "text": [
      "\r",
      " 39% 92/236 [07:19<11:16,  4.70s/it]"
     ]
    },
    {
     "name": "stdout",
     "output_type": "stream",
     "text": [
      "92\n"
     ]
    },
    {
     "name": "stderr",
     "output_type": "stream",
     "text": [
      "\r",
      " 39% 93/236 [07:22<10:26,  4.38s/it]"
     ]
    },
    {
     "name": "stdout",
     "output_type": "stream",
     "text": [
      "93\n"
     ]
    },
    {
     "name": "stderr",
     "output_type": "stream",
     "text": [
      "\r",
      " 40% 94/236 [07:26<09:48,  4.14s/it]"
     ]
    },
    {
     "name": "stdout",
     "output_type": "stream",
     "text": [
      "94\n"
     ]
    },
    {
     "name": "stderr",
     "output_type": "stream",
     "text": [
      "\r",
      " 40% 95/236 [07:33<11:34,  4.93s/it]"
     ]
    },
    {
     "name": "stdout",
     "output_type": "stream",
     "text": [
      "95\n"
     ]
    },
    {
     "name": "stderr",
     "output_type": "stream",
     "text": [
      "\r",
      " 41% 96/236 [07:39<12:16,  5.26s/it]"
     ]
    },
    {
     "name": "stdout",
     "output_type": "stream",
     "text": [
      "96\n"
     ]
    },
    {
     "name": "stderr",
     "output_type": "stream",
     "text": [
      "\r",
      " 41% 97/236 [07:42<10:47,  4.66s/it]"
     ]
    },
    {
     "name": "stdout",
     "output_type": "stream",
     "text": [
      "97\n"
     ]
    },
    {
     "name": "stderr",
     "output_type": "stream",
     "text": [
      "\r",
      " 42% 98/236 [07:44<08:57,  3.90s/it]"
     ]
    },
    {
     "name": "stdout",
     "output_type": "stream",
     "text": [
      "98\n"
     ]
    },
    {
     "name": "stderr",
     "output_type": "stream",
     "text": [
      "\r",
      " 42% 99/236 [07:47<08:39,  3.79s/it]"
     ]
    },
    {
     "name": "stdout",
     "output_type": "stream",
     "text": [
      "99\n"
     ]
    },
    {
     "name": "stderr",
     "output_type": "stream",
     "text": [
      "\r",
      " 42% 100/236 [07:49<07:03,  3.11s/it]"
     ]
    },
    {
     "name": "stdout",
     "output_type": "stream",
     "text": [
      "100\n"
     ]
    },
    {
     "name": "stderr",
     "output_type": "stream",
     "text": [
      "\r",
      " 43% 101/236 [07:52<06:58,  3.10s/it]"
     ]
    },
    {
     "name": "stdout",
     "output_type": "stream",
     "text": [
      "101\n"
     ]
    },
    {
     "name": "stderr",
     "output_type": "stream",
     "text": [
      "\r",
      " 43% 102/236 [07:57<08:24,  3.77s/it]"
     ]
    },
    {
     "name": "stdout",
     "output_type": "stream",
     "text": [
      "102\n"
     ]
    },
    {
     "name": "stderr",
     "output_type": "stream",
     "text": [
      "\r",
      " 44% 103/236 [08:02<08:42,  3.93s/it]"
     ]
    },
    {
     "name": "stdout",
     "output_type": "stream",
     "text": [
      "103\n"
     ]
    },
    {
     "name": "stderr",
     "output_type": "stream",
     "text": [
      "\r",
      " 44% 104/236 [08:04<07:28,  3.40s/it]"
     ]
    },
    {
     "name": "stdout",
     "output_type": "stream",
     "text": [
      "104\n"
     ]
    },
    {
     "name": "stderr",
     "output_type": "stream",
     "text": [
      "\r",
      " 44% 105/236 [08:06<06:39,  3.05s/it]"
     ]
    },
    {
     "name": "stdout",
     "output_type": "stream",
     "text": [
      "105\n"
     ]
    },
    {
     "name": "stderr",
     "output_type": "stream",
     "text": [
      "\r",
      " 45% 106/236 [08:11<07:37,  3.52s/it]"
     ]
    },
    {
     "name": "stdout",
     "output_type": "stream",
     "text": [
      "106\n"
     ]
    },
    {
     "name": "stderr",
     "output_type": "stream",
     "text": [
      "\r",
      " 45% 107/236 [08:13<06:44,  3.14s/it]"
     ]
    },
    {
     "name": "stdout",
     "output_type": "stream",
     "text": [
      "107\n"
     ]
    },
    {
     "name": "stderr",
     "output_type": "stream",
     "text": [
      "\r",
      " 46% 108/236 [08:16<06:42,  3.15s/it]"
     ]
    },
    {
     "name": "stdout",
     "output_type": "stream",
     "text": [
      "108\n"
     ]
    },
    {
     "name": "stderr",
     "output_type": "stream",
     "text": [
      "\r",
      " 46% 109/236 [08:19<06:37,  3.13s/it]"
     ]
    },
    {
     "name": "stdout",
     "output_type": "stream",
     "text": [
      "109\n"
     ]
    },
    {
     "name": "stderr",
     "output_type": "stream",
     "text": [
      "\r",
      " 47% 110/236 [08:25<08:00,  3.82s/it]"
     ]
    },
    {
     "name": "stdout",
     "output_type": "stream",
     "text": [
      "110\n"
     ]
    },
    {
     "name": "stderr",
     "output_type": "stream",
     "text": [
      "\r",
      " 47% 111/236 [08:27<06:50,  3.29s/it]"
     ]
    },
    {
     "name": "stdout",
     "output_type": "stream",
     "text": [
      "111\n"
     ]
    },
    {
     "name": "stderr",
     "output_type": "stream",
     "text": [
      "\r",
      " 47% 112/236 [08:30<06:38,  3.21s/it]"
     ]
    },
    {
     "name": "stdout",
     "output_type": "stream",
     "text": [
      "112\n"
     ]
    },
    {
     "name": "stderr",
     "output_type": "stream",
     "text": [
      "\r",
      " 48% 113/236 [08:33<06:19,  3.09s/it]"
     ]
    },
    {
     "name": "stdout",
     "output_type": "stream",
     "text": [
      "113\n"
     ]
    },
    {
     "name": "stderr",
     "output_type": "stream",
     "text": [
      "\r",
      " 48% 114/236 [08:37<06:58,  3.43s/it]"
     ]
    },
    {
     "name": "stdout",
     "output_type": "stream",
     "text": [
      "114\n"
     ]
    },
    {
     "name": "stderr",
     "output_type": "stream",
     "text": [
      "\r",
      " 49% 115/236 [08:41<07:21,  3.65s/it]"
     ]
    },
    {
     "name": "stdout",
     "output_type": "stream",
     "text": [
      "115\n"
     ]
    },
    {
     "name": "stderr",
     "output_type": "stream",
     "text": [
      "\r",
      " 49% 116/236 [08:44<06:57,  3.48s/it]"
     ]
    },
    {
     "name": "stdout",
     "output_type": "stream",
     "text": [
      "116\n"
     ]
    },
    {
     "name": "stderr",
     "output_type": "stream",
     "text": [
      "\r",
      " 50% 117/236 [08:46<05:48,  2.93s/it]"
     ]
    },
    {
     "name": "stdout",
     "output_type": "stream",
     "text": [
      "117\n"
     ]
    },
    {
     "name": "stderr",
     "output_type": "stream",
     "text": [
      "\r",
      " 50% 118/236 [08:48<05:33,  2.82s/it]"
     ]
    },
    {
     "name": "stdout",
     "output_type": "stream",
     "text": [
      "118\n"
     ]
    },
    {
     "name": "stderr",
     "output_type": "stream",
     "text": [
      "\r",
      " 50% 119/236 [08:51<05:13,  2.68s/it]"
     ]
    },
    {
     "name": "stdout",
     "output_type": "stream",
     "text": [
      "119\n"
     ]
    },
    {
     "name": "stderr",
     "output_type": "stream",
     "text": [
      "\r",
      " 51% 120/236 [08:54<05:43,  2.96s/it]"
     ]
    },
    {
     "name": "stdout",
     "output_type": "stream",
     "text": [
      "120\n"
     ]
    },
    {
     "name": "stderr",
     "output_type": "stream",
     "text": [
      "\r",
      " 51% 121/236 [08:58<06:07,  3.20s/it]"
     ]
    },
    {
     "name": "stdout",
     "output_type": "stream",
     "text": [
      "121\n"
     ]
    },
    {
     "name": "stderr",
     "output_type": "stream",
     "text": [
      "\r",
      " 52% 122/236 [09:01<05:53,  3.10s/it]"
     ]
    },
    {
     "name": "stdout",
     "output_type": "stream",
     "text": [
      "122\n"
     ]
    },
    {
     "name": "stderr",
     "output_type": "stream",
     "text": [
      "\r",
      " 52% 123/236 [09:05<06:24,  3.40s/it]"
     ]
    },
    {
     "name": "stdout",
     "output_type": "stream",
     "text": [
      "123\n"
     ]
    },
    {
     "name": "stderr",
     "output_type": "stream",
     "text": [
      "\r",
      " 53% 124/236 [09:09<06:54,  3.70s/it]"
     ]
    },
    {
     "name": "stdout",
     "output_type": "stream",
     "text": [
      "124\n"
     ]
    },
    {
     "name": "stderr",
     "output_type": "stream",
     "text": [
      "\r",
      " 53% 125/236 [09:12<06:02,  3.26s/it]"
     ]
    },
    {
     "name": "stdout",
     "output_type": "stream",
     "text": [
      "125\n"
     ]
    },
    {
     "name": "stderr",
     "output_type": "stream",
     "text": [
      "\r",
      " 53% 126/236 [09:15<06:16,  3.42s/it]"
     ]
    },
    {
     "name": "stdout",
     "output_type": "stream",
     "text": [
      "126\n"
     ]
    },
    {
     "name": "stderr",
     "output_type": "stream",
     "text": [
      "\r",
      " 54% 127/236 [09:20<06:45,  3.72s/it]"
     ]
    },
    {
     "name": "stdout",
     "output_type": "stream",
     "text": [
      "127\n"
     ]
    },
    {
     "name": "stderr",
     "output_type": "stream",
     "text": [
      "\r",
      " 54% 128/236 [09:24<07:06,  3.95s/it]"
     ]
    },
    {
     "name": "stdout",
     "output_type": "stream",
     "text": [
      "128\n"
     ]
    },
    {
     "name": "stderr",
     "output_type": "stream",
     "text": [
      "\r",
      " 55% 129/236 [09:30<07:53,  4.43s/it]"
     ]
    },
    {
     "name": "stdout",
     "output_type": "stream",
     "text": [
      "129\n"
     ]
    },
    {
     "name": "stderr",
     "output_type": "stream",
     "text": [
      "\r",
      " 55% 130/236 [09:36<08:53,  5.03s/it]"
     ]
    },
    {
     "name": "stdout",
     "output_type": "stream",
     "text": [
      "130\n"
     ]
    },
    {
     "name": "stderr",
     "output_type": "stream",
     "text": [
      "\r",
      " 56% 131/236 [09:39<07:43,  4.41s/it]"
     ]
    },
    {
     "name": "stdout",
     "output_type": "stream",
     "text": [
      "131\n"
     ]
    },
    {
     "name": "stderr",
     "output_type": "stream",
     "text": [
      "\r",
      " 56% 132/236 [09:41<06:30,  3.76s/it]"
     ]
    },
    {
     "name": "stdout",
     "output_type": "stream",
     "text": [
      "132\n"
     ]
    },
    {
     "name": "stderr",
     "output_type": "stream",
     "text": [
      "\r",
      " 56% 133/236 [09:44<05:41,  3.31s/it]"
     ]
    },
    {
     "name": "stdout",
     "output_type": "stream",
     "text": [
      "133\n"
     ]
    },
    {
     "name": "stderr",
     "output_type": "stream",
     "text": [
      "\r",
      " 57% 134/236 [09:48<05:52,  3.46s/it]"
     ]
    },
    {
     "name": "stdout",
     "output_type": "stream",
     "text": [
      "134\n"
     ]
    },
    {
     "name": "stderr",
     "output_type": "stream",
     "text": [
      "\r",
      " 57% 135/236 [09:52<06:27,  3.83s/it]"
     ]
    },
    {
     "name": "stdout",
     "output_type": "stream",
     "text": [
      "135\n"
     ]
    },
    {
     "name": "stderr",
     "output_type": "stream",
     "text": [
      "\r",
      " 58% 136/236 [09:55<05:54,  3.54s/it]"
     ]
    },
    {
     "name": "stdout",
     "output_type": "stream",
     "text": [
      "136\n"
     ]
    },
    {
     "name": "stderr",
     "output_type": "stream",
     "text": [
      "\r",
      " 58% 137/236 [09:58<05:31,  3.34s/it]"
     ]
    },
    {
     "name": "stdout",
     "output_type": "stream",
     "text": [
      "137\n"
     ]
    },
    {
     "name": "stderr",
     "output_type": "stream",
     "text": [
      "\r",
      " 58% 138/236 [10:01<05:07,  3.14s/it]"
     ]
    },
    {
     "name": "stdout",
     "output_type": "stream",
     "text": [
      "138\n"
     ]
    },
    {
     "name": "stderr",
     "output_type": "stream",
     "text": [
      "\r",
      " 59% 139/236 [10:03<04:38,  2.88s/it]"
     ]
    },
    {
     "name": "stdout",
     "output_type": "stream",
     "text": [
      "139\n"
     ]
    },
    {
     "name": "stderr",
     "output_type": "stream",
     "text": [
      "\r",
      " 59% 140/236 [10:05<04:08,  2.59s/it]"
     ]
    },
    {
     "name": "stdout",
     "output_type": "stream",
     "text": [
      "140\n"
     ]
    },
    {
     "name": "stderr",
     "output_type": "stream",
     "text": [
      "\r",
      " 60% 141/236 [10:08<04:16,  2.70s/it]"
     ]
    },
    {
     "name": "stdout",
     "output_type": "stream",
     "text": [
      "141\n"
     ]
    },
    {
     "name": "stderr",
     "output_type": "stream",
     "text": [
      "\r",
      " 60% 142/236 [10:13<05:13,  3.34s/it]"
     ]
    },
    {
     "name": "stdout",
     "output_type": "stream",
     "text": [
      "142\n"
     ]
    },
    {
     "name": "stderr",
     "output_type": "stream",
     "text": [
      "\r",
      " 61% 143/236 [10:16<05:00,  3.24s/it]"
     ]
    },
    {
     "name": "stdout",
     "output_type": "stream",
     "text": [
      "143\n"
     ]
    },
    {
     "name": "stderr",
     "output_type": "stream",
     "text": [
      "\r",
      " 61% 144/236 [10:19<05:13,  3.41s/it]"
     ]
    },
    {
     "name": "stdout",
     "output_type": "stream",
     "text": [
      "144\n"
     ]
    },
    {
     "name": "stderr",
     "output_type": "stream",
     "text": [
      "\r",
      " 61% 145/236 [10:23<05:06,  3.37s/it]"
     ]
    },
    {
     "name": "stdout",
     "output_type": "stream",
     "text": [
      "145\n"
     ]
    },
    {
     "name": "stderr",
     "output_type": "stream",
     "text": [
      "\r",
      " 62% 146/236 [10:25<04:29,  2.99s/it]"
     ]
    },
    {
     "name": "stdout",
     "output_type": "stream",
     "text": [
      "146\n"
     ]
    },
    {
     "name": "stderr",
     "output_type": "stream",
     "text": [
      "\r",
      " 62% 147/236 [10:29<04:49,  3.26s/it]"
     ]
    },
    {
     "name": "stdout",
     "output_type": "stream",
     "text": [
      "147\n"
     ]
    },
    {
     "name": "stderr",
     "output_type": "stream",
     "text": [
      "\r",
      " 63% 148/236 [10:32<04:57,  3.38s/it]"
     ]
    },
    {
     "name": "stdout",
     "output_type": "stream",
     "text": [
      "148\n"
     ]
    },
    {
     "name": "stderr",
     "output_type": "stream",
     "text": [
      "\r",
      " 63% 149/236 [10:36<05:02,  3.48s/it]"
     ]
    },
    {
     "name": "stdout",
     "output_type": "stream",
     "text": [
      "149\n"
     ]
    },
    {
     "name": "stderr",
     "output_type": "stream",
     "text": [
      "\r",
      " 64% 150/236 [10:40<05:22,  3.76s/it]"
     ]
    },
    {
     "name": "stdout",
     "output_type": "stream",
     "text": [
      "150\n"
     ]
    },
    {
     "name": "stderr",
     "output_type": "stream",
     "text": [
      "\r",
      " 64% 151/236 [10:44<05:03,  3.57s/it]"
     ]
    },
    {
     "name": "stdout",
     "output_type": "stream",
     "text": [
      "151\n"
     ]
    },
    {
     "name": "stderr",
     "output_type": "stream",
     "text": [
      "\r",
      " 64% 152/236 [10:48<05:21,  3.83s/it]"
     ]
    },
    {
     "name": "stdout",
     "output_type": "stream",
     "text": [
      "152\n"
     ]
    },
    {
     "name": "stderr",
     "output_type": "stream",
     "text": [
      "\r",
      " 65% 153/236 [10:50<04:23,  3.17s/it]"
     ]
    },
    {
     "name": "stdout",
     "output_type": "stream",
     "text": [
      "153\n"
     ]
    },
    {
     "name": "stderr",
     "output_type": "stream",
     "text": [
      "\r",
      " 65% 154/236 [10:53<04:14,  3.10s/it]"
     ]
    },
    {
     "name": "stdout",
     "output_type": "stream",
     "text": [
      "154\n"
     ]
    },
    {
     "name": "stderr",
     "output_type": "stream",
     "text": [
      "\r",
      " 66% 155/236 [10:57<04:47,  3.54s/it]"
     ]
    },
    {
     "name": "stdout",
     "output_type": "stream",
     "text": [
      "155\n"
     ]
    },
    {
     "name": "stderr",
     "output_type": "stream",
     "text": [
      "\r",
      " 66% 156/236 [10:59<04:09,  3.12s/it]"
     ]
    },
    {
     "name": "stdout",
     "output_type": "stream",
     "text": [
      "156\n"
     ]
    },
    {
     "name": "stderr",
     "output_type": "stream",
     "text": [
      "\r",
      " 67% 157/236 [11:04<04:48,  3.65s/it]"
     ]
    },
    {
     "name": "stdout",
     "output_type": "stream",
     "text": [
      "157\n"
     ]
    },
    {
     "name": "stderr",
     "output_type": "stream",
     "text": [
      "\r",
      " 67% 158/236 [11:08<04:46,  3.68s/it]"
     ]
    },
    {
     "name": "stdout",
     "output_type": "stream",
     "text": [
      "158\n"
     ]
    },
    {
     "name": "stderr",
     "output_type": "stream",
     "text": [
      "\r",
      " 67% 159/236 [11:12<04:53,  3.81s/it]"
     ]
    },
    {
     "name": "stdout",
     "output_type": "stream",
     "text": [
      "159\n"
     ]
    },
    {
     "name": "stderr",
     "output_type": "stream",
     "text": [
      "\r",
      " 68% 160/236 [11:14<04:08,  3.27s/it]"
     ]
    },
    {
     "name": "stdout",
     "output_type": "stream",
     "text": [
      "160\n"
     ]
    },
    {
     "name": "stderr",
     "output_type": "stream",
     "text": [
      "\r",
      " 68% 161/236 [11:17<04:03,  3.24s/it]"
     ]
    },
    {
     "name": "stdout",
     "output_type": "stream",
     "text": [
      "161\n"
     ]
    },
    {
     "name": "stderr",
     "output_type": "stream",
     "text": [
      "\r",
      " 69% 162/236 [11:20<03:55,  3.18s/it]"
     ]
    },
    {
     "name": "stdout",
     "output_type": "stream",
     "text": [
      "162\n"
     ]
    },
    {
     "name": "stderr",
     "output_type": "stream",
     "text": [
      "\r",
      " 69% 163/236 [11:25<04:30,  3.70s/it]"
     ]
    },
    {
     "name": "stdout",
     "output_type": "stream",
     "text": [
      "163\n"
     ]
    },
    {
     "name": "stderr",
     "output_type": "stream",
     "text": [
      "\r",
      " 69% 164/236 [11:29<04:33,  3.80s/it]"
     ]
    },
    {
     "name": "stdout",
     "output_type": "stream",
     "text": [
      "164\n"
     ]
    },
    {
     "name": "stderr",
     "output_type": "stream",
     "text": [
      "\r",
      " 70% 165/236 [11:33<04:30,  3.82s/it]"
     ]
    },
    {
     "name": "stdout",
     "output_type": "stream",
     "text": [
      "165\n"
     ]
    },
    {
     "name": "stderr",
     "output_type": "stream",
     "text": [
      "\r",
      " 70% 166/236 [11:37<04:24,  3.78s/it]"
     ]
    },
    {
     "name": "stdout",
     "output_type": "stream",
     "text": [
      "166\n"
     ]
    },
    {
     "name": "stderr",
     "output_type": "stream",
     "text": [
      "\r",
      " 71% 167/236 [11:40<04:11,  3.65s/it]"
     ]
    },
    {
     "name": "stdout",
     "output_type": "stream",
     "text": [
      "167\n"
     ]
    },
    {
     "name": "stderr",
     "output_type": "stream",
     "text": [
      "\r",
      " 71% 168/236 [11:44<04:17,  3.79s/it]"
     ]
    },
    {
     "name": "stdout",
     "output_type": "stream",
     "text": [
      "168\n"
     ]
    },
    {
     "name": "stderr",
     "output_type": "stream",
     "text": [
      "\r",
      " 72% 169/236 [11:49<04:26,  3.97s/it]"
     ]
    },
    {
     "name": "stdout",
     "output_type": "stream",
     "text": [
      "169\n"
     ]
    },
    {
     "name": "stderr",
     "output_type": "stream",
     "text": [
      "\r",
      " 72% 170/236 [11:53<04:33,  4.14s/it]"
     ]
    },
    {
     "name": "stdout",
     "output_type": "stream",
     "text": [
      "170\n"
     ]
    },
    {
     "name": "stderr",
     "output_type": "stream",
     "text": [
      "\r",
      " 72% 171/236 [11:58<04:35,  4.24s/it]"
     ]
    },
    {
     "name": "stdout",
     "output_type": "stream",
     "text": [
      "171\n"
     ]
    },
    {
     "name": "stderr",
     "output_type": "stream",
     "text": [
      "\r",
      " 73% 172/236 [12:04<05:08,  4.81s/it]"
     ]
    },
    {
     "name": "stdout",
     "output_type": "stream",
     "text": [
      "172\n"
     ]
    },
    {
     "name": "stderr",
     "output_type": "stream",
     "text": [
      "\r",
      " 73% 173/236 [12:07<04:41,  4.48s/it]"
     ]
    },
    {
     "name": "stdout",
     "output_type": "stream",
     "text": [
      "173\n"
     ]
    },
    {
     "name": "stderr",
     "output_type": "stream",
     "text": [
      "\r",
      " 74% 174/236 [12:13<04:53,  4.73s/it]"
     ]
    },
    {
     "name": "stdout",
     "output_type": "stream",
     "text": [
      "174\n"
     ]
    },
    {
     "name": "stderr",
     "output_type": "stream",
     "text": [
      "\r",
      " 74% 175/236 [12:16<04:27,  4.39s/it]"
     ]
    },
    {
     "name": "stdout",
     "output_type": "stream",
     "text": [
      "175\n"
     ]
    },
    {
     "name": "stderr",
     "output_type": "stream",
     "text": [
      "\r",
      " 75% 176/236 [12:21<04:21,  4.36s/it]"
     ]
    },
    {
     "name": "stdout",
     "output_type": "stream",
     "text": [
      "176\n"
     ]
    },
    {
     "name": "stderr",
     "output_type": "stream",
     "text": [
      "\r",
      " 75% 177/236 [12:24<04:05,  4.16s/it]"
     ]
    },
    {
     "name": "stdout",
     "output_type": "stream",
     "text": [
      "177\n"
     ]
    },
    {
     "name": "stderr",
     "output_type": "stream",
     "text": [
      "\r",
      " 75% 178/236 [12:30<04:19,  4.48s/it]"
     ]
    },
    {
     "name": "stdout",
     "output_type": "stream",
     "text": [
      "178\n"
     ]
    },
    {
     "name": "stderr",
     "output_type": "stream",
     "text": [
      "\r",
      " 76% 179/236 [12:34<04:17,  4.52s/it]"
     ]
    },
    {
     "name": "stdout",
     "output_type": "stream",
     "text": [
      "179\n"
     ]
    },
    {
     "name": "stderr",
     "output_type": "stream",
     "text": [
      "\r",
      " 76% 180/236 [12:38<04:04,  4.36s/it]"
     ]
    },
    {
     "name": "stdout",
     "output_type": "stream",
     "text": [
      "180\n"
     ]
    },
    {
     "name": "stderr",
     "output_type": "stream",
     "text": [
      "\r",
      " 77% 181/236 [12:41<03:33,  3.89s/it]"
     ]
    },
    {
     "name": "stdout",
     "output_type": "stream",
     "text": [
      "181\n"
     ]
    },
    {
     "name": "stderr",
     "output_type": "stream",
     "text": [
      "\r",
      " 77% 182/236 [12:44<03:10,  3.53s/it]"
     ]
    },
    {
     "name": "stdout",
     "output_type": "stream",
     "text": [
      "182\n"
     ]
    },
    {
     "name": "stderr",
     "output_type": "stream",
     "text": [
      "\r",
      " 78% 183/236 [12:49<03:31,  3.99s/it]"
     ]
    },
    {
     "name": "stdout",
     "output_type": "stream",
     "text": [
      "183\n"
     ]
    },
    {
     "name": "stderr",
     "output_type": "stream",
     "text": [
      "\r",
      " 78% 184/236 [12:53<03:36,  4.17s/it]"
     ]
    },
    {
     "name": "stdout",
     "output_type": "stream",
     "text": [
      "184\n"
     ]
    },
    {
     "name": "stderr",
     "output_type": "stream",
     "text": [
      "\r",
      " 78% 185/236 [12:59<03:49,  4.49s/it]"
     ]
    },
    {
     "name": "stdout",
     "output_type": "stream",
     "text": [
      "185\n"
     ]
    },
    {
     "name": "stderr",
     "output_type": "stream",
     "text": [
      "\r",
      " 79% 186/236 [13:02<03:27,  4.16s/it]"
     ]
    },
    {
     "name": "stdout",
     "output_type": "stream",
     "text": [
      "186\n"
     ]
    },
    {
     "name": "stderr",
     "output_type": "stream",
     "text": [
      "\r",
      " 79% 187/236 [13:06<03:16,  4.00s/it]"
     ]
    },
    {
     "name": "stdout",
     "output_type": "stream",
     "text": [
      "187\n"
     ]
    },
    {
     "name": "stderr",
     "output_type": "stream",
     "text": [
      "\r",
      " 80% 188/236 [13:09<03:02,  3.80s/it]"
     ]
    },
    {
     "name": "stdout",
     "output_type": "stream",
     "text": [
      "188\n"
     ]
    },
    {
     "name": "stderr",
     "output_type": "stream",
     "text": [
      "\r",
      " 80% 189/236 [13:15<03:34,  4.56s/it]"
     ]
    },
    {
     "name": "stdout",
     "output_type": "stream",
     "text": [
      "189\n"
     ]
    },
    {
     "name": "stderr",
     "output_type": "stream",
     "text": [
      "\r",
      " 81% 190/236 [13:21<03:41,  4.82s/it]"
     ]
    },
    {
     "name": "stdout",
     "output_type": "stream",
     "text": [
      "190\n"
     ]
    },
    {
     "name": "stderr",
     "output_type": "stream",
     "text": [
      "\r",
      " 81% 191/236 [13:28<04:10,  5.57s/it]"
     ]
    },
    {
     "name": "stdout",
     "output_type": "stream",
     "text": [
      "191\n"
     ]
    },
    {
     "name": "stderr",
     "output_type": "stream",
     "text": [
      "\r",
      " 81% 192/236 [13:34<04:06,  5.61s/it]"
     ]
    },
    {
     "name": "stdout",
     "output_type": "stream",
     "text": [
      "192\n"
     ]
    },
    {
     "name": "stderr",
     "output_type": "stream",
     "text": [
      "\r",
      " 82% 193/236 [13:37<03:36,  5.03s/it]"
     ]
    },
    {
     "name": "stdout",
     "output_type": "stream",
     "text": [
      "193\n"
     ]
    },
    {
     "name": "stderr",
     "output_type": "stream",
     "text": [
      "\r",
      " 82% 194/236 [13:42<03:20,  4.78s/it]"
     ]
    },
    {
     "name": "stdout",
     "output_type": "stream",
     "text": [
      "194\n"
     ]
    },
    {
     "name": "stderr",
     "output_type": "stream",
     "text": [
      "\r",
      " 83% 195/236 [13:46<03:16,  4.80s/it]"
     ]
    },
    {
     "name": "stdout",
     "output_type": "stream",
     "text": [
      "195\n"
     ]
    },
    {
     "name": "stderr",
     "output_type": "stream",
     "text": [
      "\r",
      " 83% 196/236 [13:52<03:23,  5.08s/it]"
     ]
    },
    {
     "name": "stdout",
     "output_type": "stream",
     "text": [
      "196\n"
     ]
    },
    {
     "name": "stderr",
     "output_type": "stream",
     "text": [
      "\r",
      " 83% 197/236 [13:58<03:29,  5.36s/it]"
     ]
    },
    {
     "name": "stdout",
     "output_type": "stream",
     "text": [
      "197\n"
     ]
    },
    {
     "name": "stderr",
     "output_type": "stream",
     "text": [
      "\r",
      " 84% 198/236 [14:05<03:44,  5.91s/it]"
     ]
    },
    {
     "name": "stdout",
     "output_type": "stream",
     "text": [
      "198\n"
     ]
    },
    {
     "name": "stderr",
     "output_type": "stream",
     "text": [
      "\r",
      " 84% 199/236 [14:11<03:31,  5.72s/it]"
     ]
    },
    {
     "name": "stdout",
     "output_type": "stream",
     "text": [
      "199\n"
     ]
    },
    {
     "name": "stderr",
     "output_type": "stream",
     "text": [
      "\r",
      " 85% 200/236 [14:15<03:11,  5.33s/it]"
     ]
    },
    {
     "name": "stdout",
     "output_type": "stream",
     "text": [
      "200\n"
     ]
    },
    {
     "name": "stderr",
     "output_type": "stream",
     "text": [
      "\r",
      " 85% 201/236 [14:18<02:41,  4.62s/it]"
     ]
    },
    {
     "name": "stdout",
     "output_type": "stream",
     "text": [
      "201\n"
     ]
    },
    {
     "name": "stderr",
     "output_type": "stream",
     "text": [
      "\r",
      " 86% 202/236 [14:22<02:28,  4.36s/it]"
     ]
    },
    {
     "name": "stdout",
     "output_type": "stream",
     "text": [
      "202\n"
     ]
    },
    {
     "name": "stderr",
     "output_type": "stream",
     "text": [
      "\r",
      " 86% 203/236 [14:30<03:02,  5.54s/it]"
     ]
    },
    {
     "name": "stdout",
     "output_type": "stream",
     "text": [
      "203\n"
     ]
    },
    {
     "name": "stderr",
     "output_type": "stream",
     "text": [
      "\r",
      " 86% 204/236 [14:35<02:52,  5.40s/it]"
     ]
    },
    {
     "name": "stdout",
     "output_type": "stream",
     "text": [
      "204\n"
     ]
    },
    {
     "name": "stderr",
     "output_type": "stream",
     "text": [
      "\r",
      " 87% 205/236 [14:39<02:36,  5.04s/it]"
     ]
    },
    {
     "name": "stdout",
     "output_type": "stream",
     "text": [
      "205\n"
     ]
    },
    {
     "name": "stderr",
     "output_type": "stream",
     "text": [
      "\r",
      " 87% 206/236 [14:43<02:18,  4.63s/it]"
     ]
    },
    {
     "name": "stdout",
     "output_type": "stream",
     "text": [
      "206\n"
     ]
    },
    {
     "name": "stderr",
     "output_type": "stream",
     "text": [
      "\r",
      " 88% 207/236 [14:49<02:24,  4.97s/it]"
     ]
    },
    {
     "name": "stdout",
     "output_type": "stream",
     "text": [
      "207\n"
     ]
    },
    {
     "name": "stderr",
     "output_type": "stream",
     "text": [
      "\r",
      " 88% 208/236 [14:54<02:23,  5.13s/it]"
     ]
    },
    {
     "name": "stdout",
     "output_type": "stream",
     "text": [
      "208\n"
     ]
    },
    {
     "name": "stderr",
     "output_type": "stream",
     "text": [
      "\r",
      " 89% 209/236 [14:59<02:11,  4.88s/it]"
     ]
    },
    {
     "name": "stdout",
     "output_type": "stream",
     "text": [
      "209\n"
     ]
    },
    {
     "name": "stderr",
     "output_type": "stream",
     "text": [
      "\r",
      " 89% 210/236 [15:05<02:18,  5.33s/it]"
     ]
    },
    {
     "name": "stdout",
     "output_type": "stream",
     "text": [
      "210\n"
     ]
    },
    {
     "name": "stderr",
     "output_type": "stream",
     "text": [
      "\r",
      " 89% 211/236 [15:12<02:29,  5.96s/it]"
     ]
    },
    {
     "name": "stdout",
     "output_type": "stream",
     "text": [
      "211\n"
     ]
    },
    {
     "name": "stderr",
     "output_type": "stream",
     "text": [
      "\r",
      " 90% 212/236 [15:20<02:36,  6.52s/it]"
     ]
    },
    {
     "name": "stdout",
     "output_type": "stream",
     "text": [
      "212\n"
     ]
    },
    {
     "name": "stderr",
     "output_type": "stream",
     "text": [
      "\r",
      " 90% 213/236 [15:23<02:07,  5.53s/it]"
     ]
    },
    {
     "name": "stdout",
     "output_type": "stream",
     "text": [
      "213\n"
     ]
    },
    {
     "name": "stderr",
     "output_type": "stream",
     "text": [
      "\r",
      " 91% 214/236 [15:28<01:54,  5.23s/it]"
     ]
    },
    {
     "name": "stdout",
     "output_type": "stream",
     "text": [
      "214\n"
     ]
    },
    {
     "name": "stderr",
     "output_type": "stream",
     "text": [
      "\r",
      " 91% 215/236 [15:32<01:44,  5.00s/it]"
     ]
    },
    {
     "name": "stdout",
     "output_type": "stream",
     "text": [
      "215\n"
     ]
    },
    {
     "name": "stderr",
     "output_type": "stream",
     "text": [
      "\r",
      " 92% 216/236 [15:37<01:36,  4.81s/it]"
     ]
    },
    {
     "name": "stdout",
     "output_type": "stream",
     "text": [
      "216\n"
     ]
    },
    {
     "name": "stderr",
     "output_type": "stream",
     "text": [
      "\r",
      " 92% 217/236 [15:41<01:30,  4.77s/it]"
     ]
    },
    {
     "name": "stdout",
     "output_type": "stream",
     "text": [
      "217\n"
     ]
    },
    {
     "name": "stderr",
     "output_type": "stream",
     "text": [
      "\r",
      " 92% 218/236 [15:48<01:33,  5.22s/it]"
     ]
    },
    {
     "name": "stdout",
     "output_type": "stream",
     "text": [
      "218\n"
     ]
    },
    {
     "name": "stderr",
     "output_type": "stream",
     "text": [
      "\r",
      " 93% 219/236 [15:52<01:25,  5.04s/it]"
     ]
    },
    {
     "name": "stdout",
     "output_type": "stream",
     "text": [
      "219\n"
     ]
    },
    {
     "name": "stderr",
     "output_type": "stream",
     "text": [
      "\r",
      " 93% 220/236 [15:56<01:13,  4.58s/it]"
     ]
    },
    {
     "name": "stdout",
     "output_type": "stream",
     "text": [
      "220\n"
     ]
    },
    {
     "name": "stderr",
     "output_type": "stream",
     "text": [
      "\r",
      " 94% 221/236 [16:02<01:17,  5.17s/it]"
     ]
    },
    {
     "name": "stdout",
     "output_type": "stream",
     "text": [
      "221\n"
     ]
    },
    {
     "name": "stderr",
     "output_type": "stream",
     "text": [
      "\r",
      " 94% 222/236 [16:08<01:13,  5.27s/it]"
     ]
    },
    {
     "name": "stdout",
     "output_type": "stream",
     "text": [
      "222\n"
     ]
    },
    {
     "name": "stderr",
     "output_type": "stream",
     "text": [
      "\r",
      " 94% 223/236 [16:14<01:09,  5.38s/it]"
     ]
    },
    {
     "name": "stdout",
     "output_type": "stream",
     "text": [
      "223\n"
     ]
    },
    {
     "name": "stderr",
     "output_type": "stream",
     "text": [
      "\r",
      " 95% 224/236 [16:19<01:06,  5.52s/it]"
     ]
    },
    {
     "name": "stdout",
     "output_type": "stream",
     "text": [
      "224\n"
     ]
    },
    {
     "name": "stderr",
     "output_type": "stream",
     "text": [
      "100% 236/236 [16:20<00:00,  4.16s/it]"
     ]
    },
    {
     "name": "stdout",
     "output_type": "stream",
     "text": [
      "225\n",
      "226\n",
      "227\n",
      "228\n",
      "229\n",
      "230\n",
      "231\n",
      "232\n",
      "233\n",
      "234\n",
      "235\n",
      "CPU times: user 45.5 s, sys: 2.56 s, total: 48 s\n",
      "Wall time: 16min 20s\n"
     ]
    },
    {
     "name": "stderr",
     "output_type": "stream",
     "text": [
      "\n"
     ]
    },
    {
     "data": {
      "text/html": [
       "<div>\n",
       "<style scoped>\n",
       "    .dataframe tbody tr th:only-of-type {\n",
       "        vertical-align: middle;\n",
       "    }\n",
       "\n",
       "    .dataframe tbody tr th {\n",
       "        vertical-align: top;\n",
       "    }\n",
       "\n",
       "    .dataframe thead th {\n",
       "        text-align: right;\n",
       "    }\n",
       "</style>\n",
       "<table border=\"1\" class=\"dataframe\">\n",
       "  <thead>\n",
       "    <tr style=\"text-align: right;\">\n",
       "      <th></th>\n",
       "      <th>date</th>\n",
       "      <th>timestamp</th>\n",
       "      <th>price</th>\n",
       "      <th>target</th>\n",
       "      <th>BITCOIN_NE.text_COUNT_last1days</th>\n",
       "      <th>BITCOIN_NE.text_last1days</th>\n",
       "      <th>COINJOURNA.text_last1days</th>\n",
       "      <th>COINJOURNA.text_COUNT_last1days</th>\n",
       "      <th>BTC_FEARGR.bitcoin_search_last1days</th>\n",
       "      <th>FOX_NEWS_B.title_COUNT_last1days</th>\n",
       "      <th>...</th>\n",
       "      <th>CRYPTOCURR.text_last1days_v2</th>\n",
       "      <th>CRYPTOCURR.text_COUNT_last1days_v1</th>\n",
       "      <th>CRYPTOCURR.text_COUNT_last1days_v2</th>\n",
       "      <th>count_sum</th>\n",
       "      <th>text_full</th>\n",
       "      <th>res_pos</th>\n",
       "      <th>res_neg</th>\n",
       "      <th>res_neu</th>\n",
       "      <th>res_pos_count</th>\n",
       "      <th>res_neg_count</th>\n",
       "    </tr>\n",
       "  </thead>\n",
       "  <tbody>\n",
       "    <tr>\n",
       "      <th>0</th>\n",
       "      <td>01-01-2020 17:00:00</td>\n",
       "      <td>1.577898e+09</td>\n",
       "      <td>7212.7</td>\n",
       "      <td>1</td>\n",
       "      <td>3</td>\n",
       "      <td>[etoro ceo yoni assia on reaching 12 million u...</td>\n",
       "      <td>[]</td>\n",
       "      <td>0</td>\n",
       "      <td>14</td>\n",
       "      <td>84</td>\n",
       "      <td>...</td>\n",
       "      <td>[line79, youtube13eamt4 indicator fx ]</td>\n",
       "      <td>1</td>\n",
       "      <td>2</td>\n",
       "      <td>163</td>\n",
       "      <td>[etoro ceo yoni assia on reaching 12 million u...</td>\n",
       "      <td>0.343571</td>\n",
       "      <td>0.631427</td>\n",
       "      <td>2.025002</td>\n",
       "      <td>2.0</td>\n",
       "      <td>1.0</td>\n",
       "    </tr>\n",
       "    <tr>\n",
       "      <th>1</th>\n",
       "      <td>02-01-2020 17:00:00</td>\n",
       "      <td>1.577984e+09</td>\n",
       "      <td>6989.4</td>\n",
       "      <td>0</td>\n",
       "      <td>7</td>\n",
       "      <td>[government confirms crypto profits not taxabl...</td>\n",
       "      <td>[]</td>\n",
       "      <td>0</td>\n",
       "      <td>14</td>\n",
       "      <td>76</td>\n",
       "      <td>...</td>\n",
       "      <td>[23mt4 ea  fx  , line81, line82, 24mt4 ea  fx ...</td>\n",
       "      <td>0</td>\n",
       "      <td>5</td>\n",
       "      <td>162</td>\n",
       "      <td>[government confirms crypto profits not taxabl...</td>\n",
       "      <td>1.525628</td>\n",
       "      <td>2.151473</td>\n",
       "      <td>3.322899</td>\n",
       "      <td>2.0</td>\n",
       "      <td>5.0</td>\n",
       "    </tr>\n",
       "    <tr>\n",
       "      <th>2</th>\n",
       "      <td>03-01-2020 17:00:00</td>\n",
       "      <td>1.578071e+09</td>\n",
       "      <td>7367.5</td>\n",
       "      <td>1</td>\n",
       "      <td>8</td>\n",
       "      <td>[ticker tool uses the bch blockchain to provid...</td>\n",
       "      <td>[]</td>\n",
       "      <td>0</td>\n",
       "      <td>14</td>\n",
       "      <td>160</td>\n",
       "      <td>...</td>\n",
       "      <td>[youtube14eamt4 indicator fx , line83]</td>\n",
       "      <td>2</td>\n",
       "      <td>2</td>\n",
       "      <td>278</td>\n",
       "      <td>[ticker tool uses the bch blockchain to provid...</td>\n",
       "      <td>0.790071</td>\n",
       "      <td>0.639061</td>\n",
       "      <td>6.570868</td>\n",
       "      <td>5.0</td>\n",
       "      <td>3.0</td>\n",
       "    </tr>\n",
       "    <tr>\n",
       "      <th>3</th>\n",
       "      <td>04-01-2020 17:00:00</td>\n",
       "      <td>1.578157e+09</td>\n",
       "      <td>7369.8</td>\n",
       "      <td>0</td>\n",
       "      <td>6</td>\n",
       "      <td>[crypto fundraising is changing again in 2020 ...</td>\n",
       "      <td>[]</td>\n",
       "      <td>0</td>\n",
       "      <td>14</td>\n",
       "      <td>92</td>\n",
       "      <td>...</td>\n",
       "      <td>[mt4  fx , 19ea, line85, line87, youtube17mt4 ...</td>\n",
       "      <td>1</td>\n",
       "      <td>7</td>\n",
       "      <td>169</td>\n",
       "      <td>[crypto fundraising is changing again in 2020 ...</td>\n",
       "      <td>1.064533</td>\n",
       "      <td>1.109780</td>\n",
       "      <td>3.825687</td>\n",
       "      <td>5.0</td>\n",
       "      <td>1.0</td>\n",
       "    </tr>\n",
       "    <tr>\n",
       "      <th>4</th>\n",
       "      <td>05-01-2020 17:00:00</td>\n",
       "      <td>1.578244e+09</td>\n",
       "      <td>7364.6</td>\n",
       "      <td>0</td>\n",
       "      <td>5</td>\n",
       "      <td>[subhash chandra garg on the future of crypto ...</td>\n",
       "      <td>[]</td>\n",
       "      <td>0</td>\n",
       "      <td>14</td>\n",
       "      <td>35</td>\n",
       "      <td>...</td>\n",
       "      <td>[, line93, macdmt4 fx , line91]</td>\n",
       "      <td>1</td>\n",
       "      <td>4</td>\n",
       "      <td>86</td>\n",
       "      <td>[subhash chandra garg on the future of crypto ...</td>\n",
       "      <td>1.266352</td>\n",
       "      <td>0.183858</td>\n",
       "      <td>3.549790</td>\n",
       "      <td>4.0</td>\n",
       "      <td>1.0</td>\n",
       "    </tr>\n",
       "    <tr>\n",
       "      <th>...</th>\n",
       "      <td>...</td>\n",
       "      <td>...</td>\n",
       "      <td>...</td>\n",
       "      <td>...</td>\n",
       "      <td>...</td>\n",
       "      <td>...</td>\n",
       "      <td>...</td>\n",
       "      <td>...</td>\n",
       "      <td>...</td>\n",
       "      <td>...</td>\n",
       "      <td>...</td>\n",
       "      <td>...</td>\n",
       "      <td>...</td>\n",
       "      <td>...</td>\n",
       "      <td>...</td>\n",
       "      <td>...</td>\n",
       "      <td>...</td>\n",
       "      <td>...</td>\n",
       "      <td>...</td>\n",
       "      <td>...</td>\n",
       "      <td>...</td>\n",
       "    </tr>\n",
       "    <tr>\n",
       "      <th>231</th>\n",
       "      <td>23-08-2020 17:00:00</td>\n",
       "      <td>1.598202e+09</td>\n",
       "      <td>11663.0</td>\n",
       "      <td>0</td>\n",
       "      <td>0</td>\n",
       "      <td>[]</td>\n",
       "      <td>[]</td>\n",
       "      <td>0</td>\n",
       "      <td>14</td>\n",
       "      <td>0</td>\n",
       "      <td>...</td>\n",
       "      <td>[]</td>\n",
       "      <td>1</td>\n",
       "      <td>0</td>\n",
       "      <td>15</td>\n",
       "      <td>[you gotta have some fortitude to handle the s...</td>\n",
       "      <td>0.000000</td>\n",
       "      <td>0.000000</td>\n",
       "      <td>0.000000</td>\n",
       "      <td>0.0</td>\n",
       "      <td>0.0</td>\n",
       "    </tr>\n",
       "    <tr>\n",
       "      <th>232</th>\n",
       "      <td>25-08-2020 17:00:00</td>\n",
       "      <td>1.598375e+09</td>\n",
       "      <td>11341.0</td>\n",
       "      <td>0</td>\n",
       "      <td>0</td>\n",
       "      <td>[]</td>\n",
       "      <td>[xrps active wallets hit 7day high despite 92 ...</td>\n",
       "      <td>1</td>\n",
       "      <td>15</td>\n",
       "      <td>0</td>\n",
       "      <td>...</td>\n",
       "      <td>[]</td>\n",
       "      <td>0</td>\n",
       "      <td>0</td>\n",
       "      <td>16</td>\n",
       "      <td>[xrps active wallets hit 7day high despite 92 ...</td>\n",
       "      <td>0.000000</td>\n",
       "      <td>0.000000</td>\n",
       "      <td>0.000000</td>\n",
       "      <td>0.0</td>\n",
       "      <td>0.0</td>\n",
       "    </tr>\n",
       "    <tr>\n",
       "      <th>233</th>\n",
       "      <td>26-08-2020 17:00:00</td>\n",
       "      <td>1.598461e+09</td>\n",
       "      <td>11471.0</td>\n",
       "      <td>1</td>\n",
       "      <td>0</td>\n",
       "      <td>[]</td>\n",
       "      <td>[the irs is sending tax warning letters to cry...</td>\n",
       "      <td>3</td>\n",
       "      <td>15</td>\n",
       "      <td>16</td>\n",
       "      <td>...</td>\n",
       "      <td>[defi pieformance]</td>\n",
       "      <td>0</td>\n",
       "      <td>1</td>\n",
       "      <td>48</td>\n",
       "      <td>[defi pieformance, brother of suzanne morphew ...</td>\n",
       "      <td>0.000000</td>\n",
       "      <td>0.000000</td>\n",
       "      <td>0.000000</td>\n",
       "      <td>0.0</td>\n",
       "      <td>0.0</td>\n",
       "    </tr>\n",
       "    <tr>\n",
       "      <th>234</th>\n",
       "      <td>27-08-2020 17:00:00</td>\n",
       "      <td>1.598548e+09</td>\n",
       "      <td>11343.0</td>\n",
       "      <td>0</td>\n",
       "      <td>0</td>\n",
       "      <td>[]</td>\n",
       "      <td>[brazils central bank considering the developm...</td>\n",
       "      <td>4</td>\n",
       "      <td>15</td>\n",
       "      <td>0</td>\n",
       "      <td>...</td>\n",
       "      <td>[]</td>\n",
       "      <td>0</td>\n",
       "      <td>0</td>\n",
       "      <td>19</td>\n",
       "      <td>[brazils central bank considering the developm...</td>\n",
       "      <td>0.000000</td>\n",
       "      <td>0.000000</td>\n",
       "      <td>0.000000</td>\n",
       "      <td>0.0</td>\n",
       "      <td>0.0</td>\n",
       "    </tr>\n",
       "    <tr>\n",
       "      <th>235</th>\n",
       "      <td>28-08-2020 17:00:00</td>\n",
       "      <td>1.598634e+09</td>\n",
       "      <td>11545.0</td>\n",
       "      <td>1</td>\n",
       "      <td>0</td>\n",
       "      <td>[]</td>\n",
       "      <td>[polkadot (dot) hits major resistance after ra...</td>\n",
       "      <td>4</td>\n",
       "      <td>15</td>\n",
       "      <td>25</td>\n",
       "      <td>...</td>\n",
       "      <td>[band staking of huobi\\n\\n#band #huobi, band s...</td>\n",
       "      <td>0</td>\n",
       "      <td>4</td>\n",
       "      <td>69</td>\n",
       "      <td>[band staking of huobi\\n\\n#band #huobi, band s...</td>\n",
       "      <td>0.000000</td>\n",
       "      <td>0.000000</td>\n",
       "      <td>0.000000</td>\n",
       "      <td>0.0</td>\n",
       "      <td>0.0</td>\n",
       "    </tr>\n",
       "  </tbody>\n",
       "</table>\n",
       "<p>236 rows × 24 columns</p>\n",
       "</div>"
      ],
      "text/plain": [
       "                    date     timestamp    price  target  \\\n",
       "0    01-01-2020 17:00:00  1.577898e+09   7212.7       1   \n",
       "1    02-01-2020 17:00:00  1.577984e+09   6989.4       0   \n",
       "2    03-01-2020 17:00:00  1.578071e+09   7367.5       1   \n",
       "3    04-01-2020 17:00:00  1.578157e+09   7369.8       0   \n",
       "4    05-01-2020 17:00:00  1.578244e+09   7364.6       0   \n",
       "..                   ...           ...      ...     ...   \n",
       "231  23-08-2020 17:00:00  1.598202e+09  11663.0       0   \n",
       "232  25-08-2020 17:00:00  1.598375e+09  11341.0       0   \n",
       "233  26-08-2020 17:00:00  1.598461e+09  11471.0       1   \n",
       "234  27-08-2020 17:00:00  1.598548e+09  11343.0       0   \n",
       "235  28-08-2020 17:00:00  1.598634e+09  11545.0       1   \n",
       "\n",
       "     BITCOIN_NE.text_COUNT_last1days  \\\n",
       "0                                  3   \n",
       "1                                  7   \n",
       "2                                  8   \n",
       "3                                  6   \n",
       "4                                  5   \n",
       "..                               ...   \n",
       "231                                0   \n",
       "232                                0   \n",
       "233                                0   \n",
       "234                                0   \n",
       "235                                0   \n",
       "\n",
       "                             BITCOIN_NE.text_last1days  \\\n",
       "0    [etoro ceo yoni assia on reaching 12 million u...   \n",
       "1    [government confirms crypto profits not taxabl...   \n",
       "2    [ticker tool uses the bch blockchain to provid...   \n",
       "3    [crypto fundraising is changing again in 2020 ...   \n",
       "4    [subhash chandra garg on the future of crypto ...   \n",
       "..                                                 ...   \n",
       "231                                                 []   \n",
       "232                                                 []   \n",
       "233                                                 []   \n",
       "234                                                 []   \n",
       "235                                                 []   \n",
       "\n",
       "                             COINJOURNA.text_last1days  \\\n",
       "0                                                   []   \n",
       "1                                                   []   \n",
       "2                                                   []   \n",
       "3                                                   []   \n",
       "4                                                   []   \n",
       "..                                                 ...   \n",
       "231                                                 []   \n",
       "232  [xrps active wallets hit 7day high despite 92 ...   \n",
       "233  [the irs is sending tax warning letters to cry...   \n",
       "234  [brazils central bank considering the developm...   \n",
       "235  [polkadot (dot) hits major resistance after ra...   \n",
       "\n",
       "     COINJOURNA.text_COUNT_last1days  BTC_FEARGR.bitcoin_search_last1days  \\\n",
       "0                                  0                                   14   \n",
       "1                                  0                                   14   \n",
       "2                                  0                                   14   \n",
       "3                                  0                                   14   \n",
       "4                                  0                                   14   \n",
       "..                               ...                                  ...   \n",
       "231                                0                                   14   \n",
       "232                                1                                   15   \n",
       "233                                3                                   15   \n",
       "234                                4                                   15   \n",
       "235                                4                                   15   \n",
       "\n",
       "     FOX_NEWS_B.title_COUNT_last1days  ...  \\\n",
       "0                                  84  ...   \n",
       "1                                  76  ...   \n",
       "2                                 160  ...   \n",
       "3                                  92  ...   \n",
       "4                                  35  ...   \n",
       "..                                ...  ...   \n",
       "231                                 0  ...   \n",
       "232                                 0  ...   \n",
       "233                                16  ...   \n",
       "234                                 0  ...   \n",
       "235                                25  ...   \n",
       "\n",
       "                          CRYPTOCURR.text_last1days_v2  \\\n",
       "0               [line79, youtube13eamt4 indicator fx ]   \n",
       "1    [23mt4 ea  fx  , line81, line82, 24mt4 ea  fx ...   \n",
       "2               [youtube14eamt4 indicator fx , line83]   \n",
       "3    [mt4  fx , 19ea, line85, line87, youtube17mt4 ...   \n",
       "4                      [, line93, macdmt4 fx , line91]   \n",
       "..                                                 ...   \n",
       "231                                                 []   \n",
       "232                                                 []   \n",
       "233                                 [defi pieformance]   \n",
       "234                                                 []   \n",
       "235  [band staking of huobi\\n\\n#band #huobi, band s...   \n",
       "\n",
       "     CRYPTOCURR.text_COUNT_last1days_v1 CRYPTOCURR.text_COUNT_last1days_v2  \\\n",
       "0                                     1                                  2   \n",
       "1                                     0                                  5   \n",
       "2                                     2                                  2   \n",
       "3                                     1                                  7   \n",
       "4                                     1                                  4   \n",
       "..                                  ...                                ...   \n",
       "231                                   1                                  0   \n",
       "232                                   0                                  0   \n",
       "233                                   0                                  1   \n",
       "234                                   0                                  0   \n",
       "235                                   0                                  4   \n",
       "\n",
       "    count_sum                                          text_full   res_pos  \\\n",
       "0         163  [etoro ceo yoni assia on reaching 12 million u...  0.343571   \n",
       "1         162  [government confirms crypto profits not taxabl...  1.525628   \n",
       "2         278  [ticker tool uses the bch blockchain to provid...  0.790071   \n",
       "3         169  [crypto fundraising is changing again in 2020 ...  1.064533   \n",
       "4          86  [subhash chandra garg on the future of crypto ...  1.266352   \n",
       "..        ...                                                ...       ...   \n",
       "231        15  [you gotta have some fortitude to handle the s...  0.000000   \n",
       "232        16  [xrps active wallets hit 7day high despite 92 ...  0.000000   \n",
       "233        48  [defi pieformance, brother of suzanne morphew ...  0.000000   \n",
       "234        19  [brazils central bank considering the developm...  0.000000   \n",
       "235        69  [band staking of huobi\\n\\n#band #huobi, band s...  0.000000   \n",
       "\n",
       "      res_neg   res_neu res_pos_count  res_neg_count  \n",
       "0    0.631427  2.025002           2.0            1.0  \n",
       "1    2.151473  3.322899           2.0            5.0  \n",
       "2    0.639061  6.570868           5.0            3.0  \n",
       "3    1.109780  3.825687           5.0            1.0  \n",
       "4    0.183858  3.549790           4.0            1.0  \n",
       "..        ...       ...           ...            ...  \n",
       "231  0.000000  0.000000           0.0            0.0  \n",
       "232  0.000000  0.000000           0.0            0.0  \n",
       "233  0.000000  0.000000           0.0            0.0  \n",
       "234  0.000000  0.000000           0.0            0.0  \n",
       "235  0.000000  0.000000           0.0            0.0  \n",
       "\n",
       "[236 rows x 24 columns]"
      ]
     },
     "execution_count": 87,
     "metadata": {},
     "output_type": "execute_result"
    }
   ],
   "source": [
    "%%time\n",
    "from tqdm import tqdm\n",
    "\n",
    "df['res_pos_count'] = pd.Series()\n",
    "df['res_neg_count'] = pd.Series()\n",
    "# df['res_neu'] = pd.Series()\n",
    "for i in tqdm(range(236)):\n",
    "    print(i)\n",
    "    sub_df = df.loc[i, :]#['BITCOIN_NE.text_last1days']\n",
    "    text_length = len(sub_df['BITCOIN_NE.text_last1days'])\n",
    "    res_pos = 0\n",
    "    res_neg = 0\n",
    "#     res_neu = 0\n",
    "    for j in range(text_length):\n",
    "        try:\n",
    "            q = query(sub_df['BITCOIN_NE.text_last1days'][j])\n",
    "            current_res = q[0]\n",
    "            current_res_pos = current_res[0]['score']\n",
    "            current_res_neg = current_res[1]['score']\n",
    "#             current_res_neutral = current_res[2]['score']\n",
    "            # for counting\n",
    "            if current_res_pos>=current_res_neg:\n",
    "#                 if current_res_pos > current_res_neutral:\n",
    "                res_pos += 1\n",
    "#                 else:\n",
    "#                 res_neu += 1\n",
    "            else:\n",
    "#                 if current_res_neg > current_res_neutral:\n",
    "                res_neg += 1\n",
    "#                 else:\n",
    "#                 res_neu += 1\n",
    "        except Exception as e:\n",
    "            continue\n",
    "    df.loc[i, 'res_pos_count'] = res_pos\n",
    "    df.loc[i, 'res_neg_count'] = res_neg\n",
    "#     df.loc[i, 'res_neu'] = res_neu\n",
    "df"
   ]
  },
  {
   "cell_type": "code",
   "execution_count": 88,
   "id": "8fdfb157",
   "metadata": {},
   "outputs": [
    {
     "data": {
      "text/plain": [
       "target           1.000000\n",
       "res_pos_count   -0.019491\n",
       "res_neg_count   -0.014140\n",
       "Name: target, dtype: float64"
      ]
     },
     "execution_count": 88,
     "metadata": {},
     "output_type": "execute_result"
    }
   ],
   "source": [
    "features = ['target', 'res_pos_count', 'res_neg_count']\n",
    "df[features].dropna().corr()['target']"
   ]
  },
  {
   "cell_type": "code",
   "execution_count": 96,
   "id": "3be21d4a",
   "metadata": {},
   "outputs": [
    {
     "data": {
      "text/plain": [
       "target           1.000000\n",
       "res_pos_count    0.005539\n",
       "res_neg_count    0.015031\n",
       "Name: target, dtype: float64"
      ]
     },
     "execution_count": 96,
     "metadata": {},
     "output_type": "execute_result"
    }
   ],
   "source": [
    "df[features][(df['res_pos_count']!=0)&(df['res_neg_count']!=0)].corr()['target']"
   ]
  },
  {
   "cell_type": "markdown",
   "id": "d897e8ef",
   "metadata": {},
   "source": [
    "### full(уберу нейтральные ввиду того, что они не имеют смысла, как правило новость всё равно будет нейтральная)"
   ]
  },
  {
   "cell_type": "code",
   "execution_count": 97,
   "id": "2a47291b",
   "metadata": {},
   "outputs": [
    {
     "name": "stderr",
     "output_type": "stream",
     "text": [
      "<timed exec>:3: DeprecationWarning: The default dtype for empty Series will be 'object' instead of 'float64' in a future version. Specify a dtype explicitly to silence this warning.\n",
      "<timed exec>:4: DeprecationWarning: The default dtype for empty Series will be 'object' instead of 'float64' in a future version. Specify a dtype explicitly to silence this warning.\n",
      "<timed exec>:5: DeprecationWarning: The default dtype for empty Series will be 'object' instead of 'float64' in a future version. Specify a dtype explicitly to silence this warning.\n",
      "<timed exec>:6: DeprecationWarning: The default dtype for empty Series will be 'object' instead of 'float64' in a future version. Specify a dtype explicitly to silence this warning.\n",
      "  0% 0/236 [00:00<?, ?it/s]"
     ]
    },
    {
     "name": "stdout",
     "output_type": "stream",
     "text": [
      "0\n"
     ]
    },
    {
     "name": "stderr",
     "output_type": "stream",
     "text": [
      "\r",
      "  0% 1/236 [01:54<7:29:35, 114.79s/it]"
     ]
    },
    {
     "name": "stdout",
     "output_type": "stream",
     "text": [
      "1\n"
     ]
    },
    {
     "name": "stderr",
     "output_type": "stream",
     "text": [
      "\r",
      "  1% 2/236 [03:40<7:05:53, 109.20s/it]"
     ]
    },
    {
     "name": "stdout",
     "output_type": "stream",
     "text": [
      "2\n"
     ]
    },
    {
     "name": "stderr",
     "output_type": "stream",
     "text": [
      "\r",
      "  1% 3/236 [06:56<9:38:22, 148.94s/it]"
     ]
    },
    {
     "name": "stdout",
     "output_type": "stream",
     "text": [
      "3\n"
     ]
    },
    {
     "name": "stderr",
     "output_type": "stream",
     "text": [
      "\r",
      "  2% 4/236 [08:50<8:43:36, 135.42s/it]"
     ]
    },
    {
     "name": "stdout",
     "output_type": "stream",
     "text": [
      "4\n"
     ]
    },
    {
     "name": "stderr",
     "output_type": "stream",
     "text": [
      "\r",
      "  2% 5/236 [09:44<6:47:08, 105.75s/it]"
     ]
    },
    {
     "name": "stdout",
     "output_type": "stream",
     "text": [
      "5\n"
     ]
    },
    {
     "name": "stderr",
     "output_type": "stream",
     "text": [
      "\r",
      "  3% 6/236 [11:42<7:01:17, 109.90s/it]"
     ]
    },
    {
     "name": "stdout",
     "output_type": "stream",
     "text": [
      "6\n"
     ]
    },
    {
     "name": "stderr",
     "output_type": "stream",
     "text": [
      "\r",
      "  3% 7/236 [14:55<8:44:15, 137.36s/it]"
     ]
    },
    {
     "name": "stdout",
     "output_type": "stream",
     "text": [
      "7\n"
     ]
    },
    {
     "name": "stderr",
     "output_type": "stream",
     "text": [
      "\r",
      "  3% 8/236 [18:34<10:20:36, 163.32s/it]"
     ]
    },
    {
     "name": "stdout",
     "output_type": "stream",
     "text": [
      "8\n"
     ]
    },
    {
     "name": "stderr",
     "output_type": "stream",
     "text": [
      "\r",
      "  4% 9/236 [22:41<11:56:21, 189.35s/it]"
     ]
    },
    {
     "name": "stdout",
     "output_type": "stream",
     "text": [
      "9\n"
     ]
    },
    {
     "name": "stderr",
     "output_type": "stream",
     "text": [
      "\r",
      "  4% 10/236 [26:18<12:24:52, 197.75s/it]"
     ]
    },
    {
     "name": "stdout",
     "output_type": "stream",
     "text": [
      "10\n"
     ]
    },
    {
     "name": "stderr",
     "output_type": "stream",
     "text": [
      "  5% 11/236 [29:07<9:55:53, 158.90s/it] "
     ]
    },
    {
     "name": "stdout",
     "output_type": "stream",
     "text": [
      "11\n"
     ]
    },
    {
     "name": "stderr",
     "output_type": "stream",
     "text": [
      "\n"
     ]
    },
    {
     "ename": "KeyboardInterrupt",
     "evalue": "",
     "output_type": "error",
     "traceback": [
      "\u001b[0;31m---------------------------------------------------------------------------\u001b[0m",
      "\u001b[0;31mKeyboardInterrupt\u001b[0m                         Traceback (most recent call last)",
      "\u001b[0;32m<timed exec>\u001b[0m in \u001b[0;36m<module>\u001b[0;34m\u001b[0m\n",
      "\u001b[0;32m/tmp/ipykernel_827/2747390609.py\u001b[0m in \u001b[0;36mquery\u001b[0;34m(payload)\u001b[0m\n\u001b[1;32m      5\u001b[0m \u001b[0;34m\u001b[0m\u001b[0m\n\u001b[1;32m      6\u001b[0m \u001b[0;32mdef\u001b[0m \u001b[0mquery\u001b[0m\u001b[0;34m(\u001b[0m\u001b[0mpayload\u001b[0m\u001b[0;34m)\u001b[0m\u001b[0;34m:\u001b[0m\u001b[0;34m\u001b[0m\u001b[0;34m\u001b[0m\u001b[0m\n\u001b[0;32m----> 7\u001b[0;31m     \u001b[0mresponse\u001b[0m \u001b[0;34m=\u001b[0m \u001b[0mrequests\u001b[0m\u001b[0;34m.\u001b[0m\u001b[0mpost\u001b[0m\u001b[0;34m(\u001b[0m\u001b[0mAPI_URL\u001b[0m\u001b[0;34m,\u001b[0m \u001b[0mheaders\u001b[0m\u001b[0;34m=\u001b[0m\u001b[0mheaders\u001b[0m\u001b[0;34m,\u001b[0m \u001b[0mjson\u001b[0m\u001b[0;34m=\u001b[0m\u001b[0mpayload\u001b[0m\u001b[0;34m)\u001b[0m\u001b[0;34m\u001b[0m\u001b[0;34m\u001b[0m\u001b[0m\n\u001b[0m\u001b[1;32m      8\u001b[0m     \u001b[0;32mreturn\u001b[0m \u001b[0mresponse\u001b[0m\u001b[0;34m.\u001b[0m\u001b[0mjson\u001b[0m\u001b[0;34m(\u001b[0m\u001b[0;34m)\u001b[0m\u001b[0;34m\u001b[0m\u001b[0;34m\u001b[0m\u001b[0m\n\u001b[1;32m      9\u001b[0m \u001b[0;34m\u001b[0m\u001b[0m\n",
      "\u001b[0;32m/usr/local/lib/python3.9/site-packages/requests/api.py\u001b[0m in \u001b[0;36mpost\u001b[0;34m(url, data, json, **kwargs)\u001b[0m\n\u001b[1;32m    115\u001b[0m     \"\"\"\n\u001b[1;32m    116\u001b[0m \u001b[0;34m\u001b[0m\u001b[0m\n\u001b[0;32m--> 117\u001b[0;31m     \u001b[0;32mreturn\u001b[0m \u001b[0mrequest\u001b[0m\u001b[0;34m(\u001b[0m\u001b[0;34m'post'\u001b[0m\u001b[0;34m,\u001b[0m \u001b[0murl\u001b[0m\u001b[0;34m,\u001b[0m \u001b[0mdata\u001b[0m\u001b[0;34m=\u001b[0m\u001b[0mdata\u001b[0m\u001b[0;34m,\u001b[0m \u001b[0mjson\u001b[0m\u001b[0;34m=\u001b[0m\u001b[0mjson\u001b[0m\u001b[0;34m,\u001b[0m \u001b[0;34m**\u001b[0m\u001b[0mkwargs\u001b[0m\u001b[0;34m)\u001b[0m\u001b[0;34m\u001b[0m\u001b[0;34m\u001b[0m\u001b[0m\n\u001b[0m\u001b[1;32m    118\u001b[0m \u001b[0;34m\u001b[0m\u001b[0m\n\u001b[1;32m    119\u001b[0m \u001b[0;34m\u001b[0m\u001b[0m\n",
      "\u001b[0;32m/usr/local/lib/python3.9/site-packages/requests/api.py\u001b[0m in \u001b[0;36mrequest\u001b[0;34m(method, url, **kwargs)\u001b[0m\n\u001b[1;32m     59\u001b[0m     \u001b[0;31m# cases, and look like a memory leak in others.\u001b[0m\u001b[0;34m\u001b[0m\u001b[0;34m\u001b[0m\u001b[0m\n\u001b[1;32m     60\u001b[0m     \u001b[0;32mwith\u001b[0m \u001b[0msessions\u001b[0m\u001b[0;34m.\u001b[0m\u001b[0mSession\u001b[0m\u001b[0;34m(\u001b[0m\u001b[0;34m)\u001b[0m \u001b[0;32mas\u001b[0m \u001b[0msession\u001b[0m\u001b[0;34m:\u001b[0m\u001b[0;34m\u001b[0m\u001b[0;34m\u001b[0m\u001b[0m\n\u001b[0;32m---> 61\u001b[0;31m         \u001b[0;32mreturn\u001b[0m \u001b[0msession\u001b[0m\u001b[0;34m.\u001b[0m\u001b[0mrequest\u001b[0m\u001b[0;34m(\u001b[0m\u001b[0mmethod\u001b[0m\u001b[0;34m=\u001b[0m\u001b[0mmethod\u001b[0m\u001b[0;34m,\u001b[0m \u001b[0murl\u001b[0m\u001b[0;34m=\u001b[0m\u001b[0murl\u001b[0m\u001b[0;34m,\u001b[0m \u001b[0;34m**\u001b[0m\u001b[0mkwargs\u001b[0m\u001b[0;34m)\u001b[0m\u001b[0;34m\u001b[0m\u001b[0;34m\u001b[0m\u001b[0m\n\u001b[0m\u001b[1;32m     62\u001b[0m \u001b[0;34m\u001b[0m\u001b[0m\n\u001b[1;32m     63\u001b[0m \u001b[0;34m\u001b[0m\u001b[0m\n",
      "\u001b[0;32m/usr/local/lib/python3.9/site-packages/requests/sessions.py\u001b[0m in \u001b[0;36mrequest\u001b[0;34m(self, method, url, params, data, headers, cookies, files, auth, timeout, allow_redirects, proxies, hooks, stream, verify, cert, json)\u001b[0m\n\u001b[1;32m    540\u001b[0m         }\n\u001b[1;32m    541\u001b[0m         \u001b[0msend_kwargs\u001b[0m\u001b[0;34m.\u001b[0m\u001b[0mupdate\u001b[0m\u001b[0;34m(\u001b[0m\u001b[0msettings\u001b[0m\u001b[0;34m)\u001b[0m\u001b[0;34m\u001b[0m\u001b[0;34m\u001b[0m\u001b[0m\n\u001b[0;32m--> 542\u001b[0;31m         \u001b[0mresp\u001b[0m \u001b[0;34m=\u001b[0m \u001b[0mself\u001b[0m\u001b[0;34m.\u001b[0m\u001b[0msend\u001b[0m\u001b[0;34m(\u001b[0m\u001b[0mprep\u001b[0m\u001b[0;34m,\u001b[0m \u001b[0;34m**\u001b[0m\u001b[0msend_kwargs\u001b[0m\u001b[0;34m)\u001b[0m\u001b[0;34m\u001b[0m\u001b[0;34m\u001b[0m\u001b[0m\n\u001b[0m\u001b[1;32m    543\u001b[0m \u001b[0;34m\u001b[0m\u001b[0m\n\u001b[1;32m    544\u001b[0m         \u001b[0;32mreturn\u001b[0m \u001b[0mresp\u001b[0m\u001b[0;34m\u001b[0m\u001b[0;34m\u001b[0m\u001b[0m\n",
      "\u001b[0;32m/usr/local/lib/python3.9/site-packages/requests/sessions.py\u001b[0m in \u001b[0;36msend\u001b[0;34m(self, request, **kwargs)\u001b[0m\n\u001b[1;32m    653\u001b[0m \u001b[0;34m\u001b[0m\u001b[0m\n\u001b[1;32m    654\u001b[0m         \u001b[0;31m# Send the request\u001b[0m\u001b[0;34m\u001b[0m\u001b[0;34m\u001b[0m\u001b[0m\n\u001b[0;32m--> 655\u001b[0;31m         \u001b[0mr\u001b[0m \u001b[0;34m=\u001b[0m \u001b[0madapter\u001b[0m\u001b[0;34m.\u001b[0m\u001b[0msend\u001b[0m\u001b[0;34m(\u001b[0m\u001b[0mrequest\u001b[0m\u001b[0;34m,\u001b[0m \u001b[0;34m**\u001b[0m\u001b[0mkwargs\u001b[0m\u001b[0;34m)\u001b[0m\u001b[0;34m\u001b[0m\u001b[0;34m\u001b[0m\u001b[0m\n\u001b[0m\u001b[1;32m    656\u001b[0m \u001b[0;34m\u001b[0m\u001b[0m\n\u001b[1;32m    657\u001b[0m         \u001b[0;31m# Total elapsed time of the request (approximately)\u001b[0m\u001b[0;34m\u001b[0m\u001b[0;34m\u001b[0m\u001b[0m\n",
      "\u001b[0;32m/usr/local/lib/python3.9/site-packages/requests/adapters.py\u001b[0m in \u001b[0;36msend\u001b[0;34m(self, request, stream, timeout, verify, cert, proxies)\u001b[0m\n\u001b[1;32m    437\u001b[0m         \u001b[0;32mtry\u001b[0m\u001b[0;34m:\u001b[0m\u001b[0;34m\u001b[0m\u001b[0;34m\u001b[0m\u001b[0m\n\u001b[1;32m    438\u001b[0m             \u001b[0;32mif\u001b[0m \u001b[0;32mnot\u001b[0m \u001b[0mchunked\u001b[0m\u001b[0;34m:\u001b[0m\u001b[0;34m\u001b[0m\u001b[0;34m\u001b[0m\u001b[0m\n\u001b[0;32m--> 439\u001b[0;31m                 resp = conn.urlopen(\n\u001b[0m\u001b[1;32m    440\u001b[0m                     \u001b[0mmethod\u001b[0m\u001b[0;34m=\u001b[0m\u001b[0mrequest\u001b[0m\u001b[0;34m.\u001b[0m\u001b[0mmethod\u001b[0m\u001b[0;34m,\u001b[0m\u001b[0;34m\u001b[0m\u001b[0;34m\u001b[0m\u001b[0m\n\u001b[1;32m    441\u001b[0m                     \u001b[0murl\u001b[0m\u001b[0;34m=\u001b[0m\u001b[0murl\u001b[0m\u001b[0;34m,\u001b[0m\u001b[0;34m\u001b[0m\u001b[0;34m\u001b[0m\u001b[0m\n",
      "\u001b[0;32m/usr/local/lib/python3.9/site-packages/urllib3/connectionpool.py\u001b[0m in \u001b[0;36murlopen\u001b[0;34m(self, method, url, body, headers, retries, redirect, assert_same_host, timeout, pool_timeout, release_conn, chunked, body_pos, **response_kw)\u001b[0m\n\u001b[1;32m    697\u001b[0m \u001b[0;34m\u001b[0m\u001b[0m\n\u001b[1;32m    698\u001b[0m             \u001b[0;31m# Make the request on the httplib connection object.\u001b[0m\u001b[0;34m\u001b[0m\u001b[0;34m\u001b[0m\u001b[0m\n\u001b[0;32m--> 699\u001b[0;31m             httplib_response = self._make_request(\n\u001b[0m\u001b[1;32m    700\u001b[0m                 \u001b[0mconn\u001b[0m\u001b[0;34m,\u001b[0m\u001b[0;34m\u001b[0m\u001b[0;34m\u001b[0m\u001b[0m\n\u001b[1;32m    701\u001b[0m                 \u001b[0mmethod\u001b[0m\u001b[0;34m,\u001b[0m\u001b[0;34m\u001b[0m\u001b[0;34m\u001b[0m\u001b[0m\n",
      "\u001b[0;32m/usr/local/lib/python3.9/site-packages/urllib3/connectionpool.py\u001b[0m in \u001b[0;36m_make_request\u001b[0;34m(self, conn, method, url, timeout, chunked, **httplib_request_kw)\u001b[0m\n\u001b[1;32m    380\u001b[0m         \u001b[0;31m# Trigger any extra validation we need to do.\u001b[0m\u001b[0;34m\u001b[0m\u001b[0;34m\u001b[0m\u001b[0m\n\u001b[1;32m    381\u001b[0m         \u001b[0;32mtry\u001b[0m\u001b[0;34m:\u001b[0m\u001b[0;34m\u001b[0m\u001b[0;34m\u001b[0m\u001b[0m\n\u001b[0;32m--> 382\u001b[0;31m             \u001b[0mself\u001b[0m\u001b[0;34m.\u001b[0m\u001b[0m_validate_conn\u001b[0m\u001b[0;34m(\u001b[0m\u001b[0mconn\u001b[0m\u001b[0;34m)\u001b[0m\u001b[0;34m\u001b[0m\u001b[0;34m\u001b[0m\u001b[0m\n\u001b[0m\u001b[1;32m    383\u001b[0m         \u001b[0;32mexcept\u001b[0m \u001b[0;34m(\u001b[0m\u001b[0mSocketTimeout\u001b[0m\u001b[0;34m,\u001b[0m \u001b[0mBaseSSLError\u001b[0m\u001b[0;34m)\u001b[0m \u001b[0;32mas\u001b[0m \u001b[0me\u001b[0m\u001b[0;34m:\u001b[0m\u001b[0;34m\u001b[0m\u001b[0;34m\u001b[0m\u001b[0m\n\u001b[1;32m    384\u001b[0m             \u001b[0;31m# Py2 raises this as a BaseSSLError, Py3 raises it as socket timeout.\u001b[0m\u001b[0;34m\u001b[0m\u001b[0;34m\u001b[0m\u001b[0m\n",
      "\u001b[0;32m/usr/local/lib/python3.9/site-packages/urllib3/connectionpool.py\u001b[0m in \u001b[0;36m_validate_conn\u001b[0;34m(self, conn)\u001b[0m\n\u001b[1;32m   1008\u001b[0m         \u001b[0;31m# Force connect early to allow us to validate the connection.\u001b[0m\u001b[0;34m\u001b[0m\u001b[0;34m\u001b[0m\u001b[0m\n\u001b[1;32m   1009\u001b[0m         \u001b[0;32mif\u001b[0m \u001b[0;32mnot\u001b[0m \u001b[0mgetattr\u001b[0m\u001b[0;34m(\u001b[0m\u001b[0mconn\u001b[0m\u001b[0;34m,\u001b[0m \u001b[0;34m\"sock\"\u001b[0m\u001b[0;34m,\u001b[0m \u001b[0;32mNone\u001b[0m\u001b[0;34m)\u001b[0m\u001b[0;34m:\u001b[0m  \u001b[0;31m# AppEngine might not have  `.sock`\u001b[0m\u001b[0;34m\u001b[0m\u001b[0;34m\u001b[0m\u001b[0m\n\u001b[0;32m-> 1010\u001b[0;31m             \u001b[0mconn\u001b[0m\u001b[0;34m.\u001b[0m\u001b[0mconnect\u001b[0m\u001b[0;34m(\u001b[0m\u001b[0;34m)\u001b[0m\u001b[0;34m\u001b[0m\u001b[0;34m\u001b[0m\u001b[0m\n\u001b[0m\u001b[1;32m   1011\u001b[0m \u001b[0;34m\u001b[0m\u001b[0m\n\u001b[1;32m   1012\u001b[0m         \u001b[0;32mif\u001b[0m \u001b[0;32mnot\u001b[0m \u001b[0mconn\u001b[0m\u001b[0;34m.\u001b[0m\u001b[0mis_verified\u001b[0m\u001b[0;34m:\u001b[0m\u001b[0;34m\u001b[0m\u001b[0;34m\u001b[0m\u001b[0m\n",
      "\u001b[0;32m/usr/local/lib/python3.9/site-packages/urllib3/connection.py\u001b[0m in \u001b[0;36mconnect\u001b[0;34m(self)\u001b[0m\n\u001b[1;32m    414\u001b[0m             \u001b[0mcontext\u001b[0m\u001b[0;34m.\u001b[0m\u001b[0mload_default_certs\u001b[0m\u001b[0;34m(\u001b[0m\u001b[0;34m)\u001b[0m\u001b[0;34m\u001b[0m\u001b[0;34m\u001b[0m\u001b[0m\n\u001b[1;32m    415\u001b[0m \u001b[0;34m\u001b[0m\u001b[0m\n\u001b[0;32m--> 416\u001b[0;31m         self.sock = ssl_wrap_socket(\n\u001b[0m\u001b[1;32m    417\u001b[0m             \u001b[0msock\u001b[0m\u001b[0;34m=\u001b[0m\u001b[0mconn\u001b[0m\u001b[0;34m,\u001b[0m\u001b[0;34m\u001b[0m\u001b[0;34m\u001b[0m\u001b[0m\n\u001b[1;32m    418\u001b[0m             \u001b[0mkeyfile\u001b[0m\u001b[0;34m=\u001b[0m\u001b[0mself\u001b[0m\u001b[0;34m.\u001b[0m\u001b[0mkey_file\u001b[0m\u001b[0;34m,\u001b[0m\u001b[0;34m\u001b[0m\u001b[0;34m\u001b[0m\u001b[0m\n",
      "\u001b[0;32m/usr/local/lib/python3.9/site-packages/urllib3/util/ssl_.py\u001b[0m in \u001b[0;36mssl_wrap_socket\u001b[0;34m(sock, keyfile, certfile, cert_reqs, ca_certs, server_hostname, ssl_version, ciphers, ssl_context, ca_cert_dir, key_password, ca_cert_data, tls_in_tls)\u001b[0m\n\u001b[1;32m    447\u001b[0m \u001b[0;34m\u001b[0m\u001b[0m\n\u001b[1;32m    448\u001b[0m     \u001b[0;32mif\u001b[0m \u001b[0msend_sni\u001b[0m\u001b[0;34m:\u001b[0m\u001b[0;34m\u001b[0m\u001b[0;34m\u001b[0m\u001b[0m\n\u001b[0;32m--> 449\u001b[0;31m         ssl_sock = _ssl_wrap_socket_impl(\n\u001b[0m\u001b[1;32m    450\u001b[0m             \u001b[0msock\u001b[0m\u001b[0;34m,\u001b[0m \u001b[0mcontext\u001b[0m\u001b[0;34m,\u001b[0m \u001b[0mtls_in_tls\u001b[0m\u001b[0;34m,\u001b[0m \u001b[0mserver_hostname\u001b[0m\u001b[0;34m=\u001b[0m\u001b[0mserver_hostname\u001b[0m\u001b[0;34m\u001b[0m\u001b[0;34m\u001b[0m\u001b[0m\n\u001b[1;32m    451\u001b[0m         )\n",
      "\u001b[0;32m/usr/local/lib/python3.9/site-packages/urllib3/util/ssl_.py\u001b[0m in \u001b[0;36m_ssl_wrap_socket_impl\u001b[0;34m(sock, ssl_context, tls_in_tls, server_hostname)\u001b[0m\n\u001b[1;32m    491\u001b[0m \u001b[0;34m\u001b[0m\u001b[0m\n\u001b[1;32m    492\u001b[0m     \u001b[0;32mif\u001b[0m \u001b[0mserver_hostname\u001b[0m\u001b[0;34m:\u001b[0m\u001b[0;34m\u001b[0m\u001b[0;34m\u001b[0m\u001b[0m\n\u001b[0;32m--> 493\u001b[0;31m         \u001b[0;32mreturn\u001b[0m \u001b[0mssl_context\u001b[0m\u001b[0;34m.\u001b[0m\u001b[0mwrap_socket\u001b[0m\u001b[0;34m(\u001b[0m\u001b[0msock\u001b[0m\u001b[0;34m,\u001b[0m \u001b[0mserver_hostname\u001b[0m\u001b[0;34m=\u001b[0m\u001b[0mserver_hostname\u001b[0m\u001b[0;34m)\u001b[0m\u001b[0;34m\u001b[0m\u001b[0;34m\u001b[0m\u001b[0m\n\u001b[0m\u001b[1;32m    494\u001b[0m     \u001b[0;32melse\u001b[0m\u001b[0;34m:\u001b[0m\u001b[0;34m\u001b[0m\u001b[0;34m\u001b[0m\u001b[0m\n\u001b[1;32m    495\u001b[0m         \u001b[0;32mreturn\u001b[0m \u001b[0mssl_context\u001b[0m\u001b[0;34m.\u001b[0m\u001b[0mwrap_socket\u001b[0m\u001b[0;34m(\u001b[0m\u001b[0msock\u001b[0m\u001b[0;34m)\u001b[0m\u001b[0;34m\u001b[0m\u001b[0;34m\u001b[0m\u001b[0m\n",
      "\u001b[0;32m/usr/local/lib/python3.9/ssl.py\u001b[0m in \u001b[0;36mwrap_socket\u001b[0;34m(self, sock, server_side, do_handshake_on_connect, suppress_ragged_eofs, server_hostname, session)\u001b[0m\n\u001b[1;32m    498\u001b[0m         \u001b[0;31m# SSLSocket class handles server_hostname encoding before it calls\u001b[0m\u001b[0;34m\u001b[0m\u001b[0;34m\u001b[0m\u001b[0m\n\u001b[1;32m    499\u001b[0m         \u001b[0;31m# ctx._wrap_socket()\u001b[0m\u001b[0;34m\u001b[0m\u001b[0;34m\u001b[0m\u001b[0m\n\u001b[0;32m--> 500\u001b[0;31m         return self.sslsocket_class._create(\n\u001b[0m\u001b[1;32m    501\u001b[0m             \u001b[0msock\u001b[0m\u001b[0;34m=\u001b[0m\u001b[0msock\u001b[0m\u001b[0;34m,\u001b[0m\u001b[0;34m\u001b[0m\u001b[0;34m\u001b[0m\u001b[0m\n\u001b[1;32m    502\u001b[0m             \u001b[0mserver_side\u001b[0m\u001b[0;34m=\u001b[0m\u001b[0mserver_side\u001b[0m\u001b[0;34m,\u001b[0m\u001b[0;34m\u001b[0m\u001b[0;34m\u001b[0m\u001b[0m\n",
      "\u001b[0;32m/usr/local/lib/python3.9/ssl.py\u001b[0m in \u001b[0;36m_create\u001b[0;34m(cls, sock, server_side, do_handshake_on_connect, suppress_ragged_eofs, server_hostname, context, session)\u001b[0m\n\u001b[1;32m   1038\u001b[0m                         \u001b[0;31m# non-blocking\u001b[0m\u001b[0;34m\u001b[0m\u001b[0;34m\u001b[0m\u001b[0m\n\u001b[1;32m   1039\u001b[0m                         \u001b[0;32mraise\u001b[0m \u001b[0mValueError\u001b[0m\u001b[0;34m(\u001b[0m\u001b[0;34m\"do_handshake_on_connect should not be specified for non-blocking sockets\"\u001b[0m\u001b[0;34m)\u001b[0m\u001b[0;34m\u001b[0m\u001b[0;34m\u001b[0m\u001b[0m\n\u001b[0;32m-> 1040\u001b[0;31m                     \u001b[0mself\u001b[0m\u001b[0;34m.\u001b[0m\u001b[0mdo_handshake\u001b[0m\u001b[0;34m(\u001b[0m\u001b[0;34m)\u001b[0m\u001b[0;34m\u001b[0m\u001b[0;34m\u001b[0m\u001b[0m\n\u001b[0m\u001b[1;32m   1041\u001b[0m             \u001b[0;32mexcept\u001b[0m \u001b[0;34m(\u001b[0m\u001b[0mOSError\u001b[0m\u001b[0;34m,\u001b[0m \u001b[0mValueError\u001b[0m\u001b[0;34m)\u001b[0m\u001b[0;34m:\u001b[0m\u001b[0;34m\u001b[0m\u001b[0;34m\u001b[0m\u001b[0m\n\u001b[1;32m   1042\u001b[0m                 \u001b[0mself\u001b[0m\u001b[0;34m.\u001b[0m\u001b[0mclose\u001b[0m\u001b[0;34m(\u001b[0m\u001b[0;34m)\u001b[0m\u001b[0;34m\u001b[0m\u001b[0;34m\u001b[0m\u001b[0m\n",
      "\u001b[0;32m/usr/local/lib/python3.9/ssl.py\u001b[0m in \u001b[0;36mdo_handshake\u001b[0;34m(self, block)\u001b[0m\n\u001b[1;32m   1307\u001b[0m             \u001b[0;32mif\u001b[0m \u001b[0mtimeout\u001b[0m \u001b[0;34m==\u001b[0m \u001b[0;36m0.0\u001b[0m \u001b[0;32mand\u001b[0m \u001b[0mblock\u001b[0m\u001b[0;34m:\u001b[0m\u001b[0;34m\u001b[0m\u001b[0;34m\u001b[0m\u001b[0m\n\u001b[1;32m   1308\u001b[0m                 \u001b[0mself\u001b[0m\u001b[0;34m.\u001b[0m\u001b[0msettimeout\u001b[0m\u001b[0;34m(\u001b[0m\u001b[0;32mNone\u001b[0m\u001b[0;34m)\u001b[0m\u001b[0;34m\u001b[0m\u001b[0;34m\u001b[0m\u001b[0m\n\u001b[0;32m-> 1309\u001b[0;31m             \u001b[0mself\u001b[0m\u001b[0;34m.\u001b[0m\u001b[0m_sslobj\u001b[0m\u001b[0;34m.\u001b[0m\u001b[0mdo_handshake\u001b[0m\u001b[0;34m(\u001b[0m\u001b[0;34m)\u001b[0m\u001b[0;34m\u001b[0m\u001b[0;34m\u001b[0m\u001b[0m\n\u001b[0m\u001b[1;32m   1310\u001b[0m         \u001b[0;32mfinally\u001b[0m\u001b[0;34m:\u001b[0m\u001b[0;34m\u001b[0m\u001b[0;34m\u001b[0m\u001b[0m\n\u001b[1;32m   1311\u001b[0m             \u001b[0mself\u001b[0m\u001b[0;34m.\u001b[0m\u001b[0msettimeout\u001b[0m\u001b[0;34m(\u001b[0m\u001b[0mtimeout\u001b[0m\u001b[0;34m)\u001b[0m\u001b[0;34m\u001b[0m\u001b[0;34m\u001b[0m\u001b[0m\n",
      "\u001b[0;31mKeyboardInterrupt\u001b[0m: "
     ]
    }
   ],
   "source": [
    "%%time\n",
    "from tqdm import tqdm\n",
    "\n",
    "df['res_pos_full_count'] = pd.Series()\n",
    "df['res_neg_full_count'] = pd.Series()\n",
    "df['res_pos_full_prob'] = pd.Series()\n",
    "df['res_neg_full_prob'] = pd.Series()\n",
    "# df['res_neu_full_count'] = pd.Series()\n",
    "for i in tqdm(range(236)):\n",
    "    print(i)\n",
    "    sub_df = df.loc[i, :]#['BITCOIN_NE.text_last1days']\n",
    "    text_length = len(sub_df['text_full'])\n",
    "    res_pos = 0\n",
    "    res_pos_p = 0\n",
    "    res_neg = 0\n",
    "    res_neg_p = 0\n",
    "    for j in range(text_length):\n",
    "        try:\n",
    "            q = query(sub_df['text_full'][j])\n",
    "            current_res = q[0]\n",
    "            current_res_pos = current_res[0]['score']\n",
    "            current_res_neg = current_res[1]['score']\n",
    "            if current_res_pos>=current_res_neg:\n",
    "                res_pos += 1\n",
    "                res_pos_p += current_res_pos\n",
    "            else:\n",
    "                res_neg += 1\n",
    "                res_neg_p += current_res_neg\n",
    "        except Exception as e:\n",
    "            continue\n",
    "    df.loc[i, 'res_pos_full_count'] = res_pos\n",
    "    df.loc[i, 'res_neg_full_count'] = res_neg\n",
    "    df.loc[i, 'res_pos_full_prob'] = res_pos_p\n",
    "    df.loc[i, 'res_neg_full_prob'] = res_neg_p\n",
    "df"
   ]
  },
  {
   "cell_type": "code",
   "execution_count": 98,
   "id": "776af5f7",
   "metadata": {},
   "outputs": [
    {
     "data": {
      "text/plain": [
       "target                1.000000\n",
       "res_pos_full_count    0.231061\n",
       "res_neg_full_count    0.064298\n",
       "res_pos_full_prob     0.277992\n",
       "res_neg_full_prob     0.055759\n",
       "Name: target, dtype: float64"
      ]
     },
     "execution_count": 98,
     "metadata": {},
     "output_type": "execute_result"
    }
   ],
   "source": [
    "features = ['target', 'res_pos_full_count', 'res_neg_full_count', \"res_pos_full_prob\", \"res_neg_full_prob\"]\n",
    "df[features].dropna().corr()['target']"
   ]
  },
  {
   "cell_type": "code",
   "execution_count": null,
   "id": "2c2457f8",
   "metadata": {},
   "outputs": [],
   "source": []
  }
 ],
 "metadata": {
  "kernelspec": {
   "display_name": "Python 3 (ipykernel)",
   "language": "python",
   "name": "python3"
  },
  "language_info": {
   "codemirror_mode": {
    "name": "ipython",
    "version": 3
   },
   "file_extension": ".py",
   "mimetype": "text/x-python",
   "name": "python",
   "nbconvert_exporter": "python",
   "pygments_lexer": "ipython3",
   "version": "3.9.7"
  }
 },
 "nbformat": 4,
 "nbformat_minor": 5
}
