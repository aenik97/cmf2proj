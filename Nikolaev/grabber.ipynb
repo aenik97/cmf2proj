{
 "cells": [
  {
   "cell_type": "markdown",
   "metadata": {},
   "source": [
    "# Телеграм приложение, качает сообщения из телеграм чатов"
   ]
  },
  {
   "cell_type": "code",
   "execution_count": 1,
   "metadata": {},
   "outputs": [],
   "source": [
    "# https://proglib.io/p/pishem-prostoy-grabber-dlya-telegram-chatov-na-python-2019-11-06"
   ]
  },
  {
   "cell_type": "code",
   "execution_count": 2,
   "metadata": {},
   "outputs": [
    {
     "data": {
      "text/plain": [
       "array(['HTTPS://t.me/Steve_Admin', 'https://T.Me/Bitcoin',\n",
       "       'https://T.Me/Bitcoinistnews', 'https://T.Me/Coinfarm',\n",
       "       'https://T.Me/Cointelegraph'], dtype='<U44')"
      ]
     },
     "execution_count": 2,
     "metadata": {},
     "output_type": "execute_result"
    }
   ],
   "source": [
    "import requests\n",
    "from bs4 import BeautifulSoup, SoupStrainer\n",
    "import numpy as np\n",
    "\n",
    "headers = {'User-Agent': 'Mozilla/5.0 (Macintosh; Intel Mac OS X 10_11_5) AppleWebKit/537.36 (KHTML, like Gecko) Chrome/50.0.2661.102 Safari/537.36'}\n",
    "url = 'https://coingape.com/best-telegram-crypto-channels-list/'\n",
    "\n",
    "r = requests.get(url, headers=headers)\n",
    "\n",
    "\n",
    "links = []\n",
    "i = 0\n",
    "for link in BeautifulSoup(r.content, parse_only=SoupStrainer('a')):\n",
    "    if i == 0:\n",
    "        i += 1\n",
    "        continue\n",
    "    if link.has_attr('href'):\n",
    "        if link['href'].lower().startswith('https://t.me/'):\n",
    "            links.append(link['href'])\n",
    "links = np.unique(links)\n",
    "\n",
    "links[:5]"
   ]
  },
  {
   "cell_type": "code",
   "execution_count": 3,
   "metadata": {},
   "outputs": [
    {
     "data": {
      "text/plain": [
       "69"
      ]
     },
     "execution_count": 3,
     "metadata": {},
     "output_type": "execute_result"
    }
   ],
   "source": [
    "len(links)"
   ]
  },
  {
   "cell_type": "code",
   "execution_count": 25,
   "metadata": {},
   "outputs": [
    {
     "name": "stderr",
     "output_type": "stream",
     "text": [
      "/var/folders/jx/_kswgcgx081f3lcl2srys7rh0000gn/T/ipykernel_37832/1449463897.py:101: RuntimeWarning: coroutine 'AuthMethods._start' was never awaited\n",
      "  client.start()\n",
      "RuntimeWarning: Enable tracemalloc to get the object allocation traceback\n",
      "/var/folders/jx/_kswgcgx081f3lcl2srys7rh0000gn/T/ipykernel_37832/1449463897.py:107: RuntimeWarning: coroutine 'TelegramBaseClient.connect' was never awaited\n",
      "  client.connect()\n",
      "RuntimeWarning: Enable tracemalloc to get the object allocation traceback\n",
      "0it [00:00, ?it/s]"
     ]
    },
    {
     "name": "stdout",
     "output_type": "stream",
     "text": [
      "0 HTTPS://t.me/Steve_Admin\n"
     ]
    },
    {
     "name": "stderr",
     "output_type": "stream",
     "text": [
      "1it [00:05,  5.90s/it]"
     ]
    },
    {
     "name": "stdout",
     "output_type": "stream",
     "text": [
      "1 https://T.Me/Bitcoin\n"
     ]
    },
    {
     "name": "stderr",
     "output_type": "stream",
     "text": [
      "2it [00:10,  4.98s/it]"
     ]
    },
    {
     "name": "stdout",
     "output_type": "stream",
     "text": [
      "2 https://T.Me/Bitcoinistnews\n"
     ]
    },
    {
     "name": "stderr",
     "output_type": "stream",
     "text": [
      "3it [00:13,  4.30s/it]"
     ]
    },
    {
     "name": "stdout",
     "output_type": "stream",
     "text": [
      "3 https://T.Me/Coinfarm\n"
     ]
    },
    {
     "name": "stderr",
     "output_type": "stream",
     "text": [
      "4it [00:35, 11.11s/it]"
     ]
    }
   ],
   "source": [
    "import configparser\n",
    "import json\n",
    "\n",
    "from telethon.sync import TelegramClient\n",
    "from telethon import connection\n",
    "from telethon import errors\n",
    "\n",
    "\n",
    "# для корректного переноса времени сообщений в json\n",
    "from datetime import date, datetime\n",
    "\n",
    "# классы для работы с каналами\n",
    "from telethon.tl.functions.channels import GetParticipantsRequest\n",
    "from telethon.tl.types import ChannelParticipantsSearch\n",
    "\n",
    "# класс для работы с сообщениями\n",
    "from telethon.tl.functions.messages import GetHistoryRequest\n",
    "\n",
    "import pandas as pd\n",
    "pd.set_option(\"display.max_columns\",  200)\n",
    "\n",
    "\n",
    "\n",
    "# Считываем учетные данные\n",
    "config = configparser.ConfigParser()\n",
    "config.read(\"config.ini\")\n",
    "\n",
    "# Присваиваем значения внутренним переменным\n",
    "api_id   = config['Telegram']['api_id']\n",
    "api_hash = config['Telegram']['api_hash']\n",
    "username = config['Telegram']['username']\n",
    "\n",
    "\n",
    "# async def dump_all_participants(channel):\n",
    "#     \"\"\"Записывает json-файл с информацией о всех участниках канала/чата\"\"\"\n",
    "#     offset_user = 0    # номер участника, с которого начинается считывание\n",
    "#     limit_user = 100   # максимальное число записей, передаваемых за один раз\n",
    "\n",
    "#     all_participants = []   # список всех участников канала\n",
    "#     filter_user = ChannelParticipantsSearch('')\n",
    "\n",
    "#     while True:\n",
    "#         participants = await client(GetParticipantsRequest(\n",
    "#             channel, filter_user, offset_user, limit_user, hash=0))\n",
    "#         if not participants.users:\n",
    "#             break\n",
    "#         all_participants.extend(participants.users)\n",
    "#         offset_user += len(participants.users)\n",
    "#     return all_participants\n",
    "        \n",
    "        \n",
    "async def dump_all_messages(channel, num):\n",
    "    \"\"\"Записывает json-файл с информацией о всех сообщениях канала/чата\"\"\"\n",
    "    offset_msg = 0    # номер записи, с которой начинается считывание\n",
    "    limit_msg = 100   # максимальное число записей, передаваемых за один раз\n",
    "\n",
    "    all_messages = []   # список всех сообщений\n",
    "    total_messages = 0\n",
    "    total_count_limit = 0  # поменяйте это значение, если вам нужны не все сообщения\n",
    "\n",
    "#     class DateTimeEncoder(json.JSONEncoder):\n",
    "#         '''Класс для сериализации записи дат в JSON'''\n",
    "#         def default(self, o):\n",
    "#             if isinstance(o, datetime):\n",
    "#                 return o.isoformat()\n",
    "#             if isinstance(o, bytes):\n",
    "#                 return list(o)\n",
    "#             return json.JSONEncoder.default(self, o)\n",
    "\n",
    "    while True:\n",
    "        history = await client(GetHistoryRequest(\n",
    "            peer=channel,\n",
    "            offset_id=offset_msg,\n",
    "            offset_date=None, add_offset=0,\n",
    "            limit=limit_msg, max_id=0, min_id=0,\n",
    "            hash=0))\n",
    "        if not history.messages:\n",
    "            break\n",
    "        messages = history.messages\n",
    "        for message in messages:\n",
    "            all_messages.append(message.to_dict())\n",
    "        offset_msg = messages[len(messages) - 1].id\n",
    "        total_messages = len(all_messages)\n",
    "        if total_count_limit != 0 and total_messages >= total_count_limit:\n",
    "            break\n",
    "\n",
    "#     with open('channel_messages.json', 'w', encoding='utf8') as outfile:\n",
    "#         json.dump(all_messages, outfile, ensure_ascii=False, cls=DateTimeEncoder)\n",
    "    pd.DataFrame(all_messages).to_csv(f'channel_{num}.csv', index=False)     \n",
    "            \n",
    "client = TelegramClient(username, api_id, api_hash)\n",
    "\n",
    "\n",
    "# proxy = (proxy_server, proxy_port, proxy_key)\n",
    "\n",
    "# client = TelegramClient(username, api_id, api_hash,\n",
    "#     connection=connection.ConnectionTcpMTProxyRandomizedIntermediate,\n",
    "#     proxy=proxy)\n",
    "\n",
    "\n",
    "client.start()\n",
    "import asyncio\n",
    "import nest_asyncio\n",
    "nest_asyncio.apply()\n",
    "from tqdm import tqdm\n",
    "\n",
    "client.connect()\n",
    "\n",
    "all_messages = 0\n",
    "\n",
    "async def main():\n",
    "    for num, url in tqdm(enumerate(links)):\n",
    "        print(num, url)\n",
    "        try:\n",
    "            channel = await client.get_entity(links[18])\n",
    "        except ValueError:\n",
    "            pass\n",
    "#         await dump_all_participants(channel)\n",
    "        await dump_all_messages(channel, num)\n",
    "        \n",
    "    \n",
    "async with client:\n",
    "    client.loop.run_until_complete(main())\n",
    "#     client.disconnect()\n",
    "\n",
    "#     client.run_until_disconnected()\n",
    "\n",
    "# client.disconnect()"
   ]
  },
  {
   "cell_type": "markdown",
   "metadata": {},
   "source": [
    "# ячейку выше всю не запускал, долго"
   ]
  },
  {
   "cell_type": "code",
   "execution_count": 5,
   "metadata": {},
   "outputs": [],
   "source": [
    "dfs = []\n",
    "import pandas as pd\n",
    "for i in range(len(links)):\n",
    "    try:\n",
    "        dfs.append(pd.read_csv(f'channel_{i}.csv'))\n",
    "    except FileNotFoundError:\n",
    "        pass"
   ]
  },
  {
   "cell_type": "code",
   "execution_count": 6,
   "metadata": {},
   "outputs": [],
   "source": [
    "data = pd.concat(dfs)"
   ]
  },
  {
   "cell_type": "code",
   "execution_count": 7,
   "metadata": {},
   "outputs": [],
   "source": [
    "data.to_csv('all_chats.csv', index=False)"
   ]
  },
  {
   "cell_type": "code",
   "execution_count": 10,
   "metadata": {},
   "outputs": [],
   "source": [
    "# len(pd.read_csv('Bitcoin_tweets.csv'))\n",
    "# 1200k там"
   ]
  },
  {
   "cell_type": "code",
   "execution_count": 12,
   "metadata": {},
   "outputs": [
    {
     "data": {
      "text/plain": [
       "692246"
      ]
     },
     "execution_count": 12,
     "metadata": {},
     "output_type": "execute_result"
    }
   ],
   "source": [
    "len(data)"
   ]
  },
  {
   "cell_type": "code",
   "execution_count": 13,
   "metadata": {},
   "outputs": [
    {
     "data": {
      "text/html": [
       "<div>\n",
       "<style scoped>\n",
       "    .dataframe tbody tr th:only-of-type {\n",
       "        vertical-align: middle;\n",
       "    }\n",
       "\n",
       "    .dataframe tbody tr th {\n",
       "        vertical-align: top;\n",
       "    }\n",
       "\n",
       "    .dataframe thead th {\n",
       "        text-align: right;\n",
       "    }\n",
       "</style>\n",
       "<table border=\"1\" class=\"dataframe\">\n",
       "  <thead>\n",
       "    <tr style=\"text-align: right;\">\n",
       "      <th></th>\n",
       "      <th>_</th>\n",
       "      <th>id</th>\n",
       "      <th>peer_id</th>\n",
       "      <th>date</th>\n",
       "      <th>message</th>\n",
       "      <th>out</th>\n",
       "      <th>mentioned</th>\n",
       "      <th>media_unread</th>\n",
       "      <th>silent</th>\n",
       "      <th>post</th>\n",
       "      <th>...</th>\n",
       "      <th>entities</th>\n",
       "      <th>views</th>\n",
       "      <th>forwards</th>\n",
       "      <th>replies</th>\n",
       "      <th>edit_date</th>\n",
       "      <th>post_author</th>\n",
       "      <th>grouped_id</th>\n",
       "      <th>restriction_reason</th>\n",
       "      <th>ttl_period</th>\n",
       "      <th>action</th>\n",
       "    </tr>\n",
       "  </thead>\n",
       "  <tbody>\n",
       "    <tr>\n",
       "      <th>11824</th>\n",
       "      <td>Message</td>\n",
       "      <td>14354</td>\n",
       "      <td>{'_': 'PeerChannel', 'channel_id': 1230368984}</td>\n",
       "      <td>2019-08-22 09:33:06+00:00</td>\n",
       "      <td>📢 Upbit announced a new coin: TSHP</td>\n",
       "      <td>False</td>\n",
       "      <td>False</td>\n",
       "      <td>False</td>\n",
       "      <td>False</td>\n",
       "      <td>True</td>\n",
       "      <td>...</td>\n",
       "      <td>[]</td>\n",
       "      <td>5181.0</td>\n",
       "      <td>0.0</td>\n",
       "      <td>NaN</td>\n",
       "      <td>NaN</td>\n",
       "      <td>NaN</td>\n",
       "      <td>NaN</td>\n",
       "      <td>[]</td>\n",
       "      <td>NaN</td>\n",
       "      <td>NaN</td>\n",
       "    </tr>\n",
       "    <tr>\n",
       "      <th>8617</th>\n",
       "      <td>Message</td>\n",
       "      <td>17990</td>\n",
       "      <td>{'_': 'PeerChannel', 'channel_id': 1230368984}</td>\n",
       "      <td>2020-04-30 10:06:17+00:00</td>\n",
       "      <td>✅✅✅✅\\n\\njoin Vip of horror\\nhttps://forms.gle/...</td>\n",
       "      <td>False</td>\n",
       "      <td>False</td>\n",
       "      <td>False</td>\n",
       "      <td>False</td>\n",
       "      <td>True</td>\n",
       "      <td>...</td>\n",
       "      <td>[{'_': 'MessageEntityUrl', 'offset': 25, 'leng...</td>\n",
       "      <td>8323.0</td>\n",
       "      <td>2.0</td>\n",
       "      <td>NaN</td>\n",
       "      <td>NaN</td>\n",
       "      <td>NaN</td>\n",
       "      <td>NaN</td>\n",
       "      <td>[]</td>\n",
       "      <td>NaN</td>\n",
       "      <td>NaN</td>\n",
       "    </tr>\n",
       "    <tr>\n",
       "      <th>12325</th>\n",
       "      <td>Message</td>\n",
       "      <td>13772</td>\n",
       "      <td>{'_': 'PeerChannel', 'channel_id': 1230368984}</td>\n",
       "      <td>2019-06-26 21:37:53+00:00</td>\n",
       "      <td>i think we all should remember this day 26.6.2...</td>\n",
       "      <td>False</td>\n",
       "      <td>False</td>\n",
       "      <td>False</td>\n",
       "      <td>True</td>\n",
       "      <td>True</td>\n",
       "      <td>...</td>\n",
       "      <td>[]</td>\n",
       "      <td>10435.0</td>\n",
       "      <td>59.0</td>\n",
       "      <td>NaN</td>\n",
       "      <td>NaN</td>\n",
       "      <td>NaN</td>\n",
       "      <td>NaN</td>\n",
       "      <td>[]</td>\n",
       "      <td>NaN</td>\n",
       "      <td>NaN</td>\n",
       "    </tr>\n",
       "    <tr>\n",
       "      <th>7873</th>\n",
       "      <td>MessageService</td>\n",
       "      <td>18865</td>\n",
       "      <td>{'_': 'PeerChannel', 'channel_id': 1230368984}</td>\n",
       "      <td>2020-06-07 15:27:35+00:00</td>\n",
       "      <td>NaN</td>\n",
       "      <td>False</td>\n",
       "      <td>False</td>\n",
       "      <td>False</td>\n",
       "      <td>True</td>\n",
       "      <td>True</td>\n",
       "      <td>...</td>\n",
       "      <td>NaN</td>\n",
       "      <td>NaN</td>\n",
       "      <td>NaN</td>\n",
       "      <td>NaN</td>\n",
       "      <td>NaN</td>\n",
       "      <td>NaN</td>\n",
       "      <td>NaN</td>\n",
       "      <td>NaN</td>\n",
       "      <td>NaN</td>\n",
       "      <td>{'_': 'MessageActionPinMessage'}</td>\n",
       "    </tr>\n",
       "    <tr>\n",
       "      <th>8298</th>\n",
       "      <td>Message</td>\n",
       "      <td>18379</td>\n",
       "      <td>{'_': 'PeerChannel', 'channel_id': 1230368984}</td>\n",
       "      <td>2020-05-21 14:15:11+00:00</td>\n",
       "      <td>✅</td>\n",
       "      <td>False</td>\n",
       "      <td>False</td>\n",
       "      <td>False</td>\n",
       "      <td>False</td>\n",
       "      <td>True</td>\n",
       "      <td>...</td>\n",
       "      <td>[]</td>\n",
       "      <td>5593.0</td>\n",
       "      <td>1.0</td>\n",
       "      <td>NaN</td>\n",
       "      <td>NaN</td>\n",
       "      <td>NaN</td>\n",
       "      <td>NaN</td>\n",
       "      <td>[]</td>\n",
       "      <td>NaN</td>\n",
       "      <td>NaN</td>\n",
       "    </tr>\n",
       "  </tbody>\n",
       "</table>\n",
       "<p>5 rows × 30 columns</p>\n",
       "</div>"
      ],
      "text/plain": [
       "                    _     id                                         peer_id  \\\n",
       "11824         Message  14354  {'_': 'PeerChannel', 'channel_id': 1230368984}   \n",
       "8617          Message  17990  {'_': 'PeerChannel', 'channel_id': 1230368984}   \n",
       "12325         Message  13772  {'_': 'PeerChannel', 'channel_id': 1230368984}   \n",
       "7873   MessageService  18865  {'_': 'PeerChannel', 'channel_id': 1230368984}   \n",
       "8298          Message  18379  {'_': 'PeerChannel', 'channel_id': 1230368984}   \n",
       "\n",
       "                            date  \\\n",
       "11824  2019-08-22 09:33:06+00:00   \n",
       "8617   2020-04-30 10:06:17+00:00   \n",
       "12325  2019-06-26 21:37:53+00:00   \n",
       "7873   2020-06-07 15:27:35+00:00   \n",
       "8298   2020-05-21 14:15:11+00:00   \n",
       "\n",
       "                                                 message    out  mentioned  \\\n",
       "11824                 📢 Upbit announced a new coin: TSHP  False      False   \n",
       "8617   ✅✅✅✅\\n\\njoin Vip of horror\\nhttps://forms.gle/...  False      False   \n",
       "12325  i think we all should remember this day 26.6.2...  False      False   \n",
       "7873                                                 NaN  False      False   \n",
       "8298                                                   ✅  False      False   \n",
       "\n",
       "       media_unread  silent  post  ...  \\\n",
       "11824         False   False  True  ...   \n",
       "8617          False   False  True  ...   \n",
       "12325         False    True  True  ...   \n",
       "7873          False    True  True  ...   \n",
       "8298          False   False  True  ...   \n",
       "\n",
       "                                                entities    views forwards  \\\n",
       "11824                                                 []   5181.0      0.0   \n",
       "8617   [{'_': 'MessageEntityUrl', 'offset': 25, 'leng...   8323.0      2.0   \n",
       "12325                                                 []  10435.0     59.0   \n",
       "7873                                                 NaN      NaN      NaN   \n",
       "8298                                                  []   5593.0      1.0   \n",
       "\n",
       "      replies  edit_date post_author  grouped_id restriction_reason  \\\n",
       "11824     NaN        NaN         NaN         NaN                 []   \n",
       "8617      NaN        NaN         NaN         NaN                 []   \n",
       "12325     NaN        NaN         NaN         NaN                 []   \n",
       "7873      NaN        NaN         NaN         NaN                NaN   \n",
       "8298      NaN        NaN         NaN         NaN                 []   \n",
       "\n",
       "      ttl_period                            action  \n",
       "11824        NaN                               NaN  \n",
       "8617         NaN                               NaN  \n",
       "12325        NaN                               NaN  \n",
       "7873         NaN  {'_': 'MessageActionPinMessage'}  \n",
       "8298         NaN                               NaN  \n",
       "\n",
       "[5 rows x 30 columns]"
      ]
     },
     "execution_count": 13,
     "metadata": {},
     "output_type": "execute_result"
    }
   ],
   "source": [
    "data.sample(5)"
   ]
  },
  {
   "cell_type": "markdown",
   "metadata": {},
   "source": [
    "# В итоге было решено не использовать эти данные из-за их неоднородности и того что все модели которые можно позаимствовать написаны с твитера"
   ]
  },
  {
   "cell_type": "markdown",
   "metadata": {},
   "source": [
    "# Но можно выкачать отдельные каналы похожие на твиттер"
   ]
  }
 ],
 "metadata": {
  "interpreter": {
   "hash": "949777d72b0d2535278d3dc13498b2535136f6dfe0678499012e853ee9abcab1"
  },
  "kernelspec": {
   "display_name": "Python 3.9.7 64-bit",
   "name": "python3"
  },
  "language_info": {
   "codemirror_mode": {
    "name": "ipython",
    "version": 3
   },
   "file_extension": ".py",
   "mimetype": "text/x-python",
   "name": "python",
   "nbconvert_exporter": "python",
   "pygments_lexer": "ipython3",
   "version": "3.9.7"
  }
 },
 "nbformat": 4,
 "nbformat_minor": 4
}
