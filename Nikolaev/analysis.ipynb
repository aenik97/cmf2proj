{
  "nbformat": 4,
  "nbformat_minor": 0,
  "metadata": {
    "colab": {
      "name": "analysis.ipynb",
      "provenance": [],
      "collapsed_sections": [],
      "machine_shape": "hm"
    },
    "kernelspec": {
      "name": "python3",
      "display_name": "Python 3"
    },
    "language_info": {
      "name": "python"
    }
  },
  "cells": [
    {
      "cell_type": "markdown",
      "metadata": {
        "id": "la_v79vGeMBy"
      },
      "source": [
        "# Давайте проанализируем датасет который мы получили в предыдущем ноутбуке"
      ]
    },
    {
      "cell_type": "code",
      "metadata": {
        "id": "Q72M_cn7kY3N",
        "colab": {
          "base_uri": "https://localhost:8080/"
        },
        "outputId": "db51fd10-c242-417b-814c-f6f825002b8c"
      },
      "source": [
        "from google.colab import drive\n",
        "drive.mount('/content/drive')"
      ],
      "execution_count": 1,
      "outputs": [
        {
          "output_type": "stream",
          "name": "stdout",
          "text": [
            "Drive already mounted at /content/drive; to attempt to forcibly remount, call drive.mount(\"/content/drive\", force_remount=True).\n"
          ]
        }
      ]
    },
    {
      "cell_type": "code",
      "metadata": {
        "id": "qvqUMZfjkO_5"
      },
      "source": [
        "import numpy as np\n",
        "import pandas as pd\n",
        "\n",
        "from tqdm.notebook import tqdm\n",
        "\n",
        "import matplotlib.pyplot as plt"
      ],
      "execution_count": 2,
      "outputs": []
    },
    {
      "cell_type": "code",
      "metadata": {
        "colab": {
          "base_uri": "https://localhost:8080/"
        },
        "id": "Tin_tzCepls0",
        "outputId": "189bdb26-c16c-4366-9076-5aaa7e188eb6"
      },
      "source": [
        "!no | cp drive/MyDrive/ColabNotebooks/cmf/project2/btc.csv.zip btc.zip\n",
        "\n",
        "!no | unzip btc.zip"
      ],
      "execution_count": 3,
      "outputs": [
        {
          "output_type": "stream",
          "name": "stdout",
          "text": [
            "/bin/bash: no: command not found\n",
            "/bin/bash: no: command not found\n",
            "Archive:  btc.zip\n",
            "replace btc.csv? [y]es, [n]o, [A]ll, [N]one, [r]ename:  NULL\n",
            "(EOF or read error, treating as \"[N]one\" ...)\n"
          ]
        }
      ]
    },
    {
      "cell_type": "markdown",
      "metadata": {
        "id": "_dP828aUeZrw"
      },
      "source": [
        "##### уберем проблемы в данных"
      ]
    },
    {
      "cell_type": "markdown",
      "metadata": {
        "id": "EnmOVMRdefiW"
      },
      "source": [
        "Для курса btc я взял достаточно актуальный датасет с дневными ценами, важно что в нем есть цена открытия и цена закрытия"
      ]
    },
    {
      "cell_type": "code",
      "metadata": {
        "colab": {
          "base_uri": "https://localhost:8080/"
        },
        "id": "KwWlIt7TrNcN",
        "outputId": "0382e40e-70c7-4480-acdf-4b1e37f9954a"
      },
      "source": [
        "from datetime import datetime\n",
        "def check_date(date):\n",
        "    try:\n",
        "        datetime.strptime(str(date),'%Y-%m-%d %H:%M:%S')\n",
        "        return True\n",
        "    except ValueError as err:\n",
        "        return False\n",
        "\n",
        "\n",
        "\n",
        "data = pd.read_csv('drive/MyDrive/ColabNotebooks/cmf/project2/all_bert_all_2epoch.csv')\n",
        "\n",
        "data = data[data['date'].apply(lambda x: check_date(x))]\n",
        "data['datetime'] = data['date'].apply(lambda x: datetime.strptime(str(x), '%Y-%m-%d %H:%M:%S'))\n",
        "# data['Twit_Timestamp'] = data['date'].astype('int64') // 10**9\n",
        "# data['datetime'] = data['Twit_Timestamp'].apply(lambda x: datetime.fromtimestamp(x))\n",
        "# data = data.sort_values('Twit_Timestamp')\n",
        "# data['id'] = np.arange(len(data))\n",
        "\n",
        "btc = pd.read_csv('btc.csv', parse_dates=['Date'])\n",
        "btc = btc.set_index(btc['Date'].dt.date)"
      ],
      "execution_count": 4,
      "outputs": [
        {
          "output_type": "stream",
          "name": "stderr",
          "text": [
            "/usr/local/lib/python3.7/dist-packages/IPython/core/interactiveshell.py:2718: DtypeWarning: Columns (5,6,7,12) have mixed types.Specify dtype option on import or set low_memory=False.\n",
            "  interactivity=interactivity, compiler=compiler, result=result)\n"
          ]
        }
      ]
    },
    {
      "cell_type": "markdown",
      "metadata": {
        "id": "k3fVjndCk3cy"
      },
      "source": [
        "# Немного посмотрим на данные"
      ]
    },
    {
      "cell_type": "markdown",
      "metadata": {
        "id": "r_Jwo6vMe63Y"
      },
      "source": [
        "Здесь видно даты за которые у нас есть и курс и твиты. курс - оранжевая линия, твиты-синяя. Плохо что пересечение маленькое, причем я подбирал множетсво разных датасетов ситуация всегда остается +- такой же.\n",
        "<br>\n",
        "Однако я анализировал большой датасет в котором было много твитов с 2015 года (но на всех языках мира, переводить датасет оч было долго) и могу сказать что в 2019 произошел непонятный бум, твитов в тот год было в 20 раз больше чем за все предыдущие годы вместе взятые, что говорит о том, что предпослыка должна работать примерно с 2019 и ранее среда была другой, значит там и так можно не анализировать"
      ]
    },
    {
      "cell_type": "code",
      "metadata": {
        "colab": {
          "base_uri": "https://localhost:8080/",
          "height": 293
        },
        "id": "dBnXxwjuk24B",
        "outputId": "01356c82-3d37-4488-c10f-2436c2b1fcab"
      },
      "source": [
        "data.groupby(data['datetime'].dt.date).apply(len).plot(label=\"число твитов в сутки\")\n",
        "\n",
        "\n",
        "start_date = data['datetime'].min()\n",
        "btc[btc['Date'] > start_date].set_index('Date')['Close'].plot(label=\"цена btc\")\n",
        "plt.legend(loc=\"upper right\")\n",
        "\n",
        "plt.title('Наглядно твиты и цена')\n",
        "plt.show()"
      ],
      "execution_count": 5,
      "outputs": [
        {
          "output_type": "display_data",
          "data": {
            "image/png": "[encoded data removed]",
            "text/plain": [
              "<Figure size 432x288 with 1 Axes>"
            ]
          },
          "metadata": {
            "needs_background": "light"
          }
        }
      ]
    },
    {
      "cell_type": "markdown",
      "metadata": {
        "id": "RkGwGfndgZDC"
      },
      "source": [
        "Посмотрим интенсивность активности, заодно ранее возникали вопросы к качеству даных"
      ]
    },
    {
      "cell_type": "code",
      "metadata": {
        "colab": {
          "base_uri": "https://localhost:8080/",
          "height": 281
        },
        "id": "N5qqEgA89dzT",
        "outputId": "07fad34a-5e85-463e-bf2a-05711844732c"
      },
      "source": [
        "data.groupby(data['datetime'].dt.date)['score'].count().hist()\n",
        "plt.title('Число твитов в день - распределение')\n",
        "plt.show()"
      ],
      "execution_count": 6,
      "outputs": [
        {
          "output_type": "display_data",
          "data": {
            "image/png": "[encoded data removed]",
            "text/plain": [
              "<Figure size 432x288 with 1 Axes>"
            ]
          },
          "metadata": {
            "needs_background": "light"
          }
        }
      ]
    },
    {
      "cell_type": "markdown",
      "metadata": {
        "id": "bQrw89P8iDUj"
      },
      "source": [
        "# Посмотрим как обычно распределены твиты на примере 5 рандомных дней"
      ]
    },
    {
      "cell_type": "code",
      "metadata": {
        "id": "q3m_fZJxj7GH"
      },
      "source": [
        "# scipy.stats.skew"
      ],
      "execution_count": 7,
      "outputs": []
    },
    {
      "cell_type": "code",
      "metadata": {
        "colab": {
          "base_uri": "https://localhost:8080/",
          "height": 1000
        },
        "id": "V3gLhgB9hizG",
        "outputId": "11bd39f0-da59-4b3d-f459-cb12495c35b8"
      },
      "source": [
        "for d in np.random.choice(data['datetime'].dt.date.unique(), 5):\n",
        "    data[data['datetime'].dt.date == d]['score'].hist()\n",
        "    plt.show()"
      ],
      "execution_count": 8,
      "outputs": [
        {
          "output_type": "display_data",
          "data": {
            "image/png": "[encoded data removed]",
            "text/plain": [
              "<Figure size 432x288 with 1 Axes>"
            ]
          },
          "metadata": {
            "needs_background": "light"
          }
        },
        {
          "output_type": "display_data",
          "data": {
            "image/png": "[encoded data removed]",
            "text/plain": [
              "<Figure size 432x288 with 1 Axes>"
            ]
          },
          "metadata": {
            "needs_background": "light"
          }
        },
        {
          "output_type": "display_data",
          "data": {
            "image/png": "[encoded data removed]",
            "text/plain": [
              "<Figure size 432x288 with 1 Axes>"
            ]
          },
          "metadata": {
            "needs_background": "light"
          }
        },
        {
          "output_type": "display_data",
          "data": {
            "image/png": "[encoded data removed]",
            "text/plain": [
              "<Figure size 432x288 with 1 Axes>"
            ]
          },
          "metadata": {
            "needs_background": "light"
          }
        },
        {
          "output_type": "display_data",
          "data": {
            "image/png": "[encoded data removed]",
            "text/plain": [
              "<Figure size 432x288 with 1 Axes>"
            ]
          },
          "metadata": {
            "needs_background": "light"
          }
        }
      ]
    },
    {
      "cell_type": "markdown",
      "metadata": {
        "id": "A8kcpIFignbs"
      },
      "source": [
        "# Наша скор новостей - мединное настроение за день. оно просто отражает как говорили вчера люди"
      ]
    },
    {
      "cell_type": "code",
      "metadata": {
        "id": "XgixWfHG9CJE"
      },
      "source": [
        "# from scipy.stats import skew, kurtosis\n",
        "# data['h'] = np.sqrt(data['datetime'].dt.hour / 24)\n",
        "\n",
        "date_score = data.groupby(data['datetime'].dt.date)['score'].median()\n",
        "# date_score = data.groupby(data['datetime'].dt.date).apply(lambda x: (x['score'] * x['h']).median())"
      ],
      "execution_count": 9,
      "outputs": []
    },
    {
      "cell_type": "markdown",
      "metadata": {
        "id": "Uds9KjTWPEuu"
      },
      "source": [
        "# Сделаем таргет\n",
        "Таргет - разница в цене открытия след дня и цене закрытия предыдущего\n",
        "Получен эксперементальным и логическим путем.\n",
        "\n",
        "Идея была навеяна тем что в момент открытия рынка ценой движут ожидания, ожидания же как я предпологаю складываются из вчерашней новостной повестки"
      ]
    },
    {
      "cell_type": "code",
      "metadata": {
        "id": "Pj0CdwXpPEEN"
      },
      "source": [
        "btc['target'] = np.log(btc['Open']) - np.log(btc['Close'].shift())"
      ],
      "execution_count": 10,
      "outputs": []
    },
    {
      "cell_type": "markdown",
      "metadata": {
        "id": "LVE7_lK0nahZ"
      },
      "source": [
        "Сведем все в одну таблицу"
      ]
    },
    {
      "cell_type": "code",
      "metadata": {
        "id": "JI70U7ys-Fd4"
      },
      "source": [
        "tbl = pd.concat([btc['target'], date_score], axis=1)"
      ],
      "execution_count": 11,
      "outputs": []
    },
    {
      "cell_type": "code",
      "metadata": {
        "id": "Bw5_l37d_NO3"
      },
      "source": [
        "tbl = tbl[~tbl.isnull().any(axis=1)]\n",
        "tbl.columns = ['target', 'score']"
      ],
      "execution_count": 12,
      "outputs": []
    },
    {
      "cell_type": "code",
      "metadata": {
        "colab": {
          "base_uri": "https://localhost:8080/",
          "height": 204
        },
        "id": "LK3-e_-3O8NK",
        "outputId": "f9ae1bad-cee9-4787-a61f-b89f18da994c"
      },
      "source": [
        "tbl.head()"
      ],
      "execution_count": 13,
      "outputs": [
        {
          "output_type": "execute_result",
          "data": {
            "text/html": [
              "<div>\n",
              "<style scoped>\n",
              "    .dataframe tbody tr th:only-of-type {\n",
              "        vertical-align: middle;\n",
              "    }\n",
              "\n",
              "    .dataframe tbody tr th {\n",
              "        vertical-align: top;\n",
              "    }\n",
              "\n",
              "    .dataframe thead th {\n",
              "        text-align: right;\n",
              "    }\n",
              "</style>\n",
              "<table border=\"1\" class=\"dataframe\">\n",
              "  <thead>\n",
              "    <tr style=\"text-align: right;\">\n",
              "      <th></th>\n",
              "      <th>target</th>\n",
              "      <th>score</th>\n",
              "    </tr>\n",
              "  </thead>\n",
              "  <tbody>\n",
              "    <tr>\n",
              "      <th>2021-02-05</th>\n",
              "      <td>0.000148</td>\n",
              "      <td>0.836074</td>\n",
              "    </tr>\n",
              "    <tr>\n",
              "      <th>2021-02-06</th>\n",
              "      <td>-0.000155</td>\n",
              "      <td>0.853614</td>\n",
              "    </tr>\n",
              "    <tr>\n",
              "      <th>2021-02-07</th>\n",
              "      <td>-0.000403</td>\n",
              "      <td>0.896033</td>\n",
              "    </tr>\n",
              "    <tr>\n",
              "      <th>2021-02-08</th>\n",
              "      <td>-0.000427</td>\n",
              "      <td>0.872234</td>\n",
              "    </tr>\n",
              "    <tr>\n",
              "      <th>2021-02-09</th>\n",
              "      <td>-0.000248</td>\n",
              "      <td>0.845333</td>\n",
              "    </tr>\n",
              "  </tbody>\n",
              "</table>\n",
              "</div>"
            ],
            "text/plain": [
              "              target     score\n",
              "2021-02-05  0.000148  0.836074\n",
              "2021-02-06 -0.000155  0.853614\n",
              "2021-02-07 -0.000403  0.896033\n",
              "2021-02-08 -0.000427  0.872234\n",
              "2021-02-09 -0.000248  0.845333"
            ]
          },
          "metadata": {},
          "execution_count": 13
        }
      ]
    },
    {
      "cell_type": "markdown",
      "metadata": {
        "id": "OaFOb0u4TngM"
      },
      "source": [
        "# Посмотрим"
      ]
    },
    {
      "cell_type": "code",
      "metadata": {
        "colab": {
          "base_uri": "https://localhost:8080/"
        },
        "id": "CeKpnocHSw5s",
        "outputId": "6620b373-3c93-4687-93df-8036f3411c05"
      },
      "source": [
        "len(tbl)"
      ],
      "execution_count": 14,
      "outputs": [
        {
          "output_type": "execute_result",
          "data": {
            "text/plain": [
              "44"
            ]
          },
          "metadata": {},
          "execution_count": 14
        }
      ]
    },
    {
      "cell_type": "markdown",
      "metadata": {
        "id": "3tTvBwCajOBQ"
      },
      "source": [
        "#### Табличка получилась маленькая. Как ранее и замечалось датасеты с твитами достаточно плохие, нужно парсить свой. Например ниже дата и точка если наблюдение присутствует, видим непонятные пропуски в данных с твитами"
      ]
    },
    {
      "cell_type": "code",
      "metadata": {
        "colab": {
          "base_uri": "https://localhost:8080/",
          "height": 298
        },
        "id": "3crRKsd9RLxf",
        "outputId": "bae01fa2-1d24-44b2-c055-edc6104a4e33"
      },
      "source": [
        "plt.scatter(x=tbl.index.values.tolist(), y=[1] * len(tbl))\n",
        "plt.title('Точки где есть цена и твиты')"
      ],
      "execution_count": 15,
      "outputs": [
        {
          "output_type": "execute_result",
          "data": {
            "text/plain": [
              "Text(0.5, 1.0, 'Точки где есть цена и твиты')"
            ]
          },
          "metadata": {},
          "execution_count": 15
        },
        {
          "output_type": "display_data",
          "data": {
            "image/png": "[encoded data removed]",
            "text/plain": [
              "<Figure size 432x288 with 1 Axes>"
            ]
          },
          "metadata": {
            "needs_background": "light"
          }
        }
      ]
    },
    {
      "cell_type": "markdown",
      "metadata": {
        "id": "YSLFCMWWSyy1"
      },
      "source": [
        "Размер таблички получился так себе, потому что данные о твитах с непонятными пропусками в данных"
      ]
    },
    {
      "cell_type": "code",
      "metadata": {
        "colab": {
          "base_uri": "https://localhost:8080/",
          "height": 295
        },
        "id": "NaDBpVbO_kpK",
        "outputId": "f3937dd1-bf2c-4f4a-855c-349db18396ff"
      },
      "source": [
        "plt.scatter(tbl['score'], tbl['target'])\n",
        "\n",
        "\n",
        "# plt.xlim(0, 1)\n",
        "# plt.ylim(-0.001, 0.001)\n",
        "plt.xlabel('median non-toxic score')\n",
        "plt.ylabel('ln(open/close)')\n",
        "plt.title('s')\n",
        "plt.show()"
      ],
      "execution_count": 16,
      "outputs": [
        {
          "output_type": "display_data",
          "data": {
            "image/png": "[encoded data removed]",
            "text/plain": [
              "<Figure size 432x288 with 1 Axes>"
            ]
          },
          "metadata": {
            "needs_background": "light"
          }
        }
      ]
    },
    {
      "cell_type": "markdown",
      "metadata": {
        "id": "9byME-UATboN"
      },
      "source": [
        "Замечательно! видна корреляция, но только глазом, но 0.33 все же достаточно для того чтобы капать глубже"
      ]
    },
    {
      "cell_type": "code",
      "metadata": {
        "colab": {
          "base_uri": "https://localhost:8080/"
        },
        "id": "AqPHgXUl_cgt",
        "outputId": "f736487d-9f5e-429a-c68a-5016ab837bb1"
      },
      "source": [
        "np.corrcoef(tbl['score'], tbl['target'])"
      ],
      "execution_count": 17,
      "outputs": [
        {
          "output_type": "execute_result",
          "data": {
            "text/plain": [
              "array([[ 1.        , -0.33526606],\n",
              "       [-0.33526606,  1.        ]])"
            ]
          },
          "metadata": {},
          "execution_count": 17
        }
      ]
    },
    {
      "cell_type": "code",
      "metadata": {
        "colab": {
          "base_uri": "https://localhost:8080/"
        },
        "id": "3_IGv9O099UQ",
        "outputId": "8ed39015-6638-41f2-af56-1ae521773948"
      },
      "source": [
        "from scipy.stats import pearsonr\n",
        "pearsonr(tbl['score'], tbl['target'])[1]"
      ],
      "execution_count": 18,
      "outputs": [
        {
          "output_type": "execute_result",
          "data": {
            "text/plain": [
              "0.02610091136314166"
            ]
          },
          "metadata": {},
          "execution_count": 18
        }
      ]
    },
    {
      "cell_type": "markdown",
      "metadata": {
        "id": "EtrycaXT-eRQ"
      },
      "source": [
        "P_value теста Пирсона 0.026, значит мы не можем отклонить гипотезу о независимости"
      ]
    },
    {
      "cell_type": "markdown",
      "metadata": {
        "id": "L6vtWS1F4Vye"
      },
      "source": [
        "Так же есть ощущение что есть два облака, одно 'поперечное' и одно 'продольное' сверху вниз по углом, конечно продольное говорит о том что наша фича не работает, но под лекгим углом дает надежду.\n"
      ]
    },
    {
      "cell_type": "markdown",
      "metadata": {
        "id": "0681BHvdwLVH"
      },
      "source": [
        "# Model"
      ]
    }
  ]
}